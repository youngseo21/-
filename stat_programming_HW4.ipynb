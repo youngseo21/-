{
  "nbformat": 4,
  "nbformat_minor": 0,
  "metadata": {
    "kernelspec": {
      "display_name": "Python 3",
      "language": "python",
      "name": "python3"
    },
    "language_info": {
      "codemirror_mode": {
        "name": "ipython",
        "version": 3
      },
      "file_extension": ".py",
      "mimetype": "text/x-python",
      "name": "python",
      "nbconvert_exporter": "python",
      "pygments_lexer": "ipython3",
      "version": "3.6.5"
    },
    "colab": {
      "provenance": [],
      "collapsed_sections": [],
      "include_colab_link": true
    }
  },
  "cells": [
    {
      "cell_type": "markdown",
      "metadata": {
        "id": "view-in-github",
        "colab_type": "text"
      },
      "source": [
        "<a href=\"https://colab.research.google.com/github/youngseo21/stat_programming/blob/main/stat_programming_HW4.ipynb\" target=\"_parent\"><img src=\"https://colab.research.google.com/assets/colab-badge.svg\" alt=\"Open In Colab\"/></a>"
      ]
    },
    {
      "cell_type": "markdown",
      "metadata": {
        "id": "qWfIX1I7GZpq"
      },
      "source": [
        "# Introduction\n",
        "\n",
        "The first step in most data analytics projects is reading the data file. In this exercise, you'll create Series and DataFrame objects, both by hand and by reading data files.\n",
        "\n",
        "Run the code cell below to load libraries you will need (including code to check your answers)."
      ]
    },
    {
      "cell_type": "code",
      "metadata": {
        "id": "01Vzj9VaGZps"
      },
      "source": [
        "import pandas as pd"
      ],
      "execution_count": null,
      "outputs": []
    },
    {
      "cell_type": "markdown",
      "metadata": {
        "id": "IDPIZRw-GZpt"
      },
      "source": [
        "# Exercises"
      ]
    },
    {
      "cell_type": "markdown",
      "metadata": {
        "id": "fbZAgnlkGZpu"
      },
      "source": [
        "## 1.\n",
        "\n",
        "In the cell below, create a DataFrame `fruits` that looks like this:\n",
        "\n",
        "![](https://i.imgur.com/Ax3pp2A.png)"
      ]
    },
    {
      "cell_type": "code",
      "metadata": {
        "colab": {
          "base_uri": "https://localhost:8080/",
          "height": 81
        },
        "id": "3xZswhL9GZpu",
        "outputId": "c873965c-531c-47aa-8c29-e92f50025d83"
      },
      "source": [
        "fruits = pd.DataFrame({\"Apples\":[30], \"Bananas\":[21]})\n",
        "fruits"
      ],
      "execution_count": null,
      "outputs": [
        {
          "output_type": "execute_result",
          "data": {
            "text/plain": [
              "   Apples  Bananas\n",
              "0      30       21"
            ],
            "text/html": [
              "\n",
              "  <div id=\"df-ee2b2242-f76f-42d4-90c5-34b7df2dc5f6\">\n",
              "    <div class=\"colab-df-container\">\n",
              "      <div>\n",
              "<style scoped>\n",
              "    .dataframe tbody tr th:only-of-type {\n",
              "        vertical-align: middle;\n",
              "    }\n",
              "\n",
              "    .dataframe tbody tr th {\n",
              "        vertical-align: top;\n",
              "    }\n",
              "\n",
              "    .dataframe thead th {\n",
              "        text-align: right;\n",
              "    }\n",
              "</style>\n",
              "<table border=\"1\" class=\"dataframe\">\n",
              "  <thead>\n",
              "    <tr style=\"text-align: right;\">\n",
              "      <th></th>\n",
              "      <th>Apples</th>\n",
              "      <th>Bananas</th>\n",
              "    </tr>\n",
              "  </thead>\n",
              "  <tbody>\n",
              "    <tr>\n",
              "      <th>0</th>\n",
              "      <td>30</td>\n",
              "      <td>21</td>\n",
              "    </tr>\n",
              "  </tbody>\n",
              "</table>\n",
              "</div>\n",
              "      <button class=\"colab-df-convert\" onclick=\"convertToInteractive('df-ee2b2242-f76f-42d4-90c5-34b7df2dc5f6')\"\n",
              "              title=\"Convert this dataframe to an interactive table.\"\n",
              "              style=\"display:none;\">\n",
              "        \n",
              "  <svg xmlns=\"http://www.w3.org/2000/svg\" height=\"24px\"viewBox=\"0 0 24 24\"\n",
              "       width=\"24px\">\n",
              "    <path d=\"M0 0h24v24H0V0z\" fill=\"none\"/>\n",
              "    <path d=\"M18.56 5.44l.94 2.06.94-2.06 2.06-.94-2.06-.94-.94-2.06-.94 2.06-2.06.94zm-11 1L8.5 8.5l.94-2.06 2.06-.94-2.06-.94L8.5 2.5l-.94 2.06-2.06.94zm10 10l.94 2.06.94-2.06 2.06-.94-2.06-.94-.94-2.06-.94 2.06-2.06.94z\"/><path d=\"M17.41 7.96l-1.37-1.37c-.4-.4-.92-.59-1.43-.59-.52 0-1.04.2-1.43.59L10.3 9.45l-7.72 7.72c-.78.78-.78 2.05 0 2.83L4 21.41c.39.39.9.59 1.41.59.51 0 1.02-.2 1.41-.59l7.78-7.78 2.81-2.81c.8-.78.8-2.07 0-2.86zM5.41 20L4 18.59l7.72-7.72 1.47 1.35L5.41 20z\"/>\n",
              "  </svg>\n",
              "      </button>\n",
              "      \n",
              "  <style>\n",
              "    .colab-df-container {\n",
              "      display:flex;\n",
              "      flex-wrap:wrap;\n",
              "      gap: 12px;\n",
              "    }\n",
              "\n",
              "    .colab-df-convert {\n",
              "      background-color: #E8F0FE;\n",
              "      border: none;\n",
              "      border-radius: 50%;\n",
              "      cursor: pointer;\n",
              "      display: none;\n",
              "      fill: #1967D2;\n",
              "      height: 32px;\n",
              "      padding: 0 0 0 0;\n",
              "      width: 32px;\n",
              "    }\n",
              "\n",
              "    .colab-df-convert:hover {\n",
              "      background-color: #E2EBFA;\n",
              "      box-shadow: 0px 1px 2px rgba(60, 64, 67, 0.3), 0px 1px 3px 1px rgba(60, 64, 67, 0.15);\n",
              "      fill: #174EA6;\n",
              "    }\n",
              "\n",
              "    [theme=dark] .colab-df-convert {\n",
              "      background-color: #3B4455;\n",
              "      fill: #D2E3FC;\n",
              "    }\n",
              "\n",
              "    [theme=dark] .colab-df-convert:hover {\n",
              "      background-color: #434B5C;\n",
              "      box-shadow: 0px 1px 3px 1px rgba(0, 0, 0, 0.15);\n",
              "      filter: drop-shadow(0px 1px 2px rgba(0, 0, 0, 0.3));\n",
              "      fill: #FFFFFF;\n",
              "    }\n",
              "  </style>\n",
              "\n",
              "      <script>\n",
              "        const buttonEl =\n",
              "          document.querySelector('#df-ee2b2242-f76f-42d4-90c5-34b7df2dc5f6 button.colab-df-convert');\n",
              "        buttonEl.style.display =\n",
              "          google.colab.kernel.accessAllowed ? 'block' : 'none';\n",
              "\n",
              "        async function convertToInteractive(key) {\n",
              "          const element = document.querySelector('#df-ee2b2242-f76f-42d4-90c5-34b7df2dc5f6');\n",
              "          const dataTable =\n",
              "            await google.colab.kernel.invokeFunction('convertToInteractive',\n",
              "                                                     [key], {});\n",
              "          if (!dataTable) return;\n",
              "\n",
              "          const docLinkHtml = 'Like what you see? Visit the ' +\n",
              "            '<a target=\"_blank\" href=https://colab.research.google.com/notebooks/data_table.ipynb>data table notebook</a>'\n",
              "            + ' to learn more about interactive tables.';\n",
              "          element.innerHTML = '';\n",
              "          dataTable['output_type'] = 'display_data';\n",
              "          await google.colab.output.renderOutput(dataTable, element);\n",
              "          const docLink = document.createElement('div');\n",
              "          docLink.innerHTML = docLinkHtml;\n",
              "          element.appendChild(docLink);\n",
              "        }\n",
              "      </script>\n",
              "    </div>\n",
              "  </div>\n",
              "  "
            ]
          },
          "metadata": {},
          "execution_count": 6
        }
      ]
    },
    {
      "cell_type": "markdown",
      "metadata": {
        "id": "WesCufgLGZpw"
      },
      "source": [
        "## 2.\n",
        "\n",
        "Create a dataframe `fruit_sales` that matches the diagram below:\n",
        "\n",
        "![](https://i.imgur.com/CHPn7ZF.png)"
      ]
    },
    {
      "cell_type": "code",
      "metadata": {
        "id": "6KFRP6NvZz6Q",
        "colab": {
          "base_uri": "https://localhost:8080/",
          "height": 112
        },
        "outputId": "21a9154b-31b6-46a8-a096-69d5de043b39"
      },
      "source": [
        "fruit_sales = pd.DataFrame({\"Apples\":[35, 41], \"Bananas\":[21,34]})\n",
        "fruit_sales.index = [\"2017 Sales\", \"2018 Sales\"]\n",
        "fruit_sales"
      ],
      "execution_count": null,
      "outputs": [
        {
          "output_type": "execute_result",
          "data": {
            "text/plain": [
              "            Apples  Bananas\n",
              "2017 Sales      35       21\n",
              "2018 Sales      41       34"
            ],
            "text/html": [
              "\n",
              "  <div id=\"df-109147ad-10bc-460b-8da6-2aeec9245ca0\">\n",
              "    <div class=\"colab-df-container\">\n",
              "      <div>\n",
              "<style scoped>\n",
              "    .dataframe tbody tr th:only-of-type {\n",
              "        vertical-align: middle;\n",
              "    }\n",
              "\n",
              "    .dataframe tbody tr th {\n",
              "        vertical-align: top;\n",
              "    }\n",
              "\n",
              "    .dataframe thead th {\n",
              "        text-align: right;\n",
              "    }\n",
              "</style>\n",
              "<table border=\"1\" class=\"dataframe\">\n",
              "  <thead>\n",
              "    <tr style=\"text-align: right;\">\n",
              "      <th></th>\n",
              "      <th>Apples</th>\n",
              "      <th>Bananas</th>\n",
              "    </tr>\n",
              "  </thead>\n",
              "  <tbody>\n",
              "    <tr>\n",
              "      <th>2017 Sales</th>\n",
              "      <td>35</td>\n",
              "      <td>21</td>\n",
              "    </tr>\n",
              "    <tr>\n",
              "      <th>2018 Sales</th>\n",
              "      <td>41</td>\n",
              "      <td>34</td>\n",
              "    </tr>\n",
              "  </tbody>\n",
              "</table>\n",
              "</div>\n",
              "      <button class=\"colab-df-convert\" onclick=\"convertToInteractive('df-109147ad-10bc-460b-8da6-2aeec9245ca0')\"\n",
              "              title=\"Convert this dataframe to an interactive table.\"\n",
              "              style=\"display:none;\">\n",
              "        \n",
              "  <svg xmlns=\"http://www.w3.org/2000/svg\" height=\"24px\"viewBox=\"0 0 24 24\"\n",
              "       width=\"24px\">\n",
              "    <path d=\"M0 0h24v24H0V0z\" fill=\"none\"/>\n",
              "    <path d=\"M18.56 5.44l.94 2.06.94-2.06 2.06-.94-2.06-.94-.94-2.06-.94 2.06-2.06.94zm-11 1L8.5 8.5l.94-2.06 2.06-.94-2.06-.94L8.5 2.5l-.94 2.06-2.06.94zm10 10l.94 2.06.94-2.06 2.06-.94-2.06-.94-.94-2.06-.94 2.06-2.06.94z\"/><path d=\"M17.41 7.96l-1.37-1.37c-.4-.4-.92-.59-1.43-.59-.52 0-1.04.2-1.43.59L10.3 9.45l-7.72 7.72c-.78.78-.78 2.05 0 2.83L4 21.41c.39.39.9.59 1.41.59.51 0 1.02-.2 1.41-.59l7.78-7.78 2.81-2.81c.8-.78.8-2.07 0-2.86zM5.41 20L4 18.59l7.72-7.72 1.47 1.35L5.41 20z\"/>\n",
              "  </svg>\n",
              "      </button>\n",
              "      \n",
              "  <style>\n",
              "    .colab-df-container {\n",
              "      display:flex;\n",
              "      flex-wrap:wrap;\n",
              "      gap: 12px;\n",
              "    }\n",
              "\n",
              "    .colab-df-convert {\n",
              "      background-color: #E8F0FE;\n",
              "      border: none;\n",
              "      border-radius: 50%;\n",
              "      cursor: pointer;\n",
              "      display: none;\n",
              "      fill: #1967D2;\n",
              "      height: 32px;\n",
              "      padding: 0 0 0 0;\n",
              "      width: 32px;\n",
              "    }\n",
              "\n",
              "    .colab-df-convert:hover {\n",
              "      background-color: #E2EBFA;\n",
              "      box-shadow: 0px 1px 2px rgba(60, 64, 67, 0.3), 0px 1px 3px 1px rgba(60, 64, 67, 0.15);\n",
              "      fill: #174EA6;\n",
              "    }\n",
              "\n",
              "    [theme=dark] .colab-df-convert {\n",
              "      background-color: #3B4455;\n",
              "      fill: #D2E3FC;\n",
              "    }\n",
              "\n",
              "    [theme=dark] .colab-df-convert:hover {\n",
              "      background-color: #434B5C;\n",
              "      box-shadow: 0px 1px 3px 1px rgba(0, 0, 0, 0.15);\n",
              "      filter: drop-shadow(0px 1px 2px rgba(0, 0, 0, 0.3));\n",
              "      fill: #FFFFFF;\n",
              "    }\n",
              "  </style>\n",
              "\n",
              "      <script>\n",
              "        const buttonEl =\n",
              "          document.querySelector('#df-109147ad-10bc-460b-8da6-2aeec9245ca0 button.colab-df-convert');\n",
              "        buttonEl.style.display =\n",
              "          google.colab.kernel.accessAllowed ? 'block' : 'none';\n",
              "\n",
              "        async function convertToInteractive(key) {\n",
              "          const element = document.querySelector('#df-109147ad-10bc-460b-8da6-2aeec9245ca0');\n",
              "          const dataTable =\n",
              "            await google.colab.kernel.invokeFunction('convertToInteractive',\n",
              "                                                     [key], {});\n",
              "          if (!dataTable) return;\n",
              "\n",
              "          const docLinkHtml = 'Like what you see? Visit the ' +\n",
              "            '<a target=\"_blank\" href=https://colab.research.google.com/notebooks/data_table.ipynb>data table notebook</a>'\n",
              "            + ' to learn more about interactive tables.';\n",
              "          element.innerHTML = '';\n",
              "          dataTable['output_type'] = 'display_data';\n",
              "          await google.colab.output.renderOutput(dataTable, element);\n",
              "          const docLink = document.createElement('div');\n",
              "          docLink.innerHTML = docLinkHtml;\n",
              "          element.appendChild(docLink);\n",
              "        }\n",
              "      </script>\n",
              "    </div>\n",
              "  </div>\n",
              "  "
            ]
          },
          "metadata": {},
          "execution_count": 11
        }
      ]
    },
    {
      "cell_type": "markdown",
      "metadata": {
        "id": "YiatYsIOGZpz"
      },
      "source": [
        "## 3.\n",
        "\n",
        "Create a variable `ingredients` with a Series that looks like:\n",
        "\n",
        "```\n",
        "Flour     4 cups\n",
        "Milk       1 cup\n",
        "Eggs     2 large\n",
        "Spam       1 can\n",
        "Name: Dinner, dtype: object\n",
        "```"
      ]
    },
    {
      "cell_type": "code",
      "metadata": {
        "id": "UYSRGLpWGZpz",
        "colab": {
          "base_uri": "https://localhost:8080/"
        },
        "outputId": "1913b0d3-dbea-4838-caf1-3e5889c8ca8d"
      },
      "source": [
        "pd.Series([\"4 cups\", \"1 cups\", \"2 large\", \"1 can\"], \n",
        "                        index = [\"Flour\", \"Milk\", \"Eggs\", \"Spam\"], \n",
        "                        name = \"ingredients\")"
      ],
      "execution_count": null,
      "outputs": [
        {
          "output_type": "execute_result",
          "data": {
            "text/plain": [
              "Flour     4 cups\n",
              "Milk      1 cups\n",
              "Eggs     2 large\n",
              "Spam       1 can\n",
              "Name: ingredients, dtype: object"
            ]
          },
          "metadata": {},
          "execution_count": 13
        }
      ]
    },
    {
      "cell_type": "markdown",
      "metadata": {
        "id": "mRY3dwVAGZp0"
      },
      "source": [
        "## 4.\n",
        "\n",
        "Read the following csv dataset of wine reviews into a DataFrame called `reviews` by properly modifying the code below\n",
        "\n",
        "![](https://i.imgur.com/74RCZtU.png)\n",
        "\n",
        "\n"
      ]
    },
    {
      "cell_type": "code",
      "source": [
        "from google.colab import drive\n",
        "drive.mount('/content/drive')"
      ],
      "metadata": {
        "colab": {
          "base_uri": "https://localhost:8080/"
        },
        "id": "HaptiVyRAh0E",
        "outputId": "2cb8a0ab-b5af-4805-fbe8-30dca25ea61b"
      },
      "execution_count": null,
      "outputs": [
        {
          "output_type": "stream",
          "name": "stdout",
          "text": [
            "Mounted at /content/drive\n"
          ]
        }
      ]
    },
    {
      "cell_type": "code",
      "metadata": {
        "id": "YYwR6ysoaRpQ",
        "colab": {
          "base_uri": "https://localhost:8080/",
          "height": 687
        },
        "outputId": "03452413-38d3-46f9-d1bc-ad294900cd73"
      },
      "source": [
        "reviews = pd.read_csv(\"/content/drive/MyDrive/Colab Notebooks/ewha_stat_programming/week5_pandas_datafile/winemag-data-130k-v2.csv\", index_col=0, header=0)\n",
        "reviews.head()"
      ],
      "execution_count": null,
      "outputs": [
        {
          "output_type": "execute_result",
          "data": {
            "text/plain": [
              "    country                                        description  \\\n",
              "0     Italy  Aromas include tropical fruit, broom, brimston...   \n",
              "1  Portugal  This is ripe and fruity, a wine that is smooth...   \n",
              "2        US  Tart and snappy, the flavors of lime flesh and...   \n",
              "3        US  Pineapple rind, lemon pith and orange blossom ...   \n",
              "4        US  Much like the regular bottling from 2012, this...   \n",
              "\n",
              "                          designation  points  price           province  \\\n",
              "0                        Vulkà Bianco      87    NaN  Sicily & Sardinia   \n",
              "1                            Avidagos      87   15.0              Douro   \n",
              "2                                 NaN      87   14.0             Oregon   \n",
              "3                Reserve Late Harvest      87   13.0           Michigan   \n",
              "4  Vintner's Reserve Wild Child Block      87   65.0             Oregon   \n",
              "\n",
              "              region_1           region_2         taster_name  \\\n",
              "0                 Etna                NaN       Kerin O’Keefe   \n",
              "1                  NaN                NaN          Roger Voss   \n",
              "2    Willamette Valley  Willamette Valley        Paul Gregutt   \n",
              "3  Lake Michigan Shore                NaN  Alexander Peartree   \n",
              "4    Willamette Valley  Willamette Valley        Paul Gregutt   \n",
              "\n",
              "  taster_twitter_handle                                              title  \\\n",
              "0          @kerinokeefe                  Nicosia 2013 Vulkà Bianco  (Etna)   \n",
              "1            @vossroger      Quinta dos Avidagos 2011 Avidagos Red (Douro)   \n",
              "2           @paulgwine       Rainstorm 2013 Pinot Gris (Willamette Valley)   \n",
              "3                   NaN  St. Julian 2013 Reserve Late Harvest Riesling ...   \n",
              "4           @paulgwine   Sweet Cheeks 2012 Vintner's Reserve Wild Child...   \n",
              "\n",
              "          variety               winery  \n",
              "0     White Blend              Nicosia  \n",
              "1  Portuguese Red  Quinta dos Avidagos  \n",
              "2      Pinot Gris            Rainstorm  \n",
              "3        Riesling           St. Julian  \n",
              "4      Pinot Noir         Sweet Cheeks  "
            ],
            "text/html": [
              "\n",
              "  <div id=\"df-a74c9896-d3dc-457a-bc77-5978f235d22f\">\n",
              "    <div class=\"colab-df-container\">\n",
              "      <div>\n",
              "<style scoped>\n",
              "    .dataframe tbody tr th:only-of-type {\n",
              "        vertical-align: middle;\n",
              "    }\n",
              "\n",
              "    .dataframe tbody tr th {\n",
              "        vertical-align: top;\n",
              "    }\n",
              "\n",
              "    .dataframe thead th {\n",
              "        text-align: right;\n",
              "    }\n",
              "</style>\n",
              "<table border=\"1\" class=\"dataframe\">\n",
              "  <thead>\n",
              "    <tr style=\"text-align: right;\">\n",
              "      <th></th>\n",
              "      <th>country</th>\n",
              "      <th>description</th>\n",
              "      <th>designation</th>\n",
              "      <th>points</th>\n",
              "      <th>price</th>\n",
              "      <th>province</th>\n",
              "      <th>region_1</th>\n",
              "      <th>region_2</th>\n",
              "      <th>taster_name</th>\n",
              "      <th>taster_twitter_handle</th>\n",
              "      <th>title</th>\n",
              "      <th>variety</th>\n",
              "      <th>winery</th>\n",
              "    </tr>\n",
              "  </thead>\n",
              "  <tbody>\n",
              "    <tr>\n",
              "      <th>0</th>\n",
              "      <td>Italy</td>\n",
              "      <td>Aromas include tropical fruit, broom, brimston...</td>\n",
              "      <td>Vulkà Bianco</td>\n",
              "      <td>87</td>\n",
              "      <td>NaN</td>\n",
              "      <td>Sicily &amp; Sardinia</td>\n",
              "      <td>Etna</td>\n",
              "      <td>NaN</td>\n",
              "      <td>Kerin O’Keefe</td>\n",
              "      <td>@kerinokeefe</td>\n",
              "      <td>Nicosia 2013 Vulkà Bianco  (Etna)</td>\n",
              "      <td>White Blend</td>\n",
              "      <td>Nicosia</td>\n",
              "    </tr>\n",
              "    <tr>\n",
              "      <th>1</th>\n",
              "      <td>Portugal</td>\n",
              "      <td>This is ripe and fruity, a wine that is smooth...</td>\n",
              "      <td>Avidagos</td>\n",
              "      <td>87</td>\n",
              "      <td>15.0</td>\n",
              "      <td>Douro</td>\n",
              "      <td>NaN</td>\n",
              "      <td>NaN</td>\n",
              "      <td>Roger Voss</td>\n",
              "      <td>@vossroger</td>\n",
              "      <td>Quinta dos Avidagos 2011 Avidagos Red (Douro)</td>\n",
              "      <td>Portuguese Red</td>\n",
              "      <td>Quinta dos Avidagos</td>\n",
              "    </tr>\n",
              "    <tr>\n",
              "      <th>2</th>\n",
              "      <td>US</td>\n",
              "      <td>Tart and snappy, the flavors of lime flesh and...</td>\n",
              "      <td>NaN</td>\n",
              "      <td>87</td>\n",
              "      <td>14.0</td>\n",
              "      <td>Oregon</td>\n",
              "      <td>Willamette Valley</td>\n",
              "      <td>Willamette Valley</td>\n",
              "      <td>Paul Gregutt</td>\n",
              "      <td>@paulgwine</td>\n",
              "      <td>Rainstorm 2013 Pinot Gris (Willamette Valley)</td>\n",
              "      <td>Pinot Gris</td>\n",
              "      <td>Rainstorm</td>\n",
              "    </tr>\n",
              "    <tr>\n",
              "      <th>3</th>\n",
              "      <td>US</td>\n",
              "      <td>Pineapple rind, lemon pith and orange blossom ...</td>\n",
              "      <td>Reserve Late Harvest</td>\n",
              "      <td>87</td>\n",
              "      <td>13.0</td>\n",
              "      <td>Michigan</td>\n",
              "      <td>Lake Michigan Shore</td>\n",
              "      <td>NaN</td>\n",
              "      <td>Alexander Peartree</td>\n",
              "      <td>NaN</td>\n",
              "      <td>St. Julian 2013 Reserve Late Harvest Riesling ...</td>\n",
              "      <td>Riesling</td>\n",
              "      <td>St. Julian</td>\n",
              "    </tr>\n",
              "    <tr>\n",
              "      <th>4</th>\n",
              "      <td>US</td>\n",
              "      <td>Much like the regular bottling from 2012, this...</td>\n",
              "      <td>Vintner's Reserve Wild Child Block</td>\n",
              "      <td>87</td>\n",
              "      <td>65.0</td>\n",
              "      <td>Oregon</td>\n",
              "      <td>Willamette Valley</td>\n",
              "      <td>Willamette Valley</td>\n",
              "      <td>Paul Gregutt</td>\n",
              "      <td>@paulgwine</td>\n",
              "      <td>Sweet Cheeks 2012 Vintner's Reserve Wild Child...</td>\n",
              "      <td>Pinot Noir</td>\n",
              "      <td>Sweet Cheeks</td>\n",
              "    </tr>\n",
              "  </tbody>\n",
              "</table>\n",
              "</div>\n",
              "      <button class=\"colab-df-convert\" onclick=\"convertToInteractive('df-a74c9896-d3dc-457a-bc77-5978f235d22f')\"\n",
              "              title=\"Convert this dataframe to an interactive table.\"\n",
              "              style=\"display:none;\">\n",
              "        \n",
              "  <svg xmlns=\"http://www.w3.org/2000/svg\" height=\"24px\"viewBox=\"0 0 24 24\"\n",
              "       width=\"24px\">\n",
              "    <path d=\"M0 0h24v24H0V0z\" fill=\"none\"/>\n",
              "    <path d=\"M18.56 5.44l.94 2.06.94-2.06 2.06-.94-2.06-.94-.94-2.06-.94 2.06-2.06.94zm-11 1L8.5 8.5l.94-2.06 2.06-.94-2.06-.94L8.5 2.5l-.94 2.06-2.06.94zm10 10l.94 2.06.94-2.06 2.06-.94-2.06-.94-.94-2.06-.94 2.06-2.06.94z\"/><path d=\"M17.41 7.96l-1.37-1.37c-.4-.4-.92-.59-1.43-.59-.52 0-1.04.2-1.43.59L10.3 9.45l-7.72 7.72c-.78.78-.78 2.05 0 2.83L4 21.41c.39.39.9.59 1.41.59.51 0 1.02-.2 1.41-.59l7.78-7.78 2.81-2.81c.8-.78.8-2.07 0-2.86zM5.41 20L4 18.59l7.72-7.72 1.47 1.35L5.41 20z\"/>\n",
              "  </svg>\n",
              "      </button>\n",
              "      \n",
              "  <style>\n",
              "    .colab-df-container {\n",
              "      display:flex;\n",
              "      flex-wrap:wrap;\n",
              "      gap: 12px;\n",
              "    }\n",
              "\n",
              "    .colab-df-convert {\n",
              "      background-color: #E8F0FE;\n",
              "      border: none;\n",
              "      border-radius: 50%;\n",
              "      cursor: pointer;\n",
              "      display: none;\n",
              "      fill: #1967D2;\n",
              "      height: 32px;\n",
              "      padding: 0 0 0 0;\n",
              "      width: 32px;\n",
              "    }\n",
              "\n",
              "    .colab-df-convert:hover {\n",
              "      background-color: #E2EBFA;\n",
              "      box-shadow: 0px 1px 2px rgba(60, 64, 67, 0.3), 0px 1px 3px 1px rgba(60, 64, 67, 0.15);\n",
              "      fill: #174EA6;\n",
              "    }\n",
              "\n",
              "    [theme=dark] .colab-df-convert {\n",
              "      background-color: #3B4455;\n",
              "      fill: #D2E3FC;\n",
              "    }\n",
              "\n",
              "    [theme=dark] .colab-df-convert:hover {\n",
              "      background-color: #434B5C;\n",
              "      box-shadow: 0px 1px 3px 1px rgba(0, 0, 0, 0.15);\n",
              "      filter: drop-shadow(0px 1px 2px rgba(0, 0, 0, 0.3));\n",
              "      fill: #FFFFFF;\n",
              "    }\n",
              "  </style>\n",
              "\n",
              "      <script>\n",
              "        const buttonEl =\n",
              "          document.querySelector('#df-a74c9896-d3dc-457a-bc77-5978f235d22f button.colab-df-convert');\n",
              "        buttonEl.style.display =\n",
              "          google.colab.kernel.accessAllowed ? 'block' : 'none';\n",
              "\n",
              "        async function convertToInteractive(key) {\n",
              "          const element = document.querySelector('#df-a74c9896-d3dc-457a-bc77-5978f235d22f');\n",
              "          const dataTable =\n",
              "            await google.colab.kernel.invokeFunction('convertToInteractive',\n",
              "                                                     [key], {});\n",
              "          if (!dataTable) return;\n",
              "\n",
              "          const docLinkHtml = 'Like what you see? Visit the ' +\n",
              "            '<a target=\"_blank\" href=https://colab.research.google.com/notebooks/data_table.ipynb>data table notebook</a>'\n",
              "            + ' to learn more about interactive tables.';\n",
              "          element.innerHTML = '';\n",
              "          dataTable['output_type'] = 'display_data';\n",
              "          await google.colab.output.renderOutput(dataTable, element);\n",
              "          const docLink = document.createElement('div');\n",
              "          docLink.innerHTML = docLinkHtml;\n",
              "          element.appendChild(docLink);\n",
              "        }\n",
              "      </script>\n",
              "    </div>\n",
              "  </div>\n",
              "  "
            ]
          },
          "metadata": {},
          "execution_count": 7
        }
      ]
    },
    {
      "cell_type": "markdown",
      "metadata": {
        "id": "KbOfCkGJb0-r"
      },
      "source": [
        "In the above, remove the rows with not available data and save the data into \"reviews\""
      ]
    },
    {
      "cell_type": "code",
      "metadata": {
        "id": "1Y9gfnHjb0xr"
      },
      "source": [
        "reviews.dropna(axis=0, inplace=True)"
      ],
      "execution_count": null,
      "outputs": []
    },
    {
      "cell_type": "code",
      "metadata": {
        "id": "j84frdCqGZp0",
        "colab": {
          "base_uri": "https://localhost:8080/"
        },
        "outputId": "28b2aace-5f51-4b05-b73d-be848b6eed7c"
      },
      "source": [
        "reviews.isna().sum()"
      ],
      "execution_count": null,
      "outputs": [
        {
          "output_type": "execute_result",
          "data": {
            "text/plain": [
              "country                  0\n",
              "description              0\n",
              "designation              0\n",
              "points                   0\n",
              "price                    0\n",
              "province                 0\n",
              "region_1                 0\n",
              "region_2                 0\n",
              "taster_name              0\n",
              "taster_twitter_handle    0\n",
              "title                    0\n",
              "variety                  0\n",
              "winery                   0\n",
              "dtype: int64"
            ]
          },
          "metadata": {},
          "execution_count": 9
        }
      ]
    },
    {
      "cell_type": "markdown",
      "metadata": {
        "id": "HKvozWFcGZp0"
      },
      "source": [
        "## 5.\n",
        "\n",
        "Run the cell below to create and display a DataFrame called `animals`:"
      ]
    },
    {
      "cell_type": "code",
      "metadata": {
        "colab": {
          "base_uri": "https://localhost:8080/",
          "height": 112
        },
        "id": "zY7iKfhKGZp0",
        "outputId": "5d13e076-9593-4d1b-c579-d3a7f2f899b2"
      },
      "source": [
        "animals = pd.DataFrame({'Cows': [12, 20], 'Goats': [22, 19]}, index=['Year 1', 'Year 2'])\n",
        "animals"
      ],
      "execution_count": null,
      "outputs": [
        {
          "output_type": "execute_result",
          "data": {
            "text/plain": [
              "        Cows  Goats\n",
              "Year 1    12     22\n",
              "Year 2    20     19"
            ],
            "text/html": [
              "\n",
              "  <div id=\"df-0c0b2b1e-1f86-4725-b35a-6da7fa94a55c\">\n",
              "    <div class=\"colab-df-container\">\n",
              "      <div>\n",
              "<style scoped>\n",
              "    .dataframe tbody tr th:only-of-type {\n",
              "        vertical-align: middle;\n",
              "    }\n",
              "\n",
              "    .dataframe tbody tr th {\n",
              "        vertical-align: top;\n",
              "    }\n",
              "\n",
              "    .dataframe thead th {\n",
              "        text-align: right;\n",
              "    }\n",
              "</style>\n",
              "<table border=\"1\" class=\"dataframe\">\n",
              "  <thead>\n",
              "    <tr style=\"text-align: right;\">\n",
              "      <th></th>\n",
              "      <th>Cows</th>\n",
              "      <th>Goats</th>\n",
              "    </tr>\n",
              "  </thead>\n",
              "  <tbody>\n",
              "    <tr>\n",
              "      <th>Year 1</th>\n",
              "      <td>12</td>\n",
              "      <td>22</td>\n",
              "    </tr>\n",
              "    <tr>\n",
              "      <th>Year 2</th>\n",
              "      <td>20</td>\n",
              "      <td>19</td>\n",
              "    </tr>\n",
              "  </tbody>\n",
              "</table>\n",
              "</div>\n",
              "      <button class=\"colab-df-convert\" onclick=\"convertToInteractive('df-0c0b2b1e-1f86-4725-b35a-6da7fa94a55c')\"\n",
              "              title=\"Convert this dataframe to an interactive table.\"\n",
              "              style=\"display:none;\">\n",
              "        \n",
              "  <svg xmlns=\"http://www.w3.org/2000/svg\" height=\"24px\"viewBox=\"0 0 24 24\"\n",
              "       width=\"24px\">\n",
              "    <path d=\"M0 0h24v24H0V0z\" fill=\"none\"/>\n",
              "    <path d=\"M18.56 5.44l.94 2.06.94-2.06 2.06-.94-2.06-.94-.94-2.06-.94 2.06-2.06.94zm-11 1L8.5 8.5l.94-2.06 2.06-.94-2.06-.94L8.5 2.5l-.94 2.06-2.06.94zm10 10l.94 2.06.94-2.06 2.06-.94-2.06-.94-.94-2.06-.94 2.06-2.06.94z\"/><path d=\"M17.41 7.96l-1.37-1.37c-.4-.4-.92-.59-1.43-.59-.52 0-1.04.2-1.43.59L10.3 9.45l-7.72 7.72c-.78.78-.78 2.05 0 2.83L4 21.41c.39.39.9.59 1.41.59.51 0 1.02-.2 1.41-.59l7.78-7.78 2.81-2.81c.8-.78.8-2.07 0-2.86zM5.41 20L4 18.59l7.72-7.72 1.47 1.35L5.41 20z\"/>\n",
              "  </svg>\n",
              "      </button>\n",
              "      \n",
              "  <style>\n",
              "    .colab-df-container {\n",
              "      display:flex;\n",
              "      flex-wrap:wrap;\n",
              "      gap: 12px;\n",
              "    }\n",
              "\n",
              "    .colab-df-convert {\n",
              "      background-color: #E8F0FE;\n",
              "      border: none;\n",
              "      border-radius: 50%;\n",
              "      cursor: pointer;\n",
              "      display: none;\n",
              "      fill: #1967D2;\n",
              "      height: 32px;\n",
              "      padding: 0 0 0 0;\n",
              "      width: 32px;\n",
              "    }\n",
              "\n",
              "    .colab-df-convert:hover {\n",
              "      background-color: #E2EBFA;\n",
              "      box-shadow: 0px 1px 2px rgba(60, 64, 67, 0.3), 0px 1px 3px 1px rgba(60, 64, 67, 0.15);\n",
              "      fill: #174EA6;\n",
              "    }\n",
              "\n",
              "    [theme=dark] .colab-df-convert {\n",
              "      background-color: #3B4455;\n",
              "      fill: #D2E3FC;\n",
              "    }\n",
              "\n",
              "    [theme=dark] .colab-df-convert:hover {\n",
              "      background-color: #434B5C;\n",
              "      box-shadow: 0px 1px 3px 1px rgba(0, 0, 0, 0.15);\n",
              "      filter: drop-shadow(0px 1px 2px rgba(0, 0, 0, 0.3));\n",
              "      fill: #FFFFFF;\n",
              "    }\n",
              "  </style>\n",
              "\n",
              "      <script>\n",
              "        const buttonEl =\n",
              "          document.querySelector('#df-0c0b2b1e-1f86-4725-b35a-6da7fa94a55c button.colab-df-convert');\n",
              "        buttonEl.style.display =\n",
              "          google.colab.kernel.accessAllowed ? 'block' : 'none';\n",
              "\n",
              "        async function convertToInteractive(key) {\n",
              "          const element = document.querySelector('#df-0c0b2b1e-1f86-4725-b35a-6da7fa94a55c');\n",
              "          const dataTable =\n",
              "            await google.colab.kernel.invokeFunction('convertToInteractive',\n",
              "                                                     [key], {});\n",
              "          if (!dataTable) return;\n",
              "\n",
              "          const docLinkHtml = 'Like what you see? Visit the ' +\n",
              "            '<a target=\"_blank\" href=https://colab.research.google.com/notebooks/data_table.ipynb>data table notebook</a>'\n",
              "            + ' to learn more about interactive tables.';\n",
              "          element.innerHTML = '';\n",
              "          dataTable['output_type'] = 'display_data';\n",
              "          await google.colab.output.renderOutput(dataTable, element);\n",
              "          const docLink = document.createElement('div');\n",
              "          docLink.innerHTML = docLinkHtml;\n",
              "          element.appendChild(docLink);\n",
              "        }\n",
              "      </script>\n",
              "    </div>\n",
              "  </div>\n",
              "  "
            ]
          },
          "metadata": {},
          "execution_count": 2
        }
      ]
    },
    {
      "cell_type": "markdown",
      "metadata": {
        "id": "n41dnX9aGZp1"
      },
      "source": [
        "In the cell below, write code to save this DataFrame to disk as a csv file with the name `cows_and_goats.csv`, and check it with EXCEL."
      ]
    },
    {
      "cell_type": "code",
      "metadata": {
        "id": "iyei04emGZp1"
      },
      "source": [
        "# Your code goes here\n",
        "animals.to_csv('cows_and_goats.csv')"
      ],
      "execution_count": null,
      "outputs": []
    },
    {
      "cell_type": "markdown",
      "source": [
        "![Screen Shot 2022-10-12 at 6.51.57 PM.png](data:image/png;base64,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)"
      ],
      "metadata": {
        "id": "sHvmvGdMm98q"
      }
    },
    {
      "cell_type": "markdown",
      "metadata": {
        "id": "yTn2qc8sbaSR"
      },
      "source": [
        "# From now on, we will use \"reviews\" data."
      ]
    },
    {
      "cell_type": "markdown",
      "metadata": {
        "id": "Dq7jsrroMeJD"
      },
      "source": [
        "## 6.\n",
        "\n",
        "Select the `description` column from `reviews` and assign the result to the variable `desc`."
      ]
    },
    {
      "cell_type": "code",
      "metadata": {
        "id": "HegH0mepMeJF"
      },
      "source": [
        "desc = reviews[\"description\"]"
      ],
      "execution_count": null,
      "outputs": []
    },
    {
      "cell_type": "markdown",
      "metadata": {
        "id": "6X92XQbNMeJF"
      },
      "source": [
        "Follow-up question: what type of object is `desc`? If you're not sure, you can check by calling Python's `type` function: `type(desc)`."
      ]
    },
    {
      "cell_type": "code",
      "source": [
        "type(desc) #Series"
      ],
      "metadata": {
        "colab": {
          "base_uri": "https://localhost:8080/"
        },
        "id": "TpDcZ8MenQ0W",
        "outputId": "98c92504-c898-4242-bf54-b1272b9c0d34"
      },
      "execution_count": null,
      "outputs": [
        {
          "output_type": "execute_result",
          "data": {
            "text/plain": [
              "pandas.core.series.Series"
            ]
          },
          "metadata": {},
          "execution_count": 14
        }
      ]
    },
    {
      "cell_type": "markdown",
      "metadata": {
        "id": "nn7esZT2MeJF"
      },
      "source": [
        "## 7.\n",
        "\n",
        "Select the first value from the description column of `reviews`, assigning it to variable `first_description`."
      ]
    },
    {
      "cell_type": "code",
      "source": [
        "first_description = reviews.iloc[0,1] \n",
        "first_description # 해당 첫번째 관측치는 결측치를 제거 후에 나온 결과값"
      ],
      "metadata": {
        "colab": {
          "base_uri": "https://localhost:8080/",
          "height": 53
        },
        "id": "wSPZZDVhnZ-B",
        "outputId": "ce440e94-261a-4618-9096-1b77681f2a55"
      },
      "execution_count": null,
      "outputs": [
        {
          "output_type": "execute_result",
          "data": {
            "text/plain": [
              "\"Much like the regular bottling from 2012, this comes across as rather rough and tannic, with rustic, earthy, herbal characteristics. Nonetheless, if you think of it as a pleasantly unfussy country wine, it's a good companion to a hearty winter stew.\""
            ],
            "application/vnd.google.colaboratory.intrinsic+json": {
              "type": "string"
            }
          },
          "metadata": {},
          "execution_count": 24
        }
      ]
    },
    {
      "cell_type": "code",
      "metadata": {
        "colab": {
          "base_uri": "https://localhost:8080/",
          "height": 53
        },
        "id": "BksgeS2eMeJG",
        "outputId": "7d3fe971-c09d-498b-95ff-374a8c2f91a8"
      },
      "source": [
        "reviews = pd.read_csv(\"/content/drive/MyDrive/Colab Notebooks/ewha_stat_programming/week5_pandas_datafile/winemag-data-130k-v2.csv\", index_col=0, header=0)\n",
        "first_description = reviews.iloc[0,1]\n",
        "first_description # 해당 첫번째 관측치는 결측치를 제거하기 전의 데이터 프레임에서 얻은 결과값"
      ],
      "execution_count": null,
      "outputs": [
        {
          "output_type": "execute_result",
          "data": {
            "text/plain": [
              "\"Aromas include tropical fruit, broom, brimstone and dried herb. The palate isn't overly expressive, offering unripened apple, citrus and dried sage alongside brisk acidity.\""
            ],
            "application/vnd.google.colaboratory.intrinsic+json": {
              "type": "string"
            }
          },
          "metadata": {},
          "execution_count": 25
        }
      ]
    },
    {
      "cell_type": "markdown",
      "metadata": {
        "id": "b6iGXA1TMeJH"
      },
      "source": [
        "## 8. \n",
        "\n",
        "Select the first row of data (the first record) from `reviews`, assigning it to the variable `first_row`."
      ]
    },
    {
      "cell_type": "code",
      "metadata": {
        "id": "un8C4yV3coT2",
        "colab": {
          "base_uri": "https://localhost:8080/"
        },
        "outputId": "f81762db-5dfd-4a88-85e1-225db35322fd"
      },
      "source": [
        "first_row = reviews.iloc[0,:]\n",
        "first_row"
      ],
      "execution_count": null,
      "outputs": [
        {
          "output_type": "execute_result",
          "data": {
            "text/plain": [
              "country                                                              Italy\n",
              "description              Aromas include tropical fruit, broom, brimston...\n",
              "designation                                                   Vulkà Bianco\n",
              "points                                                                  87\n",
              "price                                                                  NaN\n",
              "province                                                 Sicily & Sardinia\n",
              "region_1                                                              Etna\n",
              "region_2                                                               NaN\n",
              "taster_name                                                  Kerin O’Keefe\n",
              "taster_twitter_handle                                         @kerinokeefe\n",
              "title                                    Nicosia 2013 Vulkà Bianco  (Etna)\n",
              "variety                                                        White Blend\n",
              "winery                                                             Nicosia\n",
              "Name: 0, dtype: object"
            ]
          },
          "metadata": {},
          "execution_count": 28
        }
      ]
    },
    {
      "cell_type": "markdown",
      "metadata": {
        "id": "LKCl-_rpMeJH"
      },
      "source": [
        "## 9.\n",
        "\n",
        "Select the first 10 values from the `description` column in `reviews`, assigning the result to variable `first_descriptions`.\n",
        "\n",
        "Hint: format your output as a pandas Series."
      ]
    },
    {
      "cell_type": "code",
      "metadata": {
        "id": "qte7Mqm5MeJI",
        "colab": {
          "base_uri": "https://localhost:8080/"
        },
        "outputId": "55cac502-99c6-4908-ab37-90000fc65031"
      },
      "source": [
        "first_description = reviews[\"description\"].iloc[:10]\n",
        "first_description"
      ],
      "execution_count": null,
      "outputs": [
        {
          "output_type": "execute_result",
          "data": {
            "text/plain": [
              "0    Aromas include tropical fruit, broom, brimston...\n",
              "1    This is ripe and fruity, a wine that is smooth...\n",
              "2    Tart and snappy, the flavors of lime flesh and...\n",
              "3    Pineapple rind, lemon pith and orange blossom ...\n",
              "4    Much like the regular bottling from 2012, this...\n",
              "5    Blackberry and raspberry aromas show a typical...\n",
              "6    Here's a bright, informal red that opens with ...\n",
              "7    This dry and restrained wine offers spice in p...\n",
              "8    Savory dried thyme notes accent sunnier flavor...\n",
              "9    This has great depth of flavor with its fresh ...\n",
              "Name: description, dtype: object"
            ]
          },
          "metadata": {},
          "execution_count": 34
        }
      ]
    },
    {
      "cell_type": "code",
      "source": [
        "type(first_description) "
      ],
      "metadata": {
        "colab": {
          "base_uri": "https://localhost:8080/"
        },
        "id": "DBJN2wK3pU8v",
        "outputId": "3dcec517-4e64-4766-e8bc-f4540372ca2c"
      },
      "execution_count": null,
      "outputs": [
        {
          "output_type": "execute_result",
          "data": {
            "text/plain": [
              "pandas.core.series.Series"
            ]
          },
          "metadata": {},
          "execution_count": 35
        }
      ]
    },
    {
      "cell_type": "markdown",
      "metadata": {
        "id": "_hl8M1GRMeJI"
      },
      "source": [
        "## 10.\n",
        "\n",
        "Select the records with index labels `4`, `25`, and `35`, assigning the result to the variable `sample_reviews`.\n",
        "\n",
        "In other words, generate the something like following DataFrame:\n",
        "\n",
        "![](https://i.imgur.com/sHZvI1O.png)"
      ]
    },
    {
      "cell_type": "code",
      "metadata": {
        "id": "0gnLlY_wMeJI",
        "colab": {
          "base_uri": "https://localhost:8080/",
          "height": 416
        },
        "outputId": "8906ee9b-dcbf-4646-c829-52c7fca6b81d"
      },
      "source": [
        "sample_reviews = reviews.loc[[4, 25, 35]]\n",
        "sample_reviews"
      ],
      "execution_count": null,
      "outputs": [
        {
          "output_type": "execute_result",
          "data": {
            "text/plain": [
              "   country                                        description  \\\n",
              "4       US  Much like the regular bottling from 2012, this...   \n",
              "25      US  Oak and earth intermingle around robust aromas...   \n",
              "35      US  As with many of the Erath 2010 vineyard design...   \n",
              "\n",
              "                           designation  points  price    province  \\\n",
              "4   Vintner's Reserve Wild Child Block      87   65.0      Oregon   \n",
              "25                 King Ridge Vineyard      87   69.0  California   \n",
              "35                              Hyland      86   50.0      Oregon   \n",
              "\n",
              "             region_1           region_2     taster_name  \\\n",
              "4   Willamette Valley  Willamette Valley    Paul Gregutt   \n",
              "25       Sonoma Coast             Sonoma  Virginie Boone   \n",
              "35        McMinnville  Willamette Valley    Paul Gregutt   \n",
              "\n",
              "   taster_twitter_handle                                              title  \\\n",
              "4            @paulgwine   Sweet Cheeks 2012 Vintner's Reserve Wild Child...   \n",
              "25               @vboone  Castello di Amorosa 2011 King Ridge Vineyard P...   \n",
              "35           @paulgwine          Erath 2010 Hyland Pinot Noir (McMinnville)   \n",
              "\n",
              "       variety               winery  \n",
              "4   Pinot Noir         Sweet Cheeks  \n",
              "25  Pinot Noir  Castello di Amorosa  \n",
              "35  Pinot Noir                Erath  "
            ],
            "text/html": [
              "\n",
              "  <div id=\"df-95d5121c-e9e0-4fa0-8d6b-bf7d71bd4683\">\n",
              "    <div class=\"colab-df-container\">\n",
              "      <div>\n",
              "<style scoped>\n",
              "    .dataframe tbody tr th:only-of-type {\n",
              "        vertical-align: middle;\n",
              "    }\n",
              "\n",
              "    .dataframe tbody tr th {\n",
              "        vertical-align: top;\n",
              "    }\n",
              "\n",
              "    .dataframe thead th {\n",
              "        text-align: right;\n",
              "    }\n",
              "</style>\n",
              "<table border=\"1\" class=\"dataframe\">\n",
              "  <thead>\n",
              "    <tr style=\"text-align: right;\">\n",
              "      <th></th>\n",
              "      <th>country</th>\n",
              "      <th>description</th>\n",
              "      <th>designation</th>\n",
              "      <th>points</th>\n",
              "      <th>price</th>\n",
              "      <th>province</th>\n",
              "      <th>region_1</th>\n",
              "      <th>region_2</th>\n",
              "      <th>taster_name</th>\n",
              "      <th>taster_twitter_handle</th>\n",
              "      <th>title</th>\n",
              "      <th>variety</th>\n",
              "      <th>winery</th>\n",
              "    </tr>\n",
              "  </thead>\n",
              "  <tbody>\n",
              "    <tr>\n",
              "      <th>4</th>\n",
              "      <td>US</td>\n",
              "      <td>Much like the regular bottling from 2012, this...</td>\n",
              "      <td>Vintner's Reserve Wild Child Block</td>\n",
              "      <td>87</td>\n",
              "      <td>65.0</td>\n",
              "      <td>Oregon</td>\n",
              "      <td>Willamette Valley</td>\n",
              "      <td>Willamette Valley</td>\n",
              "      <td>Paul Gregutt</td>\n",
              "      <td>@paulgwine</td>\n",
              "      <td>Sweet Cheeks 2012 Vintner's Reserve Wild Child...</td>\n",
              "      <td>Pinot Noir</td>\n",
              "      <td>Sweet Cheeks</td>\n",
              "    </tr>\n",
              "    <tr>\n",
              "      <th>25</th>\n",
              "      <td>US</td>\n",
              "      <td>Oak and earth intermingle around robust aromas...</td>\n",
              "      <td>King Ridge Vineyard</td>\n",
              "      <td>87</td>\n",
              "      <td>69.0</td>\n",
              "      <td>California</td>\n",
              "      <td>Sonoma Coast</td>\n",
              "      <td>Sonoma</td>\n",
              "      <td>Virginie Boone</td>\n",
              "      <td>@vboone</td>\n",
              "      <td>Castello di Amorosa 2011 King Ridge Vineyard P...</td>\n",
              "      <td>Pinot Noir</td>\n",
              "      <td>Castello di Amorosa</td>\n",
              "    </tr>\n",
              "    <tr>\n",
              "      <th>35</th>\n",
              "      <td>US</td>\n",
              "      <td>As with many of the Erath 2010 vineyard design...</td>\n",
              "      <td>Hyland</td>\n",
              "      <td>86</td>\n",
              "      <td>50.0</td>\n",
              "      <td>Oregon</td>\n",
              "      <td>McMinnville</td>\n",
              "      <td>Willamette Valley</td>\n",
              "      <td>Paul Gregutt</td>\n",
              "      <td>@paulgwine</td>\n",
              "      <td>Erath 2010 Hyland Pinot Noir (McMinnville)</td>\n",
              "      <td>Pinot Noir</td>\n",
              "      <td>Erath</td>\n",
              "    </tr>\n",
              "  </tbody>\n",
              "</table>\n",
              "</div>\n",
              "      <button class=\"colab-df-convert\" onclick=\"convertToInteractive('df-95d5121c-e9e0-4fa0-8d6b-bf7d71bd4683')\"\n",
              "              title=\"Convert this dataframe to an interactive table.\"\n",
              "              style=\"display:none;\">\n",
              "        \n",
              "  <svg xmlns=\"http://www.w3.org/2000/svg\" height=\"24px\"viewBox=\"0 0 24 24\"\n",
              "       width=\"24px\">\n",
              "    <path d=\"M0 0h24v24H0V0z\" fill=\"none\"/>\n",
              "    <path d=\"M18.56 5.44l.94 2.06.94-2.06 2.06-.94-2.06-.94-.94-2.06-.94 2.06-2.06.94zm-11 1L8.5 8.5l.94-2.06 2.06-.94-2.06-.94L8.5 2.5l-.94 2.06-2.06.94zm10 10l.94 2.06.94-2.06 2.06-.94-2.06-.94-.94-2.06-.94 2.06-2.06.94z\"/><path d=\"M17.41 7.96l-1.37-1.37c-.4-.4-.92-.59-1.43-.59-.52 0-1.04.2-1.43.59L10.3 9.45l-7.72 7.72c-.78.78-.78 2.05 0 2.83L4 21.41c.39.39.9.59 1.41.59.51 0 1.02-.2 1.41-.59l7.78-7.78 2.81-2.81c.8-.78.8-2.07 0-2.86zM5.41 20L4 18.59l7.72-7.72 1.47 1.35L5.41 20z\"/>\n",
              "  </svg>\n",
              "      </button>\n",
              "      \n",
              "  <style>\n",
              "    .colab-df-container {\n",
              "      display:flex;\n",
              "      flex-wrap:wrap;\n",
              "      gap: 12px;\n",
              "    }\n",
              "\n",
              "    .colab-df-convert {\n",
              "      background-color: #E8F0FE;\n",
              "      border: none;\n",
              "      border-radius: 50%;\n",
              "      cursor: pointer;\n",
              "      display: none;\n",
              "      fill: #1967D2;\n",
              "      height: 32px;\n",
              "      padding: 0 0 0 0;\n",
              "      width: 32px;\n",
              "    }\n",
              "\n",
              "    .colab-df-convert:hover {\n",
              "      background-color: #E2EBFA;\n",
              "      box-shadow: 0px 1px 2px rgba(60, 64, 67, 0.3), 0px 1px 3px 1px rgba(60, 64, 67, 0.15);\n",
              "      fill: #174EA6;\n",
              "    }\n",
              "\n",
              "    [theme=dark] .colab-df-convert {\n",
              "      background-color: #3B4455;\n",
              "      fill: #D2E3FC;\n",
              "    }\n",
              "\n",
              "    [theme=dark] .colab-df-convert:hover {\n",
              "      background-color: #434B5C;\n",
              "      box-shadow: 0px 1px 3px 1px rgba(0, 0, 0, 0.15);\n",
              "      filter: drop-shadow(0px 1px 2px rgba(0, 0, 0, 0.3));\n",
              "      fill: #FFFFFF;\n",
              "    }\n",
              "  </style>\n",
              "\n",
              "      <script>\n",
              "        const buttonEl =\n",
              "          document.querySelector('#df-95d5121c-e9e0-4fa0-8d6b-bf7d71bd4683 button.colab-df-convert');\n",
              "        buttonEl.style.display =\n",
              "          google.colab.kernel.accessAllowed ? 'block' : 'none';\n",
              "\n",
              "        async function convertToInteractive(key) {\n",
              "          const element = document.querySelector('#df-95d5121c-e9e0-4fa0-8d6b-bf7d71bd4683');\n",
              "          const dataTable =\n",
              "            await google.colab.kernel.invokeFunction('convertToInteractive',\n",
              "                                                     [key], {});\n",
              "          if (!dataTable) return;\n",
              "\n",
              "          const docLinkHtml = 'Like what you see? Visit the ' +\n",
              "            '<a target=\"_blank\" href=https://colab.research.google.com/notebooks/data_table.ipynb>data table notebook</a>'\n",
              "            + ' to learn more about interactive tables.';\n",
              "          element.innerHTML = '';\n",
              "          dataTable['output_type'] = 'display_data';\n",
              "          await google.colab.output.renderOutput(dataTable, element);\n",
              "          const docLink = document.createElement('div');\n",
              "          docLink.innerHTML = docLinkHtml;\n",
              "          element.appendChild(docLink);\n",
              "        }\n",
              "      </script>\n",
              "    </div>\n",
              "  </div>\n",
              "  "
            ]
          },
          "metadata": {},
          "execution_count": 48
        }
      ]
    },
    {
      "cell_type": "markdown",
      "metadata": {
        "id": "BoFTjcfeMeJJ"
      },
      "source": [
        "## 11.\n",
        "\n",
        "Create a variable `df` containing the `country`, `province`, `region_1`, and `region_2` columns of the records with the index labels `4`, `25`, and `35`. In other words, generate something like the following DataFrame:\n",
        "\n",
        "![](https://i.imgur.com/FUCGiKP.png)"
      ]
    },
    {
      "cell_type": "code",
      "metadata": {
        "id": "1X65mPwSMeJJ",
        "colab": {
          "base_uri": "https://localhost:8080/",
          "height": 143
        },
        "outputId": "902d880d-cf42-4563-b6b7-f22f00ab78bc"
      },
      "source": [
        "df = sample_reviews[[\"country\", \"province\", \"region_1\", \"region_2\"]]\n",
        "df"
      ],
      "execution_count": null,
      "outputs": [
        {
          "output_type": "execute_result",
          "data": {
            "text/plain": [
              "   country    province           region_1           region_2\n",
              "4       US      Oregon  Willamette Valley  Willamette Valley\n",
              "25      US  California       Sonoma Coast             Sonoma\n",
              "35      US      Oregon        McMinnville  Willamette Valley"
            ],
            "text/html": [
              "\n",
              "  <div id=\"df-630835e1-58ee-44fb-8bfd-84178d751d20\">\n",
              "    <div class=\"colab-df-container\">\n",
              "      <div>\n",
              "<style scoped>\n",
              "    .dataframe tbody tr th:only-of-type {\n",
              "        vertical-align: middle;\n",
              "    }\n",
              "\n",
              "    .dataframe tbody tr th {\n",
              "        vertical-align: top;\n",
              "    }\n",
              "\n",
              "    .dataframe thead th {\n",
              "        text-align: right;\n",
              "    }\n",
              "</style>\n",
              "<table border=\"1\" class=\"dataframe\">\n",
              "  <thead>\n",
              "    <tr style=\"text-align: right;\">\n",
              "      <th></th>\n",
              "      <th>country</th>\n",
              "      <th>province</th>\n",
              "      <th>region_1</th>\n",
              "      <th>region_2</th>\n",
              "    </tr>\n",
              "  </thead>\n",
              "  <tbody>\n",
              "    <tr>\n",
              "      <th>4</th>\n",
              "      <td>US</td>\n",
              "      <td>Oregon</td>\n",
              "      <td>Willamette Valley</td>\n",
              "      <td>Willamette Valley</td>\n",
              "    </tr>\n",
              "    <tr>\n",
              "      <th>25</th>\n",
              "      <td>US</td>\n",
              "      <td>California</td>\n",
              "      <td>Sonoma Coast</td>\n",
              "      <td>Sonoma</td>\n",
              "    </tr>\n",
              "    <tr>\n",
              "      <th>35</th>\n",
              "      <td>US</td>\n",
              "      <td>Oregon</td>\n",
              "      <td>McMinnville</td>\n",
              "      <td>Willamette Valley</td>\n",
              "    </tr>\n",
              "  </tbody>\n",
              "</table>\n",
              "</div>\n",
              "      <button class=\"colab-df-convert\" onclick=\"convertToInteractive('df-630835e1-58ee-44fb-8bfd-84178d751d20')\"\n",
              "              title=\"Convert this dataframe to an interactive table.\"\n",
              "              style=\"display:none;\">\n",
              "        \n",
              "  <svg xmlns=\"http://www.w3.org/2000/svg\" height=\"24px\"viewBox=\"0 0 24 24\"\n",
              "       width=\"24px\">\n",
              "    <path d=\"M0 0h24v24H0V0z\" fill=\"none\"/>\n",
              "    <path d=\"M18.56 5.44l.94 2.06.94-2.06 2.06-.94-2.06-.94-.94-2.06-.94 2.06-2.06.94zm-11 1L8.5 8.5l.94-2.06 2.06-.94-2.06-.94L8.5 2.5l-.94 2.06-2.06.94zm10 10l.94 2.06.94-2.06 2.06-.94-2.06-.94-.94-2.06-.94 2.06-2.06.94z\"/><path d=\"M17.41 7.96l-1.37-1.37c-.4-.4-.92-.59-1.43-.59-.52 0-1.04.2-1.43.59L10.3 9.45l-7.72 7.72c-.78.78-.78 2.05 0 2.83L4 21.41c.39.39.9.59 1.41.59.51 0 1.02-.2 1.41-.59l7.78-7.78 2.81-2.81c.8-.78.8-2.07 0-2.86zM5.41 20L4 18.59l7.72-7.72 1.47 1.35L5.41 20z\"/>\n",
              "  </svg>\n",
              "      </button>\n",
              "      \n",
              "  <style>\n",
              "    .colab-df-container {\n",
              "      display:flex;\n",
              "      flex-wrap:wrap;\n",
              "      gap: 12px;\n",
              "    }\n",
              "\n",
              "    .colab-df-convert {\n",
              "      background-color: #E8F0FE;\n",
              "      border: none;\n",
              "      border-radius: 50%;\n",
              "      cursor: pointer;\n",
              "      display: none;\n",
              "      fill: #1967D2;\n",
              "      height: 32px;\n",
              "      padding: 0 0 0 0;\n",
              "      width: 32px;\n",
              "    }\n",
              "\n",
              "    .colab-df-convert:hover {\n",
              "      background-color: #E2EBFA;\n",
              "      box-shadow: 0px 1px 2px rgba(60, 64, 67, 0.3), 0px 1px 3px 1px rgba(60, 64, 67, 0.15);\n",
              "      fill: #174EA6;\n",
              "    }\n",
              "\n",
              "    [theme=dark] .colab-df-convert {\n",
              "      background-color: #3B4455;\n",
              "      fill: #D2E3FC;\n",
              "    }\n",
              "\n",
              "    [theme=dark] .colab-df-convert:hover {\n",
              "      background-color: #434B5C;\n",
              "      box-shadow: 0px 1px 3px 1px rgba(0, 0, 0, 0.15);\n",
              "      filter: drop-shadow(0px 1px 2px rgba(0, 0, 0, 0.3));\n",
              "      fill: #FFFFFF;\n",
              "    }\n",
              "  </style>\n",
              "\n",
              "      <script>\n",
              "        const buttonEl =\n",
              "          document.querySelector('#df-630835e1-58ee-44fb-8bfd-84178d751d20 button.colab-df-convert');\n",
              "        buttonEl.style.display =\n",
              "          google.colab.kernel.accessAllowed ? 'block' : 'none';\n",
              "\n",
              "        async function convertToInteractive(key) {\n",
              "          const element = document.querySelector('#df-630835e1-58ee-44fb-8bfd-84178d751d20');\n",
              "          const dataTable =\n",
              "            await google.colab.kernel.invokeFunction('convertToInteractive',\n",
              "                                                     [key], {});\n",
              "          if (!dataTable) return;\n",
              "\n",
              "          const docLinkHtml = 'Like what you see? Visit the ' +\n",
              "            '<a target=\"_blank\" href=https://colab.research.google.com/notebooks/data_table.ipynb>data table notebook</a>'\n",
              "            + ' to learn more about interactive tables.';\n",
              "          element.innerHTML = '';\n",
              "          dataTable['output_type'] = 'display_data';\n",
              "          await google.colab.output.renderOutput(dataTable, element);\n",
              "          const docLink = document.createElement('div');\n",
              "          docLink.innerHTML = docLinkHtml;\n",
              "          element.appendChild(docLink);\n",
              "        }\n",
              "      </script>\n",
              "    </div>\n",
              "  </div>\n",
              "  "
            ]
          },
          "metadata": {},
          "execution_count": 50
        }
      ]
    },
    {
      "cell_type": "markdown",
      "metadata": {
        "id": "BkFhA_enMeJJ"
      },
      "source": [
        "## 12.\n",
        "\n",
        "Create a variable `df` containing the `country` and `variety` columns of the first 100 records. \n",
        "\n",
        "Hint: you may use `loc` or `iloc`. When working on the answer this question and the several of the ones that follow, keep the following \"gotcha\" described in the tutorial:\n",
        "\n",
        "> `iloc` uses the Python stdlib indexing scheme, where the first element of the range is included and the last one excluded. \n",
        "`loc`, meanwhile, indexes inclusively. \n",
        "\n",
        "> This is particularly confusing when the DataFrame index is a simple numerical list, e.g. `0,...,1000`. In this case `df.iloc[0:1000]` will return 1000 entries, while `df.loc[0:1000]` return 1001 of them!  "
      ]
    },
    {
      "cell_type": "code",
      "metadata": {
        "id": "9V2CQM9fMeJJ",
        "colab": {
          "base_uri": "https://localhost:8080/",
          "height": 424
        },
        "outputId": "db737243-4b8f-4a36-e5ee-cba249823e89"
      },
      "source": [
        "df = reviews[[\"country\", \"variety\"]].iloc[:100]\n",
        "df"
      ],
      "execution_count": null,
      "outputs": [
        {
          "output_type": "execute_result",
          "data": {
            "text/plain": [
              "     country                   variety\n",
              "0      Italy               White Blend\n",
              "1   Portugal            Portuguese Red\n",
              "2         US                Pinot Gris\n",
              "3         US                  Riesling\n",
              "4         US                Pinot Noir\n",
              "..       ...                       ...\n",
              "95    France                     Gamay\n",
              "96    France                     Gamay\n",
              "97        US                  Riesling\n",
              "98     Italy                Sangiovese\n",
              "99        US  Bordeaux-style Red Blend\n",
              "\n",
              "[100 rows x 2 columns]"
            ],
            "text/html": [
              "\n",
              "  <div id=\"df-f64f7502-045a-4bfa-b8ad-257a3c828d32\">\n",
              "    <div class=\"colab-df-container\">\n",
              "      <div>\n",
              "<style scoped>\n",
              "    .dataframe tbody tr th:only-of-type {\n",
              "        vertical-align: middle;\n",
              "    }\n",
              "\n",
              "    .dataframe tbody tr th {\n",
              "        vertical-align: top;\n",
              "    }\n",
              "\n",
              "    .dataframe thead th {\n",
              "        text-align: right;\n",
              "    }\n",
              "</style>\n",
              "<table border=\"1\" class=\"dataframe\">\n",
              "  <thead>\n",
              "    <tr style=\"text-align: right;\">\n",
              "      <th></th>\n",
              "      <th>country</th>\n",
              "      <th>variety</th>\n",
              "    </tr>\n",
              "  </thead>\n",
              "  <tbody>\n",
              "    <tr>\n",
              "      <th>0</th>\n",
              "      <td>Italy</td>\n",
              "      <td>White Blend</td>\n",
              "    </tr>\n",
              "    <tr>\n",
              "      <th>1</th>\n",
              "      <td>Portugal</td>\n",
              "      <td>Portuguese Red</td>\n",
              "    </tr>\n",
              "    <tr>\n",
              "      <th>2</th>\n",
              "      <td>US</td>\n",
              "      <td>Pinot Gris</td>\n",
              "    </tr>\n",
              "    <tr>\n",
              "      <th>3</th>\n",
              "      <td>US</td>\n",
              "      <td>Riesling</td>\n",
              "    </tr>\n",
              "    <tr>\n",
              "      <th>4</th>\n",
              "      <td>US</td>\n",
              "      <td>Pinot Noir</td>\n",
              "    </tr>\n",
              "    <tr>\n",
              "      <th>...</th>\n",
              "      <td>...</td>\n",
              "      <td>...</td>\n",
              "    </tr>\n",
              "    <tr>\n",
              "      <th>95</th>\n",
              "      <td>France</td>\n",
              "      <td>Gamay</td>\n",
              "    </tr>\n",
              "    <tr>\n",
              "      <th>96</th>\n",
              "      <td>France</td>\n",
              "      <td>Gamay</td>\n",
              "    </tr>\n",
              "    <tr>\n",
              "      <th>97</th>\n",
              "      <td>US</td>\n",
              "      <td>Riesling</td>\n",
              "    </tr>\n",
              "    <tr>\n",
              "      <th>98</th>\n",
              "      <td>Italy</td>\n",
              "      <td>Sangiovese</td>\n",
              "    </tr>\n",
              "    <tr>\n",
              "      <th>99</th>\n",
              "      <td>US</td>\n",
              "      <td>Bordeaux-style Red Blend</td>\n",
              "    </tr>\n",
              "  </tbody>\n",
              "</table>\n",
              "<p>100 rows × 2 columns</p>\n",
              "</div>\n",
              "      <button class=\"colab-df-convert\" onclick=\"convertToInteractive('df-f64f7502-045a-4bfa-b8ad-257a3c828d32')\"\n",
              "              title=\"Convert this dataframe to an interactive table.\"\n",
              "              style=\"display:none;\">\n",
              "        \n",
              "  <svg xmlns=\"http://www.w3.org/2000/svg\" height=\"24px\"viewBox=\"0 0 24 24\"\n",
              "       width=\"24px\">\n",
              "    <path d=\"M0 0h24v24H0V0z\" fill=\"none\"/>\n",
              "    <path d=\"M18.56 5.44l.94 2.06.94-2.06 2.06-.94-2.06-.94-.94-2.06-.94 2.06-2.06.94zm-11 1L8.5 8.5l.94-2.06 2.06-.94-2.06-.94L8.5 2.5l-.94 2.06-2.06.94zm10 10l.94 2.06.94-2.06 2.06-.94-2.06-.94-.94-2.06-.94 2.06-2.06.94z\"/><path d=\"M17.41 7.96l-1.37-1.37c-.4-.4-.92-.59-1.43-.59-.52 0-1.04.2-1.43.59L10.3 9.45l-7.72 7.72c-.78.78-.78 2.05 0 2.83L4 21.41c.39.39.9.59 1.41.59.51 0 1.02-.2 1.41-.59l7.78-7.78 2.81-2.81c.8-.78.8-2.07 0-2.86zM5.41 20L4 18.59l7.72-7.72 1.47 1.35L5.41 20z\"/>\n",
              "  </svg>\n",
              "      </button>\n",
              "      \n",
              "  <style>\n",
              "    .colab-df-container {\n",
              "      display:flex;\n",
              "      flex-wrap:wrap;\n",
              "      gap: 12px;\n",
              "    }\n",
              "\n",
              "    .colab-df-convert {\n",
              "      background-color: #E8F0FE;\n",
              "      border: none;\n",
              "      border-radius: 50%;\n",
              "      cursor: pointer;\n",
              "      display: none;\n",
              "      fill: #1967D2;\n",
              "      height: 32px;\n",
              "      padding: 0 0 0 0;\n",
              "      width: 32px;\n",
              "    }\n",
              "\n",
              "    .colab-df-convert:hover {\n",
              "      background-color: #E2EBFA;\n",
              "      box-shadow: 0px 1px 2px rgba(60, 64, 67, 0.3), 0px 1px 3px 1px rgba(60, 64, 67, 0.15);\n",
              "      fill: #174EA6;\n",
              "    }\n",
              "\n",
              "    [theme=dark] .colab-df-convert {\n",
              "      background-color: #3B4455;\n",
              "      fill: #D2E3FC;\n",
              "    }\n",
              "\n",
              "    [theme=dark] .colab-df-convert:hover {\n",
              "      background-color: #434B5C;\n",
              "      box-shadow: 0px 1px 3px 1px rgba(0, 0, 0, 0.15);\n",
              "      filter: drop-shadow(0px 1px 2px rgba(0, 0, 0, 0.3));\n",
              "      fill: #FFFFFF;\n",
              "    }\n",
              "  </style>\n",
              "\n",
              "      <script>\n",
              "        const buttonEl =\n",
              "          document.querySelector('#df-f64f7502-045a-4bfa-b8ad-257a3c828d32 button.colab-df-convert');\n",
              "        buttonEl.style.display =\n",
              "          google.colab.kernel.accessAllowed ? 'block' : 'none';\n",
              "\n",
              "        async function convertToInteractive(key) {\n",
              "          const element = document.querySelector('#df-f64f7502-045a-4bfa-b8ad-257a3c828d32');\n",
              "          const dataTable =\n",
              "            await google.colab.kernel.invokeFunction('convertToInteractive',\n",
              "                                                     [key], {});\n",
              "          if (!dataTable) return;\n",
              "\n",
              "          const docLinkHtml = 'Like what you see? Visit the ' +\n",
              "            '<a target=\"_blank\" href=https://colab.research.google.com/notebooks/data_table.ipynb>data table notebook</a>'\n",
              "            + ' to learn more about interactive tables.';\n",
              "          element.innerHTML = '';\n",
              "          dataTable['output_type'] = 'display_data';\n",
              "          await google.colab.output.renderOutput(dataTable, element);\n",
              "          const docLink = document.createElement('div');\n",
              "          docLink.innerHTML = docLinkHtml;\n",
              "          element.appendChild(docLink);\n",
              "        }\n",
              "      </script>\n",
              "    </div>\n",
              "  </div>\n",
              "  "
            ]
          },
          "metadata": {},
          "execution_count": 52
        }
      ]
    },
    {
      "cell_type": "markdown",
      "metadata": {
        "id": "8zWq8t-uMeJK"
      },
      "source": [
        "## 13.\n",
        "\n",
        "Create a DataFrame `oregon_wines` containing reviews of wines made in `Oregon`. Hint: `reviews.province` equals what?"
      ]
    },
    {
      "cell_type": "code",
      "metadata": {
        "id": "eVa9W67HMeJK",
        "colab": {
          "base_uri": "https://localhost:8080/",
          "height": 1000
        },
        "outputId": "fca1fb00-ed86-4f8f-9be5-0cc46854582e"
      },
      "source": [
        "oregon_wines = reviews[reviews[\"province\"] == \"Oregon\"]\n",
        "oregon_wines"
      ],
      "execution_count": null,
      "outputs": [
        {
          "output_type": "execute_result",
          "data": {
            "text/plain": [
              "       country                                        description  \\\n",
              "2           US  Tart and snappy, the flavors of lime flesh and...   \n",
              "4           US  Much like the regular bottling from 2012, this...   \n",
              "21          US  A sleek mix of tart berry, stem and herb, alon...   \n",
              "35          US  As with many of the Erath 2010 vineyard design...   \n",
              "41          US  A stiff, tannic wine, this slowly opens and br...   \n",
              "...        ...                                                ...   \n",
              "129733      US  The Nicholas reserve sees one-third new French...   \n",
              "129736      US  This has the pretty slightly candied flavors o...   \n",
              "129745      US  Good grip is immediately apparent, along with ...   \n",
              "129746      US  Chewy and packed with flavors of dark chocolat...   \n",
              "129967      US  Citation is given as much as a decade of bottl...   \n",
              "\n",
              "                               designation  points  price province  \\\n",
              "2                                      NaN      87   14.0   Oregon   \n",
              "4       Vintner's Reserve Wild Child Block      87   65.0   Oregon   \n",
              "21                                     NaN      87   20.0   Oregon   \n",
              "35                                  Hyland      86   50.0   Oregon   \n",
              "41                                     NaN      86   22.0   Oregon   \n",
              "...                                    ...     ...    ...      ...   \n",
              "129733           Reserve Nicholas Vineyard      90   50.0   Oregon   \n",
              "129736                                 NaN      90   22.0   Oregon   \n",
              "129745                                 NaN      90   28.0   Oregon   \n",
              "129746             Sunny Mountain Vineyard      90   55.0   Oregon   \n",
              "129967                                 NaN      90   75.0   Oregon   \n",
              "\n",
              "                  region_1           region_2   taster_name  \\\n",
              "2        Willamette Valley  Willamette Valley  Paul Gregutt   \n",
              "4        Willamette Valley  Willamette Valley  Paul Gregutt   \n",
              "21                  Oregon       Oregon Other  Paul Gregutt   \n",
              "35             McMinnville  Willamette Valley  Paul Gregutt   \n",
              "41       Willamette Valley  Willamette Valley  Paul Gregutt   \n",
              "...                    ...                ...           ...   \n",
              "129733  Chehalem Mountains  Willamette Valley  Paul Gregutt   \n",
              "129736   Willamette Valley  Willamette Valley  Paul Gregutt   \n",
              "129745   Willamette Valley  Willamette Valley  Paul Gregutt   \n",
              "129746   Willamette Valley  Willamette Valley  Paul Gregutt   \n",
              "129967              Oregon       Oregon Other  Paul Gregutt   \n",
              "\n",
              "       taster_twitter_handle  \\\n",
              "2                @paulgwine    \n",
              "4                @paulgwine    \n",
              "21               @paulgwine    \n",
              "35               @paulgwine    \n",
              "41               @paulgwine    \n",
              "...                      ...   \n",
              "129733           @paulgwine    \n",
              "129736           @paulgwine    \n",
              "129745           @paulgwine    \n",
              "129746           @paulgwine    \n",
              "129967           @paulgwine    \n",
              "\n",
              "                                                    title     variety  \\\n",
              "2           Rainstorm 2013 Pinot Gris (Willamette Valley)  Pinot Gris   \n",
              "4       Sweet Cheeks 2012 Vintner's Reserve Wild Child...  Pinot Noir   \n",
              "21                       Acrobat 2013 Pinot Noir (Oregon)  Pinot Noir   \n",
              "35             Erath 2010 Hyland Pinot Noir (McMinnville)  Pinot Noir   \n",
              "41      Hawkins Cellars 2009 Pinot Noir (Willamette Va...  Pinot Noir   \n",
              "...                                                   ...         ...   \n",
              "129733  Anam Cara 2014 Reserve Nicholas Vineyard Pinot...  Pinot Noir   \n",
              "129736  Black Magnolia 2015 Pinot Noir (Willamette Val...  Pinot Noir   \n",
              "129745    Clay Pigeon 2013 Pinot Noir (Willamette Valley)  Pinot Noir   \n",
              "129746  Rex Hill 2014 Sunny Mountain Vineyard Pinot No...  Pinot Noir   \n",
              "129967                  Citation 2004 Pinot Noir (Oregon)  Pinot Noir   \n",
              "\n",
              "                 winery  \n",
              "2             Rainstorm  \n",
              "4          Sweet Cheeks  \n",
              "21              Acrobat  \n",
              "35                Erath  \n",
              "41      Hawkins Cellars  \n",
              "...                 ...  \n",
              "129733        Anam Cara  \n",
              "129736   Black Magnolia  \n",
              "129745      Clay Pigeon  \n",
              "129746         Rex Hill  \n",
              "129967         Citation  \n",
              "\n",
              "[5373 rows x 13 columns]"
            ],
            "text/html": [
              "\n",
              "  <div id=\"df-3a196842-72fd-461c-9476-d400dd17782e\">\n",
              "    <div class=\"colab-df-container\">\n",
              "      <div>\n",
              "<style scoped>\n",
              "    .dataframe tbody tr th:only-of-type {\n",
              "        vertical-align: middle;\n",
              "    }\n",
              "\n",
              "    .dataframe tbody tr th {\n",
              "        vertical-align: top;\n",
              "    }\n",
              "\n",
              "    .dataframe thead th {\n",
              "        text-align: right;\n",
              "    }\n",
              "</style>\n",
              "<table border=\"1\" class=\"dataframe\">\n",
              "  <thead>\n",
              "    <tr style=\"text-align: right;\">\n",
              "      <th></th>\n",
              "      <th>country</th>\n",
              "      <th>description</th>\n",
              "      <th>designation</th>\n",
              "      <th>points</th>\n",
              "      <th>price</th>\n",
              "      <th>province</th>\n",
              "      <th>region_1</th>\n",
              "      <th>region_2</th>\n",
              "      <th>taster_name</th>\n",
              "      <th>taster_twitter_handle</th>\n",
              "      <th>title</th>\n",
              "      <th>variety</th>\n",
              "      <th>winery</th>\n",
              "    </tr>\n",
              "  </thead>\n",
              "  <tbody>\n",
              "    <tr>\n",
              "      <th>2</th>\n",
              "      <td>US</td>\n",
              "      <td>Tart and snappy, the flavors of lime flesh and...</td>\n",
              "      <td>NaN</td>\n",
              "      <td>87</td>\n",
              "      <td>14.0</td>\n",
              "      <td>Oregon</td>\n",
              "      <td>Willamette Valley</td>\n",
              "      <td>Willamette Valley</td>\n",
              "      <td>Paul Gregutt</td>\n",
              "      <td>@paulgwine</td>\n",
              "      <td>Rainstorm 2013 Pinot Gris (Willamette Valley)</td>\n",
              "      <td>Pinot Gris</td>\n",
              "      <td>Rainstorm</td>\n",
              "    </tr>\n",
              "    <tr>\n",
              "      <th>4</th>\n",
              "      <td>US</td>\n",
              "      <td>Much like the regular bottling from 2012, this...</td>\n",
              "      <td>Vintner's Reserve Wild Child Block</td>\n",
              "      <td>87</td>\n",
              "      <td>65.0</td>\n",
              "      <td>Oregon</td>\n",
              "      <td>Willamette Valley</td>\n",
              "      <td>Willamette Valley</td>\n",
              "      <td>Paul Gregutt</td>\n",
              "      <td>@paulgwine</td>\n",
              "      <td>Sweet Cheeks 2012 Vintner's Reserve Wild Child...</td>\n",
              "      <td>Pinot Noir</td>\n",
              "      <td>Sweet Cheeks</td>\n",
              "    </tr>\n",
              "    <tr>\n",
              "      <th>21</th>\n",
              "      <td>US</td>\n",
              "      <td>A sleek mix of tart berry, stem and herb, alon...</td>\n",
              "      <td>NaN</td>\n",
              "      <td>87</td>\n",
              "      <td>20.0</td>\n",
              "      <td>Oregon</td>\n",
              "      <td>Oregon</td>\n",
              "      <td>Oregon Other</td>\n",
              "      <td>Paul Gregutt</td>\n",
              "      <td>@paulgwine</td>\n",
              "      <td>Acrobat 2013 Pinot Noir (Oregon)</td>\n",
              "      <td>Pinot Noir</td>\n",
              "      <td>Acrobat</td>\n",
              "    </tr>\n",
              "    <tr>\n",
              "      <th>35</th>\n",
              "      <td>US</td>\n",
              "      <td>As with many of the Erath 2010 vineyard design...</td>\n",
              "      <td>Hyland</td>\n",
              "      <td>86</td>\n",
              "      <td>50.0</td>\n",
              "      <td>Oregon</td>\n",
              "      <td>McMinnville</td>\n",
              "      <td>Willamette Valley</td>\n",
              "      <td>Paul Gregutt</td>\n",
              "      <td>@paulgwine</td>\n",
              "      <td>Erath 2010 Hyland Pinot Noir (McMinnville)</td>\n",
              "      <td>Pinot Noir</td>\n",
              "      <td>Erath</td>\n",
              "    </tr>\n",
              "    <tr>\n",
              "      <th>41</th>\n",
              "      <td>US</td>\n",
              "      <td>A stiff, tannic wine, this slowly opens and br...</td>\n",
              "      <td>NaN</td>\n",
              "      <td>86</td>\n",
              "      <td>22.0</td>\n",
              "      <td>Oregon</td>\n",
              "      <td>Willamette Valley</td>\n",
              "      <td>Willamette Valley</td>\n",
              "      <td>Paul Gregutt</td>\n",
              "      <td>@paulgwine</td>\n",
              "      <td>Hawkins Cellars 2009 Pinot Noir (Willamette Va...</td>\n",
              "      <td>Pinot Noir</td>\n",
              "      <td>Hawkins Cellars</td>\n",
              "    </tr>\n",
              "    <tr>\n",
              "      <th>...</th>\n",
              "      <td>...</td>\n",
              "      <td>...</td>\n",
              "      <td>...</td>\n",
              "      <td>...</td>\n",
              "      <td>...</td>\n",
              "      <td>...</td>\n",
              "      <td>...</td>\n",
              "      <td>...</td>\n",
              "      <td>...</td>\n",
              "      <td>...</td>\n",
              "      <td>...</td>\n",
              "      <td>...</td>\n",
              "      <td>...</td>\n",
              "    </tr>\n",
              "    <tr>\n",
              "      <th>129733</th>\n",
              "      <td>US</td>\n",
              "      <td>The Nicholas reserve sees one-third new French...</td>\n",
              "      <td>Reserve Nicholas Vineyard</td>\n",
              "      <td>90</td>\n",
              "      <td>50.0</td>\n",
              "      <td>Oregon</td>\n",
              "      <td>Chehalem Mountains</td>\n",
              "      <td>Willamette Valley</td>\n",
              "      <td>Paul Gregutt</td>\n",
              "      <td>@paulgwine</td>\n",
              "      <td>Anam Cara 2014 Reserve Nicholas Vineyard Pinot...</td>\n",
              "      <td>Pinot Noir</td>\n",
              "      <td>Anam Cara</td>\n",
              "    </tr>\n",
              "    <tr>\n",
              "      <th>129736</th>\n",
              "      <td>US</td>\n",
              "      <td>This has the pretty slightly candied flavors o...</td>\n",
              "      <td>NaN</td>\n",
              "      <td>90</td>\n",
              "      <td>22.0</td>\n",
              "      <td>Oregon</td>\n",
              "      <td>Willamette Valley</td>\n",
              "      <td>Willamette Valley</td>\n",
              "      <td>Paul Gregutt</td>\n",
              "      <td>@paulgwine</td>\n",
              "      <td>Black Magnolia 2015 Pinot Noir (Willamette Val...</td>\n",
              "      <td>Pinot Noir</td>\n",
              "      <td>Black Magnolia</td>\n",
              "    </tr>\n",
              "    <tr>\n",
              "      <th>129745</th>\n",
              "      <td>US</td>\n",
              "      <td>Good grip is immediately apparent, along with ...</td>\n",
              "      <td>NaN</td>\n",
              "      <td>90</td>\n",
              "      <td>28.0</td>\n",
              "      <td>Oregon</td>\n",
              "      <td>Willamette Valley</td>\n",
              "      <td>Willamette Valley</td>\n",
              "      <td>Paul Gregutt</td>\n",
              "      <td>@paulgwine</td>\n",
              "      <td>Clay Pigeon 2013 Pinot Noir (Willamette Valley)</td>\n",
              "      <td>Pinot Noir</td>\n",
              "      <td>Clay Pigeon</td>\n",
              "    </tr>\n",
              "    <tr>\n",
              "      <th>129746</th>\n",
              "      <td>US</td>\n",
              "      <td>Chewy and packed with flavors of dark chocolat...</td>\n",
              "      <td>Sunny Mountain Vineyard</td>\n",
              "      <td>90</td>\n",
              "      <td>55.0</td>\n",
              "      <td>Oregon</td>\n",
              "      <td>Willamette Valley</td>\n",
              "      <td>Willamette Valley</td>\n",
              "      <td>Paul Gregutt</td>\n",
              "      <td>@paulgwine</td>\n",
              "      <td>Rex Hill 2014 Sunny Mountain Vineyard Pinot No...</td>\n",
              "      <td>Pinot Noir</td>\n",
              "      <td>Rex Hill</td>\n",
              "    </tr>\n",
              "    <tr>\n",
              "      <th>129967</th>\n",
              "      <td>US</td>\n",
              "      <td>Citation is given as much as a decade of bottl...</td>\n",
              "      <td>NaN</td>\n",
              "      <td>90</td>\n",
              "      <td>75.0</td>\n",
              "      <td>Oregon</td>\n",
              "      <td>Oregon</td>\n",
              "      <td>Oregon Other</td>\n",
              "      <td>Paul Gregutt</td>\n",
              "      <td>@paulgwine</td>\n",
              "      <td>Citation 2004 Pinot Noir (Oregon)</td>\n",
              "      <td>Pinot Noir</td>\n",
              "      <td>Citation</td>\n",
              "    </tr>\n",
              "  </tbody>\n",
              "</table>\n",
              "<p>5373 rows × 13 columns</p>\n",
              "</div>\n",
              "      <button class=\"colab-df-convert\" onclick=\"convertToInteractive('df-3a196842-72fd-461c-9476-d400dd17782e')\"\n",
              "              title=\"Convert this dataframe to an interactive table.\"\n",
              "              style=\"display:none;\">\n",
              "        \n",
              "  <svg xmlns=\"http://www.w3.org/2000/svg\" height=\"24px\"viewBox=\"0 0 24 24\"\n",
              "       width=\"24px\">\n",
              "    <path d=\"M0 0h24v24H0V0z\" fill=\"none\"/>\n",
              "    <path d=\"M18.56 5.44l.94 2.06.94-2.06 2.06-.94-2.06-.94-.94-2.06-.94 2.06-2.06.94zm-11 1L8.5 8.5l.94-2.06 2.06-.94-2.06-.94L8.5 2.5l-.94 2.06-2.06.94zm10 10l.94 2.06.94-2.06 2.06-.94-2.06-.94-.94-2.06-.94 2.06-2.06.94z\"/><path d=\"M17.41 7.96l-1.37-1.37c-.4-.4-.92-.59-1.43-.59-.52 0-1.04.2-1.43.59L10.3 9.45l-7.72 7.72c-.78.78-.78 2.05 0 2.83L4 21.41c.39.39.9.59 1.41.59.51 0 1.02-.2 1.41-.59l7.78-7.78 2.81-2.81c.8-.78.8-2.07 0-2.86zM5.41 20L4 18.59l7.72-7.72 1.47 1.35L5.41 20z\"/>\n",
              "  </svg>\n",
              "      </button>\n",
              "      \n",
              "  <style>\n",
              "    .colab-df-container {\n",
              "      display:flex;\n",
              "      flex-wrap:wrap;\n",
              "      gap: 12px;\n",
              "    }\n",
              "\n",
              "    .colab-df-convert {\n",
              "      background-color: #E8F0FE;\n",
              "      border: none;\n",
              "      border-radius: 50%;\n",
              "      cursor: pointer;\n",
              "      display: none;\n",
              "      fill: #1967D2;\n",
              "      height: 32px;\n",
              "      padding: 0 0 0 0;\n",
              "      width: 32px;\n",
              "    }\n",
              "\n",
              "    .colab-df-convert:hover {\n",
              "      background-color: #E2EBFA;\n",
              "      box-shadow: 0px 1px 2px rgba(60, 64, 67, 0.3), 0px 1px 3px 1px rgba(60, 64, 67, 0.15);\n",
              "      fill: #174EA6;\n",
              "    }\n",
              "\n",
              "    [theme=dark] .colab-df-convert {\n",
              "      background-color: #3B4455;\n",
              "      fill: #D2E3FC;\n",
              "    }\n",
              "\n",
              "    [theme=dark] .colab-df-convert:hover {\n",
              "      background-color: #434B5C;\n",
              "      box-shadow: 0px 1px 3px 1px rgba(0, 0, 0, 0.15);\n",
              "      filter: drop-shadow(0px 1px 2px rgba(0, 0, 0, 0.3));\n",
              "      fill: #FFFFFF;\n",
              "    }\n",
              "  </style>\n",
              "\n",
              "      <script>\n",
              "        const buttonEl =\n",
              "          document.querySelector('#df-3a196842-72fd-461c-9476-d400dd17782e button.colab-df-convert');\n",
              "        buttonEl.style.display =\n",
              "          google.colab.kernel.accessAllowed ? 'block' : 'none';\n",
              "\n",
              "        async function convertToInteractive(key) {\n",
              "          const element = document.querySelector('#df-3a196842-72fd-461c-9476-d400dd17782e');\n",
              "          const dataTable =\n",
              "            await google.colab.kernel.invokeFunction('convertToInteractive',\n",
              "                                                     [key], {});\n",
              "          if (!dataTable) return;\n",
              "\n",
              "          const docLinkHtml = 'Like what you see? Visit the ' +\n",
              "            '<a target=\"_blank\" href=https://colab.research.google.com/notebooks/data_table.ipynb>data table notebook</a>'\n",
              "            + ' to learn more about interactive tables.';\n",
              "          element.innerHTML = '';\n",
              "          dataTable['output_type'] = 'display_data';\n",
              "          await google.colab.output.renderOutput(dataTable, element);\n",
              "          const docLink = document.createElement('div');\n",
              "          docLink.innerHTML = docLinkHtml;\n",
              "          element.appendChild(docLink);\n",
              "        }\n",
              "      </script>\n",
              "    </div>\n",
              "  </div>\n",
              "  "
            ]
          },
          "metadata": {},
          "execution_count": 56
        }
      ]
    },
    {
      "cell_type": "markdown",
      "metadata": {
        "id": "y4wKiawjMeJK"
      },
      "source": [
        "## 14.\n",
        "\n",
        "Create a DataFrame `top_oregon_newyork_wines` containing all reviews with at least 80 points (out of 100) for wines from Oregon or New York.\n",
        "\n",
        "Hint: use \"isin(...)\""
      ]
    },
    {
      "cell_type": "code",
      "metadata": {
        "id": "QV2ZA7dIMeJL",
        "colab": {
          "base_uri": "https://localhost:8080/",
          "height": 1000
        },
        "outputId": "e4ee7394-9ab8-464f-f142-75b42fef1435"
      },
      "source": [
        "top_oregon_newyork_wines = reviews[reviews[\"province\"].isin([\"Oregon\",\"New York\"])][reviews.points>=80]\n",
        "top_oregon_newyork_wines"
      ],
      "execution_count": null,
      "outputs": [
        {
          "output_type": "stream",
          "name": "stderr",
          "text": [
            "/usr/local/lib/python3.7/dist-packages/ipykernel_launcher.py:1: UserWarning: Boolean Series key will be reindexed to match DataFrame index.\n",
            "  \"\"\"Entry point for launching an IPython kernel.\n"
          ]
        },
        {
          "output_type": "execute_result",
          "data": {
            "text/plain": [
              "       country                                        description  \\\n",
              "2           US  Tart and snappy, the flavors of lime flesh and...   \n",
              "4           US  Much like the regular bottling from 2012, this...   \n",
              "21          US  A sleek mix of tart berry, stem and herb, alon...   \n",
              "35          US  As with many of the Erath 2010 vineyard design...   \n",
              "41          US  A stiff, tannic wine, this slowly opens and br...   \n",
              "...        ...                                                ...   \n",
              "129791      US  Floral and fruity, with hints of peach, muskme...   \n",
              "129798      US  Notes of honeysuckle, white peach and fresh gr...   \n",
              "129805      US  Hints of honeycomb and beeswax add heft to the...   \n",
              "129874      US  While blossom and melon aromas on this Gewürzt...   \n",
              "129967      US  Citation is given as much as a decade of bottl...   \n",
              "\n",
              "                               designation  points  price  province  \\\n",
              "2                                      NaN      87   14.0    Oregon   \n",
              "4       Vintner's Reserve Wild Child Block      87   65.0    Oregon   \n",
              "21                                     NaN      87   20.0    Oregon   \n",
              "35                                  Hyland      86   50.0    Oregon   \n",
              "41                                     NaN      86   22.0    Oregon   \n",
              "...                                    ...     ...    ...       ...   \n",
              "129791                                 NaN      89   18.0  New York   \n",
              "129798                            Semi-Dry      88   19.0  New York   \n",
              "129805                                 NaN      88   16.0  New York   \n",
              "129874                                 NaN      90   22.0  New York   \n",
              "129967                                 NaN      90   75.0    Oregon   \n",
              "\n",
              "                         region_1           region_2         taster_name  \\\n",
              "2               Willamette Valley  Willamette Valley        Paul Gregutt   \n",
              "4               Willamette Valley  Willamette Valley        Paul Gregutt   \n",
              "21                         Oregon       Oregon Other        Paul Gregutt   \n",
              "35                    McMinnville  Willamette Valley        Paul Gregutt   \n",
              "41              Willamette Valley  Willamette Valley        Paul Gregutt   \n",
              "...                           ...                ...                 ...   \n",
              "129791               Finger Lakes       Finger Lakes  Anna Lee C. Iijima   \n",
              "129798                Seneca Lake       Finger Lakes  Anna Lee C. Iijima   \n",
              "129805               Finger Lakes       Finger Lakes  Anna Lee C. Iijima   \n",
              "129874  North Fork of Long Island        Long Island  Anna Lee C. Iijima   \n",
              "129967                     Oregon       Oregon Other        Paul Gregutt   \n",
              "\n",
              "       taster_twitter_handle  \\\n",
              "2                @paulgwine    \n",
              "4                @paulgwine    \n",
              "21               @paulgwine    \n",
              "35               @paulgwine    \n",
              "41               @paulgwine    \n",
              "...                      ...   \n",
              "129791                   NaN   \n",
              "129798                   NaN   \n",
              "129805                   NaN   \n",
              "129874                   NaN   \n",
              "129967           @paulgwine    \n",
              "\n",
              "                                                    title          variety  \\\n",
              "2           Rainstorm 2013 Pinot Gris (Willamette Valley)       Pinot Gris   \n",
              "4       Sweet Cheeks 2012 Vintner's Reserve Wild Child...       Pinot Noir   \n",
              "21                       Acrobat 2013 Pinot Noir (Oregon)       Pinot Noir   \n",
              "35             Erath 2010 Hyland Pinot Noir (McMinnville)       Pinot Noir   \n",
              "41      Hawkins Cellars 2009 Pinot Noir (Willamette Va...       Pinot Noir   \n",
              "...                                                   ...              ...   \n",
              "129791  Hazlitt 1852 Vineyards 2011 Sauvignon Blanc (F...  Sauvignon Blanc   \n",
              "129798      Belhurst 2011 Semi-Dry Riesling (Seneca Lake)         Riesling   \n",
              "129805       Penguin Bay 2011 Pinot Grigio (Finger Lakes)     Pinot Grigio   \n",
              "129874  Coffee Pot Cellars 2014 Gewurztraminer (North ...   Gewürztraminer   \n",
              "129967                  Citation 2004 Pinot Noir (Oregon)       Pinot Noir   \n",
              "\n",
              "                        winery  \n",
              "2                    Rainstorm  \n",
              "4                 Sweet Cheeks  \n",
              "21                     Acrobat  \n",
              "35                       Erath  \n",
              "41             Hawkins Cellars  \n",
              "...                        ...  \n",
              "129791  Hazlitt 1852 Vineyards  \n",
              "129798                Belhurst  \n",
              "129805             Penguin Bay  \n",
              "129874      Coffee Pot Cellars  \n",
              "129967                Citation  \n",
              "\n",
              "[8061 rows x 13 columns]"
            ],
            "text/html": [
              "\n",
              "  <div id=\"df-1e8f8780-20b6-4966-8dec-f9d9925e89f2\">\n",
              "    <div class=\"colab-df-container\">\n",
              "      <div>\n",
              "<style scoped>\n",
              "    .dataframe tbody tr th:only-of-type {\n",
              "        vertical-align: middle;\n",
              "    }\n",
              "\n",
              "    .dataframe tbody tr th {\n",
              "        vertical-align: top;\n",
              "    }\n",
              "\n",
              "    .dataframe thead th {\n",
              "        text-align: right;\n",
              "    }\n",
              "</style>\n",
              "<table border=\"1\" class=\"dataframe\">\n",
              "  <thead>\n",
              "    <tr style=\"text-align: right;\">\n",
              "      <th></th>\n",
              "      <th>country</th>\n",
              "      <th>description</th>\n",
              "      <th>designation</th>\n",
              "      <th>points</th>\n",
              "      <th>price</th>\n",
              "      <th>province</th>\n",
              "      <th>region_1</th>\n",
              "      <th>region_2</th>\n",
              "      <th>taster_name</th>\n",
              "      <th>taster_twitter_handle</th>\n",
              "      <th>title</th>\n",
              "      <th>variety</th>\n",
              "      <th>winery</th>\n",
              "    </tr>\n",
              "  </thead>\n",
              "  <tbody>\n",
              "    <tr>\n",
              "      <th>2</th>\n",
              "      <td>US</td>\n",
              "      <td>Tart and snappy, the flavors of lime flesh and...</td>\n",
              "      <td>NaN</td>\n",
              "      <td>87</td>\n",
              "      <td>14.0</td>\n",
              "      <td>Oregon</td>\n",
              "      <td>Willamette Valley</td>\n",
              "      <td>Willamette Valley</td>\n",
              "      <td>Paul Gregutt</td>\n",
              "      <td>@paulgwine</td>\n",
              "      <td>Rainstorm 2013 Pinot Gris (Willamette Valley)</td>\n",
              "      <td>Pinot Gris</td>\n",
              "      <td>Rainstorm</td>\n",
              "    </tr>\n",
              "    <tr>\n",
              "      <th>4</th>\n",
              "      <td>US</td>\n",
              "      <td>Much like the regular bottling from 2012, this...</td>\n",
              "      <td>Vintner's Reserve Wild Child Block</td>\n",
              "      <td>87</td>\n",
              "      <td>65.0</td>\n",
              "      <td>Oregon</td>\n",
              "      <td>Willamette Valley</td>\n",
              "      <td>Willamette Valley</td>\n",
              "      <td>Paul Gregutt</td>\n",
              "      <td>@paulgwine</td>\n",
              "      <td>Sweet Cheeks 2012 Vintner's Reserve Wild Child...</td>\n",
              "      <td>Pinot Noir</td>\n",
              "      <td>Sweet Cheeks</td>\n",
              "    </tr>\n",
              "    <tr>\n",
              "      <th>21</th>\n",
              "      <td>US</td>\n",
              "      <td>A sleek mix of tart berry, stem and herb, alon...</td>\n",
              "      <td>NaN</td>\n",
              "      <td>87</td>\n",
              "      <td>20.0</td>\n",
              "      <td>Oregon</td>\n",
              "      <td>Oregon</td>\n",
              "      <td>Oregon Other</td>\n",
              "      <td>Paul Gregutt</td>\n",
              "      <td>@paulgwine</td>\n",
              "      <td>Acrobat 2013 Pinot Noir (Oregon)</td>\n",
              "      <td>Pinot Noir</td>\n",
              "      <td>Acrobat</td>\n",
              "    </tr>\n",
              "    <tr>\n",
              "      <th>35</th>\n",
              "      <td>US</td>\n",
              "      <td>As with many of the Erath 2010 vineyard design...</td>\n",
              "      <td>Hyland</td>\n",
              "      <td>86</td>\n",
              "      <td>50.0</td>\n",
              "      <td>Oregon</td>\n",
              "      <td>McMinnville</td>\n",
              "      <td>Willamette Valley</td>\n",
              "      <td>Paul Gregutt</td>\n",
              "      <td>@paulgwine</td>\n",
              "      <td>Erath 2010 Hyland Pinot Noir (McMinnville)</td>\n",
              "      <td>Pinot Noir</td>\n",
              "      <td>Erath</td>\n",
              "    </tr>\n",
              "    <tr>\n",
              "      <th>41</th>\n",
              "      <td>US</td>\n",
              "      <td>A stiff, tannic wine, this slowly opens and br...</td>\n",
              "      <td>NaN</td>\n",
              "      <td>86</td>\n",
              "      <td>22.0</td>\n",
              "      <td>Oregon</td>\n",
              "      <td>Willamette Valley</td>\n",
              "      <td>Willamette Valley</td>\n",
              "      <td>Paul Gregutt</td>\n",
              "      <td>@paulgwine</td>\n",
              "      <td>Hawkins Cellars 2009 Pinot Noir (Willamette Va...</td>\n",
              "      <td>Pinot Noir</td>\n",
              "      <td>Hawkins Cellars</td>\n",
              "    </tr>\n",
              "    <tr>\n",
              "      <th>...</th>\n",
              "      <td>...</td>\n",
              "      <td>...</td>\n",
              "      <td>...</td>\n",
              "      <td>...</td>\n",
              "      <td>...</td>\n",
              "      <td>...</td>\n",
              "      <td>...</td>\n",
              "      <td>...</td>\n",
              "      <td>...</td>\n",
              "      <td>...</td>\n",
              "      <td>...</td>\n",
              "      <td>...</td>\n",
              "      <td>...</td>\n",
              "    </tr>\n",
              "    <tr>\n",
              "      <th>129791</th>\n",
              "      <td>US</td>\n",
              "      <td>Floral and fruity, with hints of peach, muskme...</td>\n",
              "      <td>NaN</td>\n",
              "      <td>89</td>\n",
              "      <td>18.0</td>\n",
              "      <td>New York</td>\n",
              "      <td>Finger Lakes</td>\n",
              "      <td>Finger Lakes</td>\n",
              "      <td>Anna Lee C. Iijima</td>\n",
              "      <td>NaN</td>\n",
              "      <td>Hazlitt 1852 Vineyards 2011 Sauvignon Blanc (F...</td>\n",
              "      <td>Sauvignon Blanc</td>\n",
              "      <td>Hazlitt 1852 Vineyards</td>\n",
              "    </tr>\n",
              "    <tr>\n",
              "      <th>129798</th>\n",
              "      <td>US</td>\n",
              "      <td>Notes of honeysuckle, white peach and fresh gr...</td>\n",
              "      <td>Semi-Dry</td>\n",
              "      <td>88</td>\n",
              "      <td>19.0</td>\n",
              "      <td>New York</td>\n",
              "      <td>Seneca Lake</td>\n",
              "      <td>Finger Lakes</td>\n",
              "      <td>Anna Lee C. Iijima</td>\n",
              "      <td>NaN</td>\n",
              "      <td>Belhurst 2011 Semi-Dry Riesling (Seneca Lake)</td>\n",
              "      <td>Riesling</td>\n",
              "      <td>Belhurst</td>\n",
              "    </tr>\n",
              "    <tr>\n",
              "      <th>129805</th>\n",
              "      <td>US</td>\n",
              "      <td>Hints of honeycomb and beeswax add heft to the...</td>\n",
              "      <td>NaN</td>\n",
              "      <td>88</td>\n",
              "      <td>16.0</td>\n",
              "      <td>New York</td>\n",
              "      <td>Finger Lakes</td>\n",
              "      <td>Finger Lakes</td>\n",
              "      <td>Anna Lee C. Iijima</td>\n",
              "      <td>NaN</td>\n",
              "      <td>Penguin Bay 2011 Pinot Grigio (Finger Lakes)</td>\n",
              "      <td>Pinot Grigio</td>\n",
              "      <td>Penguin Bay</td>\n",
              "    </tr>\n",
              "    <tr>\n",
              "      <th>129874</th>\n",
              "      <td>US</td>\n",
              "      <td>While blossom and melon aromas on this Gewürzt...</td>\n",
              "      <td>NaN</td>\n",
              "      <td>90</td>\n",
              "      <td>22.0</td>\n",
              "      <td>New York</td>\n",
              "      <td>North Fork of Long Island</td>\n",
              "      <td>Long Island</td>\n",
              "      <td>Anna Lee C. Iijima</td>\n",
              "      <td>NaN</td>\n",
              "      <td>Coffee Pot Cellars 2014 Gewurztraminer (North ...</td>\n",
              "      <td>Gewürztraminer</td>\n",
              "      <td>Coffee Pot Cellars</td>\n",
              "    </tr>\n",
              "    <tr>\n",
              "      <th>129967</th>\n",
              "      <td>US</td>\n",
              "      <td>Citation is given as much as a decade of bottl...</td>\n",
              "      <td>NaN</td>\n",
              "      <td>90</td>\n",
              "      <td>75.0</td>\n",
              "      <td>Oregon</td>\n",
              "      <td>Oregon</td>\n",
              "      <td>Oregon Other</td>\n",
              "      <td>Paul Gregutt</td>\n",
              "      <td>@paulgwine</td>\n",
              "      <td>Citation 2004 Pinot Noir (Oregon)</td>\n",
              "      <td>Pinot Noir</td>\n",
              "      <td>Citation</td>\n",
              "    </tr>\n",
              "  </tbody>\n",
              "</table>\n",
              "<p>8061 rows × 13 columns</p>\n",
              "</div>\n",
              "      <button class=\"colab-df-convert\" onclick=\"convertToInteractive('df-1e8f8780-20b6-4966-8dec-f9d9925e89f2')\"\n",
              "              title=\"Convert this dataframe to an interactive table.\"\n",
              "              style=\"display:none;\">\n",
              "        \n",
              "  <svg xmlns=\"http://www.w3.org/2000/svg\" height=\"24px\"viewBox=\"0 0 24 24\"\n",
              "       width=\"24px\">\n",
              "    <path d=\"M0 0h24v24H0V0z\" fill=\"none\"/>\n",
              "    <path d=\"M18.56 5.44l.94 2.06.94-2.06 2.06-.94-2.06-.94-.94-2.06-.94 2.06-2.06.94zm-11 1L8.5 8.5l.94-2.06 2.06-.94-2.06-.94L8.5 2.5l-.94 2.06-2.06.94zm10 10l.94 2.06.94-2.06 2.06-.94-2.06-.94-.94-2.06-.94 2.06-2.06.94z\"/><path d=\"M17.41 7.96l-1.37-1.37c-.4-.4-.92-.59-1.43-.59-.52 0-1.04.2-1.43.59L10.3 9.45l-7.72 7.72c-.78.78-.78 2.05 0 2.83L4 21.41c.39.39.9.59 1.41.59.51 0 1.02-.2 1.41-.59l7.78-7.78 2.81-2.81c.8-.78.8-2.07 0-2.86zM5.41 20L4 18.59l7.72-7.72 1.47 1.35L5.41 20z\"/>\n",
              "  </svg>\n",
              "      </button>\n",
              "      \n",
              "  <style>\n",
              "    .colab-df-container {\n",
              "      display:flex;\n",
              "      flex-wrap:wrap;\n",
              "      gap: 12px;\n",
              "    }\n",
              "\n",
              "    .colab-df-convert {\n",
              "      background-color: #E8F0FE;\n",
              "      border: none;\n",
              "      border-radius: 50%;\n",
              "      cursor: pointer;\n",
              "      display: none;\n",
              "      fill: #1967D2;\n",
              "      height: 32px;\n",
              "      padding: 0 0 0 0;\n",
              "      width: 32px;\n",
              "    }\n",
              "\n",
              "    .colab-df-convert:hover {\n",
              "      background-color: #E2EBFA;\n",
              "      box-shadow: 0px 1px 2px rgba(60, 64, 67, 0.3), 0px 1px 3px 1px rgba(60, 64, 67, 0.15);\n",
              "      fill: #174EA6;\n",
              "    }\n",
              "\n",
              "    [theme=dark] .colab-df-convert {\n",
              "      background-color: #3B4455;\n",
              "      fill: #D2E3FC;\n",
              "    }\n",
              "\n",
              "    [theme=dark] .colab-df-convert:hover {\n",
              "      background-color: #434B5C;\n",
              "      box-shadow: 0px 1px 3px 1px rgba(0, 0, 0, 0.15);\n",
              "      filter: drop-shadow(0px 1px 2px rgba(0, 0, 0, 0.3));\n",
              "      fill: #FFFFFF;\n",
              "    }\n",
              "  </style>\n",
              "\n",
              "      <script>\n",
              "        const buttonEl =\n",
              "          document.querySelector('#df-1e8f8780-20b6-4966-8dec-f9d9925e89f2 button.colab-df-convert');\n",
              "        buttonEl.style.display =\n",
              "          google.colab.kernel.accessAllowed ? 'block' : 'none';\n",
              "\n",
              "        async function convertToInteractive(key) {\n",
              "          const element = document.querySelector('#df-1e8f8780-20b6-4966-8dec-f9d9925e89f2');\n",
              "          const dataTable =\n",
              "            await google.colab.kernel.invokeFunction('convertToInteractive',\n",
              "                                                     [key], {});\n",
              "          if (!dataTable) return;\n",
              "\n",
              "          const docLinkHtml = 'Like what you see? Visit the ' +\n",
              "            '<a target=\"_blank\" href=https://colab.research.google.com/notebooks/data_table.ipynb>data table notebook</a>'\n",
              "            + ' to learn more about interactive tables.';\n",
              "          element.innerHTML = '';\n",
              "          dataTable['output_type'] = 'display_data';\n",
              "          await google.colab.output.renderOutput(dataTable, element);\n",
              "          const docLink = document.createElement('div');\n",
              "          docLink.innerHTML = docLinkHtml;\n",
              "          element.appendChild(docLink);\n",
              "        }\n",
              "      </script>\n",
              "    </div>\n",
              "  </div>\n",
              "  "
            ]
          },
          "metadata": {},
          "execution_count": 74
        }
      ]
    },
    {
      "cell_type": "markdown",
      "metadata": {
        "id": "4JyQe8VZiYBv"
      },
      "source": [
        "## 15.\n",
        "\n",
        "What is the median of the `points` column in the `reviews` DataFrame?"
      ]
    },
    {
      "cell_type": "code",
      "metadata": {
        "id": "LAUpdVkziYBv",
        "colab": {
          "base_uri": "https://localhost:8080/"
        },
        "outputId": "84dda1dd-ba1f-4bc9-cb32-1d0770409ceb"
      },
      "source": [
        "reviews.points.median()"
      ],
      "execution_count": null,
      "outputs": [
        {
          "output_type": "execute_result",
          "data": {
            "text/plain": [
              "88.0"
            ]
          },
          "metadata": {},
          "execution_count": 75
        }
      ]
    },
    {
      "cell_type": "markdown",
      "metadata": {
        "id": "0LgM9Ua5iYBx"
      },
      "source": [
        "## 16. \n",
        "What countries are represented in the dataset? (Your answer should not include any duplicates.)"
      ]
    },
    {
      "cell_type": "code",
      "metadata": {
        "id": "edNhZmSuiYBx",
        "colab": {
          "base_uri": "https://localhost:8080/"
        },
        "outputId": "650902b8-af1e-4a0b-86a1-973ea62cf4ea"
      },
      "source": [
        "reviews.country.unique()"
      ],
      "execution_count": null,
      "outputs": [
        {
          "output_type": "execute_result",
          "data": {
            "text/plain": [
              "array(['Italy', 'Portugal', 'US', 'Spain', 'France', 'Germany',\n",
              "       'Argentina', 'Chile', 'Australia', 'Austria', 'South Africa',\n",
              "       'New Zealand', 'Israel', 'Hungary', 'Greece', 'Romania', 'Mexico',\n",
              "       'Canada', nan, 'Turkey', 'Czech Republic', 'Slovenia',\n",
              "       'Luxembourg', 'Croatia', 'Georgia', 'Uruguay', 'England',\n",
              "       'Lebanon', 'Serbia', 'Brazil', 'Moldova', 'Morocco', 'Peru',\n",
              "       'India', 'Bulgaria', 'Cyprus', 'Armenia', 'Switzerland',\n",
              "       'Bosnia and Herzegovina', 'Ukraine', 'Slovakia', 'Macedonia',\n",
              "       'China', 'Egypt'], dtype=object)"
            ]
          },
          "metadata": {},
          "execution_count": 76
        }
      ]
    },
    {
      "cell_type": "markdown",
      "metadata": {
        "id": "FsBFUrj5iYBz"
      },
      "source": [
        "## 17.\n",
        "How often does each taster appear in the dataset? Create a Series `reviews_per_tastername` mapping taster_name to the count of reviews of wines from that taster. "
      ]
    },
    {
      "cell_type": "code",
      "metadata": {
        "id": "_Phvjj2NiYBz",
        "colab": {
          "base_uri": "https://localhost:8080/"
        },
        "outputId": "4cc3ad94-f11d-4926-bcbf-5070b4be9f8c"
      },
      "source": [
        "reviews_per_tastername = reviews.taster_name.value_counts()\n",
        "reviews_per_tastername"
      ],
      "execution_count": null,
      "outputs": [
        {
          "output_type": "execute_result",
          "data": {
            "text/plain": [
              "Roger Voss            25514\n",
              "Michael Schachner     15134\n",
              "Kerin O’Keefe         10776\n",
              "Virginie Boone         9537\n",
              "Paul Gregutt           9532\n",
              "Matt Kettmann          6332\n",
              "Joe Czerwinski         5147\n",
              "Sean P. Sullivan       4966\n",
              "Anna Lee C. Iijima     4415\n",
              "Jim Gordon             4177\n",
              "Anne Krebiehl MW       3685\n",
              "Lauren Buzzeo          1835\n",
              "Susan Kostrzewa        1085\n",
              "Mike DeSimone           514\n",
              "Jeff Jenssen            491\n",
              "Alexander Peartree      415\n",
              "Carrie Dykes            139\n",
              "Fiona Adams              27\n",
              "Christina Pickard         6\n",
              "Name: taster_name, dtype: int64"
            ]
          },
          "metadata": {},
          "execution_count": 80
        }
      ]
    },
    {
      "cell_type": "code",
      "metadata": {
        "id": "30e-DvGqiYB0",
        "colab": {
          "base_uri": "https://localhost:8080/"
        },
        "outputId": "7ce518a4-2671-4bf4-97c3-b4f01bf31794"
      },
      "source": [
        "type(reviews_per_tastername)"
      ],
      "execution_count": null,
      "outputs": [
        {
          "output_type": "execute_result",
          "data": {
            "text/plain": [
              "pandas.core.series.Series"
            ]
          },
          "metadata": {},
          "execution_count": 81
        }
      ]
    },
    {
      "cell_type": "markdown",
      "metadata": {
        "id": "UXb8cIodiYB0"
      },
      "source": [
        "## 18.\n",
        "Create variable `centered_price` containing a version of the `price` column with the mean price subtracted using:\n",
        "\n",
        "1> map() function\n",
        "\n",
        "2> apply() function\n",
        "\n",
        "3> None of map() function nor apply() function\n",
        "\n",
        "(Note: this 'centering' transformation is a common preprocessing step before applying various machine learning algorithms.) "
      ]
    },
    {
      "cell_type": "code",
      "source": [
        "median = reviews.price.median()\n",
        "median"
      ],
      "metadata": {
        "colab": {
          "base_uri": "https://localhost:8080/"
        },
        "id": "h2GCY60VyJ-t",
        "outputId": "514c604f-f322-4936-db2d-a8be9d8633ac"
      },
      "execution_count": null,
      "outputs": [
        {
          "output_type": "execute_result",
          "data": {
            "text/plain": [
              "25.0"
            ]
          },
          "metadata": {},
          "execution_count": 88
        }
      ]
    },
    {
      "cell_type": "code",
      "source": [
        "#1\n",
        "center_price = reviews.price.map(lambda x: x - 25)\n",
        "center_price"
      ],
      "metadata": {
        "colab": {
          "base_uri": "https://localhost:8080/"
        },
        "id": "sM1qt_asyTCg",
        "outputId": "d473d1f6-a8b0-413b-c65a-c371efd03d3e"
      },
      "execution_count": null,
      "outputs": [
        {
          "output_type": "execute_result",
          "data": {
            "text/plain": [
              "0          NaN\n",
              "1        -10.0\n",
              "2        -11.0\n",
              "3        -12.0\n",
              "4         40.0\n",
              "          ... \n",
              "129966     3.0\n",
              "129967    50.0\n",
              "129968     5.0\n",
              "129969     7.0\n",
              "129970    -4.0\n",
              "Name: price, Length: 129971, dtype: float64"
            ]
          },
          "metadata": {},
          "execution_count": 90
        }
      ]
    },
    {
      "cell_type": "code",
      "source": [
        "#2\n",
        "center_price = reviews.price.apply(lambda x: x - 25)\n",
        "center_price"
      ],
      "metadata": {
        "colab": {
          "base_uri": "https://localhost:8080/"
        },
        "id": "yR3SG9LfyMFW",
        "outputId": "242e9d0a-5759-4776-fd46-22780c7237d0"
      },
      "execution_count": null,
      "outputs": [
        {
          "output_type": "execute_result",
          "data": {
            "text/plain": [
              "0          NaN\n",
              "1        -10.0\n",
              "2        -11.0\n",
              "3        -12.0\n",
              "4         40.0\n",
              "          ... \n",
              "129966     3.0\n",
              "129967    50.0\n",
              "129968     5.0\n",
              "129969     7.0\n",
              "129970    -4.0\n",
              "Name: price, Length: 129971, dtype: float64"
            ]
          },
          "metadata": {},
          "execution_count": 87
        }
      ]
    },
    {
      "cell_type": "code",
      "source": [
        "#3\n",
        "center_price = reviews.price - 25\n",
        "center_price"
      ],
      "metadata": {
        "colab": {
          "base_uri": "https://localhost:8080/"
        },
        "id": "HUWnV6AiybSh",
        "outputId": "90ab7ca3-145c-4d80-ad8b-769b61ccaa04"
      },
      "execution_count": null,
      "outputs": [
        {
          "output_type": "execute_result",
          "data": {
            "text/plain": [
              "0          NaN\n",
              "1        -10.0\n",
              "2        -11.0\n",
              "3        -12.0\n",
              "4         40.0\n",
              "          ... \n",
              "129966     3.0\n",
              "129967    50.0\n",
              "129968     5.0\n",
              "129969     7.0\n",
              "129970    -4.0\n",
              "Name: price, Length: 129971, dtype: float64"
            ]
          },
          "metadata": {},
          "execution_count": 94
        }
      ]
    },
    {
      "cell_type": "markdown",
      "metadata": {
        "id": "LboDgtjiiYB1"
      },
      "source": [
        "## 19.\n",
        "I'm an economical wine buyer. Which wine is the \"best bargain\"? Create a variable `bargain_wine` with the title of the wine with the highest points-to-price ratio in the dataset."
      ]
    },
    {
      "cell_type": "code",
      "source": [
        "reviews[\"points-to-price ratio\"] = reviews.points - reviews.price\n",
        "bargain_wine = reviews.loc[reviews[\"points-to-price ratio\"].idxmax()].title\n",
        "bargain_wine"
      ],
      "metadata": {
        "colab": {
          "base_uri": "https://localhost:8080/",
          "height": 35
        },
        "id": "_6V721hoynhz",
        "outputId": "ee25a8e8-a14b-4e9c-d513-71ad2dfde6e8"
      },
      "execution_count": null,
      "outputs": [
        {
          "output_type": "execute_result",
          "data": {
            "text/plain": [
              "'Herdade dos Machados 2012 Toutalga Red (Alentejano)'"
            ],
            "application/vnd.google.colaboratory.intrinsic+json": {
              "type": "string"
            }
          },
          "metadata": {},
          "execution_count": 110
        }
      ]
    },
    {
      "cell_type": "markdown",
      "metadata": {
        "id": "z9AdHlBQiYB1"
      },
      "source": [
        "## 20.\n",
        "There are only so many words you can use when describing a bottle of wine. Is a wine more likely to be \"tropical\" or \"fruity\"? Create a Series `descriptor_counts` counting how many times each of these two words appears in the `description` column in the dataset."
      ]
    },
    {
      "cell_type": "code",
      "metadata": {
        "id": "6ssDDgDaiYB2",
        "colab": {
          "base_uri": "https://localhost:8080/"
        },
        "outputId": "9aeb6eeb-412e-41da-9eb3-28cd23e0184b"
      },
      "source": [
        "n_trop = reviews.description.map(lambda desc: \"tropical\" in desc).sum()\n",
        "n_fruity = reviews.description.map(lambda desc: \"fruity\" in desc).sum()\n",
        "descriptor_counts = pd.Series([n_trop, n_fruity], index=['tropical', 'fruity'])\n",
        "descriptor_counts"
      ],
      "execution_count": null,
      "outputs": [
        {
          "output_type": "execute_result",
          "data": {
            "text/plain": [
              "tropical    3607\n",
              "fruity      9090\n",
              "dtype: int64"
            ]
          },
          "metadata": {},
          "execution_count": 116
        }
      ]
    },
    {
      "cell_type": "markdown",
      "metadata": {
        "id": "stx_VVTEiYB2"
      },
      "source": [
        "## 21.\n",
        "We'd like to host these wine reviews on our website, but a rating system ranging from 80 to 100 points is too hard to understand - we'd like to translate them into simple star ratings. A score of 95 or higher counts as 3 stars, a score of at least 85 but less than 95 is 2 stars. Any other score is 1 star.\n",
        "\n",
        "Also, the New York Vintners Association bought a lot of ads on the site, so any wines from New York should automatically get 3 stars, regardless of points.\n",
        "\n",
        "Create a series `star_ratings` with the number of stars corresponding to each review in the dataset."
      ]
    },
    {
      "cell_type": "code",
      "metadata": {
        "id": "aZDftZOIT0jN"
      },
      "source": [
        "def stars(row):\n",
        "  if row.country == \"New York\":\n",
        "    return 3\n",
        "  elif row.points >= 95:\n",
        "    return 3\n",
        "  elif row.points >= 85:\n",
        "    return 2\n",
        "  else:\n",
        "    return 1\n",
        "\n",
        "star_rating = reviews.apply(stars, axis = 'columns')"
      ],
      "execution_count": null,
      "outputs": []
    },
    {
      "cell_type": "code",
      "metadata": {
        "id": "26AXHPrtT0gV",
        "colab": {
          "base_uri": "https://localhost:8080/"
        },
        "outputId": "1dbba2d1-7c68-44f5-bb50-bf5fc368228d"
      },
      "source": [
        "star_rating"
      ],
      "execution_count": null,
      "outputs": [
        {
          "output_type": "execute_result",
          "data": {
            "text/plain": [
              "0         2\n",
              "1         2\n",
              "2         2\n",
              "3         2\n",
              "4         2\n",
              "         ..\n",
              "129966    2\n",
              "129967    2\n",
              "129968    2\n",
              "129969    2\n",
              "129970    2\n",
              "Length: 129971, dtype: int64"
            ]
          },
          "metadata": {},
          "execution_count": 119
        }
      ]
    },
    {
      "cell_type": "code",
      "metadata": {
        "id": "KuPCrlatT0dk",
        "colab": {
          "base_uri": "https://localhost:8080/"
        },
        "outputId": "7ccd3e07-ace7-4f5d-d3cc-970932b6a26a"
      },
      "source": [
        "type(star_rating)"
      ],
      "execution_count": null,
      "outputs": [
        {
          "output_type": "execute_result",
          "data": {
            "text/plain": [
              "pandas.core.series.Series"
            ]
          },
          "metadata": {},
          "execution_count": 120
        }
      ]
    },
    {
      "cell_type": "markdown",
      "metadata": {
        "id": "XGkwqbmGEca5"
      },
      "source": [
        "# Introduction\n",
        "\n",
        "In these exercises we'll apply groupwise analysis to our dataset.\n",
        "\n",
        "Run the code cell below to load the data before running the exercises."
      ]
    },
    {
      "cell_type": "code",
      "metadata": {
        "id": "P1bhr-fIEca6"
      },
      "source": [
        "import pandas as pd\n",
        "\n",
        "reviews = pd.read_csv(\"/content/drive/MyDrive/Colab Notebooks/ewha_stat_programming/week5_pandas_datafile/winemag-data-130k-v2.csv\", index_col=0)\n",
        "#pd.set_option(\"display.max_rows\", 5)"
      ],
      "execution_count": null,
      "outputs": []
    },
    {
      "cell_type": "markdown",
      "metadata": {
        "id": "2gljORvpEca9"
      },
      "source": [
        "## 22.\n",
        "Who are the most common wine reviewers in the dataset? Create a `Series` whose index is the `taster_twitter_handle` category from the dataset, and whose values count how many reviews each person wrote."
      ]
    },
    {
      "cell_type": "code",
      "metadata": {
        "id": "QKk0b3ZfEca9",
        "colab": {
          "base_uri": "https://localhost:8080/"
        },
        "outputId": "76b33ea6-4c95-4a70-a7a7-b0556afffb93"
      },
      "source": [
        "common_wine_reviewers = reviews.groupby('taster_twitter_handle').taster_twitter_handle.count()\n",
        "common_wine_reviewers"
      ],
      "execution_count": null,
      "outputs": [
        {
          "output_type": "execute_result",
          "data": {
            "text/plain": [
              "taster_twitter_handle\n",
              "@AnneInVino          3685\n",
              "@JoeCz               5147\n",
              "@bkfiona               27\n",
              "@gordone_cellars     4177\n",
              "@kerinokeefe        10776\n",
              "@laurbuzz            1835\n",
              "@mattkettmann        6332\n",
              "@paulgwine           9532\n",
              "@suskostrzewa        1085\n",
              "@vboone              9537\n",
              "@vossroger          25514\n",
              "@wawinereport        4966\n",
              "@wineschach         15134\n",
              "@winewchristina         6\n",
              "@worldwineguys       1005\n",
              "Name: taster_twitter_handle, dtype: int64"
            ]
          },
          "metadata": {},
          "execution_count": 122
        }
      ]
    },
    {
      "cell_type": "markdown",
      "metadata": {
        "id": "XIB57qJnEcbA"
      },
      "source": [
        "## 23.\n",
        "What is the best wine I can buy for a given amount of money? Create a `Series` whose index is wine prices and whose values is the maximum number of points a wine costing that much was given in a review. Sort the values by price, ascending (so that `4.0` dollars is at the top and `3300.0` dollars is at the bottom)."
      ]
    },
    {
      "cell_type": "code",
      "metadata": {
        "id": "Sah9LbtxEcbB",
        "colab": {
          "base_uri": "https://localhost:8080/"
        },
        "outputId": "b35988a7-a308-4ddf-d1ef-d068e7f5e3a0"
      },
      "source": [
        "Series = reviews.groupby('price').points.max()\n",
        "Series"
      ],
      "execution_count": null,
      "outputs": [
        {
          "output_type": "execute_result",
          "data": {
            "text/plain": [
              "price\n",
              "4.0       86\n",
              "5.0       87\n",
              "6.0       88\n",
              "7.0       91\n",
              "8.0       91\n",
              "          ..\n",
              "1900.0    98\n",
              "2000.0    97\n",
              "2013.0    91\n",
              "2500.0    96\n",
              "3300.0    88\n",
              "Name: points, Length: 390, dtype: int64"
            ]
          },
          "metadata": {},
          "execution_count": 126
        }
      ]
    },
    {
      "cell_type": "markdown",
      "metadata": {
        "id": "nqDeB44xEcbC"
      },
      "source": [
        "## 24.\n",
        "What are the minimum and maximum prices for each `variety` of wine? Create a `DataFrame` whose index is the `variety` category from the dataset and whose values are the `min` and `max` values thereof."
      ]
    },
    {
      "cell_type": "code",
      "metadata": {
        "id": "CxoXUotfEcbD",
        "colab": {
          "base_uri": "https://localhost:8080/",
          "height": 455
        },
        "outputId": "5effd641-eb33-49fd-e225-47fd05d1762f"
      },
      "source": [
        "DataFrame = reviews.groupby('variety').price.agg([min, max])\n",
        "DataFrame"
      ],
      "execution_count": null,
      "outputs": [
        {
          "output_type": "execute_result",
          "data": {
            "text/plain": [
              "              min    max\n",
              "variety                 \n",
              "Abouriou     15.0   75.0\n",
              "Agiorgitiko  10.0   66.0\n",
              "Aglianico     6.0  180.0\n",
              "Aidani       27.0   27.0\n",
              "Airen         8.0   10.0\n",
              "...           ...    ...\n",
              "Zinfandel     5.0  100.0\n",
              "Zlahtina     13.0   16.0\n",
              "Zweigelt      9.0   70.0\n",
              "Çalkarası    19.0   19.0\n",
              "Žilavka      15.0   15.0\n",
              "\n",
              "[707 rows x 2 columns]"
            ],
            "text/html": [
              "\n",
              "  <div id=\"df-860206cb-1883-46c4-bdd1-8e3789d59bb3\">\n",
              "    <div class=\"colab-df-container\">\n",
              "      <div>\n",
              "<style scoped>\n",
              "    .dataframe tbody tr th:only-of-type {\n",
              "        vertical-align: middle;\n",
              "    }\n",
              "\n",
              "    .dataframe tbody tr th {\n",
              "        vertical-align: top;\n",
              "    }\n",
              "\n",
              "    .dataframe thead th {\n",
              "        text-align: right;\n",
              "    }\n",
              "</style>\n",
              "<table border=\"1\" class=\"dataframe\">\n",
              "  <thead>\n",
              "    <tr style=\"text-align: right;\">\n",
              "      <th></th>\n",
              "      <th>min</th>\n",
              "      <th>max</th>\n",
              "    </tr>\n",
              "    <tr>\n",
              "      <th>variety</th>\n",
              "      <th></th>\n",
              "      <th></th>\n",
              "    </tr>\n",
              "  </thead>\n",
              "  <tbody>\n",
              "    <tr>\n",
              "      <th>Abouriou</th>\n",
              "      <td>15.0</td>\n",
              "      <td>75.0</td>\n",
              "    </tr>\n",
              "    <tr>\n",
              "      <th>Agiorgitiko</th>\n",
              "      <td>10.0</td>\n",
              "      <td>66.0</td>\n",
              "    </tr>\n",
              "    <tr>\n",
              "      <th>Aglianico</th>\n",
              "      <td>6.0</td>\n",
              "      <td>180.0</td>\n",
              "    </tr>\n",
              "    <tr>\n",
              "      <th>Aidani</th>\n",
              "      <td>27.0</td>\n",
              "      <td>27.0</td>\n",
              "    </tr>\n",
              "    <tr>\n",
              "      <th>Airen</th>\n",
              "      <td>8.0</td>\n",
              "      <td>10.0</td>\n",
              "    </tr>\n",
              "    <tr>\n",
              "      <th>...</th>\n",
              "      <td>...</td>\n",
              "      <td>...</td>\n",
              "    </tr>\n",
              "    <tr>\n",
              "      <th>Zinfandel</th>\n",
              "      <td>5.0</td>\n",
              "      <td>100.0</td>\n",
              "    </tr>\n",
              "    <tr>\n",
              "      <th>Zlahtina</th>\n",
              "      <td>13.0</td>\n",
              "      <td>16.0</td>\n",
              "    </tr>\n",
              "    <tr>\n",
              "      <th>Zweigelt</th>\n",
              "      <td>9.0</td>\n",
              "      <td>70.0</td>\n",
              "    </tr>\n",
              "    <tr>\n",
              "      <th>Çalkarası</th>\n",
              "      <td>19.0</td>\n",
              "      <td>19.0</td>\n",
              "    </tr>\n",
              "    <tr>\n",
              "      <th>Žilavka</th>\n",
              "      <td>15.0</td>\n",
              "      <td>15.0</td>\n",
              "    </tr>\n",
              "  </tbody>\n",
              "</table>\n",
              "<p>707 rows × 2 columns</p>\n",
              "</div>\n",
              "      <button class=\"colab-df-convert\" onclick=\"convertToInteractive('df-860206cb-1883-46c4-bdd1-8e3789d59bb3')\"\n",
              "              title=\"Convert this dataframe to an interactive table.\"\n",
              "              style=\"display:none;\">\n",
              "        \n",
              "  <svg xmlns=\"http://www.w3.org/2000/svg\" height=\"24px\"viewBox=\"0 0 24 24\"\n",
              "       width=\"24px\">\n",
              "    <path d=\"M0 0h24v24H0V0z\" fill=\"none\"/>\n",
              "    <path d=\"M18.56 5.44l.94 2.06.94-2.06 2.06-.94-2.06-.94-.94-2.06-.94 2.06-2.06.94zm-11 1L8.5 8.5l.94-2.06 2.06-.94-2.06-.94L8.5 2.5l-.94 2.06-2.06.94zm10 10l.94 2.06.94-2.06 2.06-.94-2.06-.94-.94-2.06-.94 2.06-2.06.94z\"/><path d=\"M17.41 7.96l-1.37-1.37c-.4-.4-.92-.59-1.43-.59-.52 0-1.04.2-1.43.59L10.3 9.45l-7.72 7.72c-.78.78-.78 2.05 0 2.83L4 21.41c.39.39.9.59 1.41.59.51 0 1.02-.2 1.41-.59l7.78-7.78 2.81-2.81c.8-.78.8-2.07 0-2.86zM5.41 20L4 18.59l7.72-7.72 1.47 1.35L5.41 20z\"/>\n",
              "  </svg>\n",
              "      </button>\n",
              "      \n",
              "  <style>\n",
              "    .colab-df-container {\n",
              "      display:flex;\n",
              "      flex-wrap:wrap;\n",
              "      gap: 12px;\n",
              "    }\n",
              "\n",
              "    .colab-df-convert {\n",
              "      background-color: #E8F0FE;\n",
              "      border: none;\n",
              "      border-radius: 50%;\n",
              "      cursor: pointer;\n",
              "      display: none;\n",
              "      fill: #1967D2;\n",
              "      height: 32px;\n",
              "      padding: 0 0 0 0;\n",
              "      width: 32px;\n",
              "    }\n",
              "\n",
              "    .colab-df-convert:hover {\n",
              "      background-color: #E2EBFA;\n",
              "      box-shadow: 0px 1px 2px rgba(60, 64, 67, 0.3), 0px 1px 3px 1px rgba(60, 64, 67, 0.15);\n",
              "      fill: #174EA6;\n",
              "    }\n",
              "\n",
              "    [theme=dark] .colab-df-convert {\n",
              "      background-color: #3B4455;\n",
              "      fill: #D2E3FC;\n",
              "    }\n",
              "\n",
              "    [theme=dark] .colab-df-convert:hover {\n",
              "      background-color: #434B5C;\n",
              "      box-shadow: 0px 1px 3px 1px rgba(0, 0, 0, 0.15);\n",
              "      filter: drop-shadow(0px 1px 2px rgba(0, 0, 0, 0.3));\n",
              "      fill: #FFFFFF;\n",
              "    }\n",
              "  </style>\n",
              "\n",
              "      <script>\n",
              "        const buttonEl =\n",
              "          document.querySelector('#df-860206cb-1883-46c4-bdd1-8e3789d59bb3 button.colab-df-convert');\n",
              "        buttonEl.style.display =\n",
              "          google.colab.kernel.accessAllowed ? 'block' : 'none';\n",
              "\n",
              "        async function convertToInteractive(key) {\n",
              "          const element = document.querySelector('#df-860206cb-1883-46c4-bdd1-8e3789d59bb3');\n",
              "          const dataTable =\n",
              "            await google.colab.kernel.invokeFunction('convertToInteractive',\n",
              "                                                     [key], {});\n",
              "          if (!dataTable) return;\n",
              "\n",
              "          const docLinkHtml = 'Like what you see? Visit the ' +\n",
              "            '<a target=\"_blank\" href=https://colab.research.google.com/notebooks/data_table.ipynb>data table notebook</a>'\n",
              "            + ' to learn more about interactive tables.';\n",
              "          element.innerHTML = '';\n",
              "          dataTable['output_type'] = 'display_data';\n",
              "          await google.colab.output.renderOutput(dataTable, element);\n",
              "          const docLink = document.createElement('div');\n",
              "          docLink.innerHTML = docLinkHtml;\n",
              "          element.appendChild(docLink);\n",
              "        }\n",
              "      </script>\n",
              "    </div>\n",
              "  </div>\n",
              "  "
            ]
          },
          "metadata": {},
          "execution_count": 125
        }
      ]
    },
    {
      "cell_type": "markdown",
      "metadata": {
        "id": "h80O7oWpEcbE"
      },
      "source": [
        "## 25.\n",
        "What are the most expensive wine varieties? Create a variable `sorted_varieties` containing a copy of the dataframe from the previous question where varieties are sorted in descending order based on minimum price, then on maximum price (to break ties)."
      ]
    },
    {
      "cell_type": "code",
      "metadata": {
        "id": "L4TZjrSgEcbF",
        "colab": {
          "base_uri": "https://localhost:8080/",
          "height": 455
        },
        "outputId": "a00d7d77-8bb3-43ea-8fd2-e46e61c452c4"
      },
      "source": [
        "sorted_varieties = reviews.groupby('variety').price.agg([min, max]).sort_values(['min', 'max'], ascending=False)\n",
        "sorted_varieties"
      ],
      "execution_count": null,
      "outputs": [
        {
          "output_type": "execute_result",
          "data": {
            "text/plain": [
              "                                  min    max\n",
              "variety                                     \n",
              "Ramisco                         495.0  495.0\n",
              "Terrantez                       236.0  236.0\n",
              "Francisa                        160.0  160.0\n",
              "Rosenmuskateller                150.0  150.0\n",
              "Tinta Negra Mole                112.0  112.0\n",
              "...                               ...    ...\n",
              "Roscetto                          NaN    NaN\n",
              "Sauvignon Blanc-Sauvignon Gris    NaN    NaN\n",
              "Tempranillo-Malbec                NaN    NaN\n",
              "Vital                             NaN    NaN\n",
              "Zelen                             NaN    NaN\n",
              "\n",
              "[707 rows x 2 columns]"
            ],
            "text/html": [
              "\n",
              "  <div id=\"df-14f26cf0-2fdc-4619-b5f4-71e5cde03a3c\">\n",
              "    <div class=\"colab-df-container\">\n",
              "      <div>\n",
              "<style scoped>\n",
              "    .dataframe tbody tr th:only-of-type {\n",
              "        vertical-align: middle;\n",
              "    }\n",
              "\n",
              "    .dataframe tbody tr th {\n",
              "        vertical-align: top;\n",
              "    }\n",
              "\n",
              "    .dataframe thead th {\n",
              "        text-align: right;\n",
              "    }\n",
              "</style>\n",
              "<table border=\"1\" class=\"dataframe\">\n",
              "  <thead>\n",
              "    <tr style=\"text-align: right;\">\n",
              "      <th></th>\n",
              "      <th>min</th>\n",
              "      <th>max</th>\n",
              "    </tr>\n",
              "    <tr>\n",
              "      <th>variety</th>\n",
              "      <th></th>\n",
              "      <th></th>\n",
              "    </tr>\n",
              "  </thead>\n",
              "  <tbody>\n",
              "    <tr>\n",
              "      <th>Ramisco</th>\n",
              "      <td>495.0</td>\n",
              "      <td>495.0</td>\n",
              "    </tr>\n",
              "    <tr>\n",
              "      <th>Terrantez</th>\n",
              "      <td>236.0</td>\n",
              "      <td>236.0</td>\n",
              "    </tr>\n",
              "    <tr>\n",
              "      <th>Francisa</th>\n",
              "      <td>160.0</td>\n",
              "      <td>160.0</td>\n",
              "    </tr>\n",
              "    <tr>\n",
              "      <th>Rosenmuskateller</th>\n",
              "      <td>150.0</td>\n",
              "      <td>150.0</td>\n",
              "    </tr>\n",
              "    <tr>\n",
              "      <th>Tinta Negra Mole</th>\n",
              "      <td>112.0</td>\n",
              "      <td>112.0</td>\n",
              "    </tr>\n",
              "    <tr>\n",
              "      <th>...</th>\n",
              "      <td>...</td>\n",
              "      <td>...</td>\n",
              "    </tr>\n",
              "    <tr>\n",
              "      <th>Roscetto</th>\n",
              "      <td>NaN</td>\n",
              "      <td>NaN</td>\n",
              "    </tr>\n",
              "    <tr>\n",
              "      <th>Sauvignon Blanc-Sauvignon Gris</th>\n",
              "      <td>NaN</td>\n",
              "      <td>NaN</td>\n",
              "    </tr>\n",
              "    <tr>\n",
              "      <th>Tempranillo-Malbec</th>\n",
              "      <td>NaN</td>\n",
              "      <td>NaN</td>\n",
              "    </tr>\n",
              "    <tr>\n",
              "      <th>Vital</th>\n",
              "      <td>NaN</td>\n",
              "      <td>NaN</td>\n",
              "    </tr>\n",
              "    <tr>\n",
              "      <th>Zelen</th>\n",
              "      <td>NaN</td>\n",
              "      <td>NaN</td>\n",
              "    </tr>\n",
              "  </tbody>\n",
              "</table>\n",
              "<p>707 rows × 2 columns</p>\n",
              "</div>\n",
              "      <button class=\"colab-df-convert\" onclick=\"convertToInteractive('df-14f26cf0-2fdc-4619-b5f4-71e5cde03a3c')\"\n",
              "              title=\"Convert this dataframe to an interactive table.\"\n",
              "              style=\"display:none;\">\n",
              "        \n",
              "  <svg xmlns=\"http://www.w3.org/2000/svg\" height=\"24px\"viewBox=\"0 0 24 24\"\n",
              "       width=\"24px\">\n",
              "    <path d=\"M0 0h24v24H0V0z\" fill=\"none\"/>\n",
              "    <path d=\"M18.56 5.44l.94 2.06.94-2.06 2.06-.94-2.06-.94-.94-2.06-.94 2.06-2.06.94zm-11 1L8.5 8.5l.94-2.06 2.06-.94-2.06-.94L8.5 2.5l-.94 2.06-2.06.94zm10 10l.94 2.06.94-2.06 2.06-.94-2.06-.94-.94-2.06-.94 2.06-2.06.94z\"/><path d=\"M17.41 7.96l-1.37-1.37c-.4-.4-.92-.59-1.43-.59-.52 0-1.04.2-1.43.59L10.3 9.45l-7.72 7.72c-.78.78-.78 2.05 0 2.83L4 21.41c.39.39.9.59 1.41.59.51 0 1.02-.2 1.41-.59l7.78-7.78 2.81-2.81c.8-.78.8-2.07 0-2.86zM5.41 20L4 18.59l7.72-7.72 1.47 1.35L5.41 20z\"/>\n",
              "  </svg>\n",
              "      </button>\n",
              "      \n",
              "  <style>\n",
              "    .colab-df-container {\n",
              "      display:flex;\n",
              "      flex-wrap:wrap;\n",
              "      gap: 12px;\n",
              "    }\n",
              "\n",
              "    .colab-df-convert {\n",
              "      background-color: #E8F0FE;\n",
              "      border: none;\n",
              "      border-radius: 50%;\n",
              "      cursor: pointer;\n",
              "      display: none;\n",
              "      fill: #1967D2;\n",
              "      height: 32px;\n",
              "      padding: 0 0 0 0;\n",
              "      width: 32px;\n",
              "    }\n",
              "\n",
              "    .colab-df-convert:hover {\n",
              "      background-color: #E2EBFA;\n",
              "      box-shadow: 0px 1px 2px rgba(60, 64, 67, 0.3), 0px 1px 3px 1px rgba(60, 64, 67, 0.15);\n",
              "      fill: #174EA6;\n",
              "    }\n",
              "\n",
              "    [theme=dark] .colab-df-convert {\n",
              "      background-color: #3B4455;\n",
              "      fill: #D2E3FC;\n",
              "    }\n",
              "\n",
              "    [theme=dark] .colab-df-convert:hover {\n",
              "      background-color: #434B5C;\n",
              "      box-shadow: 0px 1px 3px 1px rgba(0, 0, 0, 0.15);\n",
              "      filter: drop-shadow(0px 1px 2px rgba(0, 0, 0, 0.3));\n",
              "      fill: #FFFFFF;\n",
              "    }\n",
              "  </style>\n",
              "\n",
              "      <script>\n",
              "        const buttonEl =\n",
              "          document.querySelector('#df-14f26cf0-2fdc-4619-b5f4-71e5cde03a3c button.colab-df-convert');\n",
              "        buttonEl.style.display =\n",
              "          google.colab.kernel.accessAllowed ? 'block' : 'none';\n",
              "\n",
              "        async function convertToInteractive(key) {\n",
              "          const element = document.querySelector('#df-14f26cf0-2fdc-4619-b5f4-71e5cde03a3c');\n",
              "          const dataTable =\n",
              "            await google.colab.kernel.invokeFunction('convertToInteractive',\n",
              "                                                     [key], {});\n",
              "          if (!dataTable) return;\n",
              "\n",
              "          const docLinkHtml = 'Like what you see? Visit the ' +\n",
              "            '<a target=\"_blank\" href=https://colab.research.google.com/notebooks/data_table.ipynb>data table notebook</a>'\n",
              "            + ' to learn more about interactive tables.';\n",
              "          element.innerHTML = '';\n",
              "          dataTable['output_type'] = 'display_data';\n",
              "          await google.colab.output.renderOutput(dataTable, element);\n",
              "          const docLink = document.createElement('div');\n",
              "          docLink.innerHTML = docLinkHtml;\n",
              "          element.appendChild(docLink);\n",
              "        }\n",
              "      </script>\n",
              "    </div>\n",
              "  </div>\n",
              "  "
            ]
          },
          "metadata": {},
          "execution_count": 130
        }
      ]
    },
    {
      "cell_type": "markdown",
      "metadata": {
        "id": "WPMpdyr9EcbG"
      },
      "source": [
        "## 26.\n",
        "Create a `Series` whose index is reviewers and whose values is the average review score given out by that reviewer. Hint: you will need the `taster_name` and `points` columns."
      ]
    },
    {
      "cell_type": "code",
      "source": [
        "reviews.columns"
      ],
      "metadata": {
        "colab": {
          "base_uri": "https://localhost:8080/"
        },
        "id": "b4YLletFAELk",
        "outputId": "6dc24ff5-6947-4bfd-8e61-2b5c5936a647"
      },
      "execution_count": null,
      "outputs": [
        {
          "output_type": "execute_result",
          "data": {
            "text/plain": [
              "Index(['country', 'description', 'designation', 'points', 'price', 'province',\n",
              "       'region_1', 'region_2', 'taster_name', 'taster_twitter_handle', 'title',\n",
              "       'variety', 'winery'],\n",
              "      dtype='object')"
            ]
          },
          "metadata": {},
          "execution_count": 132
        }
      ]
    },
    {
      "cell_type": "code",
      "metadata": {
        "id": "NoQlp6EnEcbH",
        "colab": {
          "base_uri": "https://localhost:8080/"
        },
        "outputId": "f552f51f-76ca-414b-a696-81b37dae55e6"
      },
      "source": [
        "Series = reviews.groupby(\"taster_name\").mean().points\n",
        "Series"
      ],
      "execution_count": null,
      "outputs": [
        {
          "output_type": "execute_result",
          "data": {
            "text/plain": [
              "taster_name\n",
              "Alexander Peartree    85.855422\n",
              "Anna Lee C. Iijima    88.415629\n",
              "Anne Krebiehl MW      90.562551\n",
              "Carrie Dykes          86.395683\n",
              "Christina Pickard     87.833333\n",
              "Fiona Adams           86.888889\n",
              "Jeff Jenssen          88.319756\n",
              "Jim Gordon            88.626287\n",
              "Joe Czerwinski        88.536235\n",
              "Kerin O’Keefe         88.867947\n",
              "Lauren Buzzeo         87.739510\n",
              "Matt Kettmann         90.008686\n",
              "Michael Schachner     86.907493\n",
              "Mike DeSimone         89.101167\n",
              "Paul Gregutt          89.082564\n",
              "Roger Voss            88.708003\n",
              "Sean P. Sullivan      88.755739\n",
              "Susan Kostrzewa       86.609217\n",
              "Virginie Boone        89.213379\n",
              "Name: points, dtype: float64"
            ]
          },
          "metadata": {},
          "execution_count": 140
        }
      ]
    },
    {
      "cell_type": "markdown",
      "metadata": {
        "id": "TZVjQ73NEcbH"
      },
      "source": [
        "Are there significant differences in the average scores assigned by the various reviewers? Run the cell below to use the `describe()` method to see a summary of the range of values."
      ]
    },
    {
      "cell_type": "code",
      "metadata": {
        "id": "CDdlX7jCEcbI",
        "colab": {
          "base_uri": "https://localhost:8080/"
        },
        "outputId": "14963d0f-f8a5-40c2-ec28-9f9ff92287b4"
      },
      "source": [
        "Series.describe()"
      ],
      "execution_count": null,
      "outputs": [
        {
          "output_type": "execute_result",
          "data": {
            "text/plain": [
              "count    19.000000\n",
              "mean     88.233026\n",
              "std       1.243610\n",
              "min      85.855422\n",
              "25%      87.323501\n",
              "50%      88.536235\n",
              "75%      88.975256\n",
              "max      90.562551\n",
              "Name: points, dtype: float64"
            ]
          },
          "metadata": {},
          "execution_count": 143
        }
      ]
    },
    {
      "cell_type": "markdown",
      "metadata": {
        "id": "Xp5IbDYIEcbI"
      },
      "source": [
        "## 27.\n",
        "What combination of countries and varieties are most common? Create a `Series` whose index is a `MultiIndex`of `{country, variety}` pairs. For example, a pinot noir produced in the US should map to `{\"US\", \"Pinot Noir\"}`. Sort the values in the `Series` in descending order based on wine count."
      ]
    },
    {
      "cell_type": "code",
      "metadata": {
        "id": "kFh-Du-cEcbJ",
        "colab": {
          "base_uri": "https://localhost:8080/"
        },
        "outputId": "885b3334-db76-4b86-c0ff-2d1d89a67a67"
      },
      "source": [
        "Series = reviews.groupby(['country', 'variety']).n.count().sort_values(ascending=False)\n",
        "Series"
      ],
      "execution_count": null,
      "outputs": [
        {
          "output_type": "execute_result",
          "data": {
            "text/plain": [
              "country  variety                 \n",
              "US       Pinot Noir                  9885\n",
              "         Cabernet Sauvignon          7315\n",
              "         Chardonnay                  6801\n",
              "France   Bordeaux-style Red Blend    4725\n",
              "Italy    Red Blend                   3624\n",
              "                                     ... \n",
              "Mexico   Cinsault                       1\n",
              "         Grenache                       1\n",
              "         Merlot                         1\n",
              "         Rosado                         1\n",
              "Uruguay  White Blend                    1\n",
              "Name: n, Length: 1612, dtype: int64"
            ]
          },
          "metadata": {},
          "execution_count": 147
        }
      ]
    },
    {
      "cell_type": "markdown",
      "metadata": {
        "id": "iQvzNkCvF4oB"
      },
      "source": [
        "## 28. \n",
        "What is the data type of the `points` column in the dataset?"
      ]
    },
    {
      "cell_type": "code",
      "metadata": {
        "id": "HDOXYiHdF4oC",
        "colab": {
          "base_uri": "https://localhost:8080/"
        },
        "outputId": "354569cd-ec5b-4e53-ec64-03e61242f35d"
      },
      "source": [
        "reviews.points.dtype"
      ],
      "execution_count": null,
      "outputs": [
        {
          "output_type": "execute_result",
          "data": {
            "text/plain": [
              "dtype('int64')"
            ]
          },
          "metadata": {},
          "execution_count": 149
        }
      ]
    },
    {
      "cell_type": "markdown",
      "metadata": {
        "id": "UOr9uvS1F4oC"
      },
      "source": [
        "## 29. \n",
        "Create a Series from entries in the `points` column, but convert the entries to strings. Hint: strings are `str` in native Python."
      ]
    },
    {
      "cell_type": "code",
      "metadata": {
        "id": "_hDawy3cF4oD",
        "colab": {
          "base_uri": "https://localhost:8080/"
        },
        "outputId": "844ec955-ef14-46eb-824f-793e5dbaab37"
      },
      "source": [
        "point_strings = reviews.points.astype('str')\n",
        "point_strings"
      ],
      "execution_count": null,
      "outputs": [
        {
          "output_type": "execute_result",
          "data": {
            "text/plain": [
              "0         87\n",
              "1         87\n",
              "2         87\n",
              "3         87\n",
              "4         87\n",
              "          ..\n",
              "129966    90\n",
              "129967    90\n",
              "129968    90\n",
              "129969    90\n",
              "129970    90\n",
              "Name: points, Length: 129971, dtype: object"
            ]
          },
          "metadata": {},
          "execution_count": 150
        }
      ]
    },
    {
      "cell_type": "markdown",
      "metadata": {
        "id": "ppYrJdHJF4oE"
      },
      "source": [
        "## 30.\n",
        "Sometimes the price column is null. How many reviews in the dataset are missing a price?"
      ]
    },
    {
      "cell_type": "code",
      "metadata": {
        "id": "zPXdMPy_F4oE",
        "colab": {
          "base_uri": "https://localhost:8080/"
        },
        "outputId": "f76531e8-7757-4804-9569-9ebe3fe7ba99"
      },
      "source": [
        "missing_prices = reviews.price.isnull().sum()\n",
        "missing_prices"
      ],
      "execution_count": null,
      "outputs": [
        {
          "output_type": "execute_result",
          "data": {
            "text/plain": [
              "8996"
            ]
          },
          "metadata": {},
          "execution_count": 151
        }
      ]
    },
    {
      "cell_type": "markdown",
      "metadata": {
        "id": "AZkNd3rLF4oF"
      },
      "source": [
        "## 31.\n",
        "What are the most common wine-producing regions? Create a Series counting the number of times each value occurs in the `region_1` field. This field is often missing data, so replace missing values with `Unknown`. Sort in descending order.  Your output should look something like this:\n",
        "\n",
        "```\n",
        "Unknown                    21247\n",
        "Napa Valley                 4480\n",
        "                           ...  \n",
        "Bardolino Superiore            1\n",
        "Primitivo del Tarantino        1\n",
        "Name: region_1, Length: 1230, dtype: int64\n",
        "```"
      ]
    },
    {
      "cell_type": "code",
      "metadata": {
        "id": "17U3JzDoGHcz",
        "colab": {
          "base_uri": "https://localhost:8080/"
        },
        "outputId": "105999df-ad7f-4e1b-ecb9-2d6d9c91a0c5"
      },
      "source": [
        "reviews_per_region = reviews.region_1.fillna('Unknown').value_counts().sort_values(ascending=False)\n",
        "reviews_per_region"
      ],
      "execution_count": null,
      "outputs": [
        {
          "output_type": "execute_result",
          "data": {
            "text/plain": [
              "Unknown                 21247\n",
              "Napa Valley              4480\n",
              "Columbia Valley (WA)     4124\n",
              "Russian River Valley     3091\n",
              "California               2629\n",
              "                        ...  \n",
              "Offida Rosso                1\n",
              "Corton Perrières            1\n",
              "Isle St. George             1\n",
              "Geelong                     1\n",
              "Paestum                     1\n",
              "Name: region_1, Length: 1230, dtype: int64"
            ]
          },
          "metadata": {},
          "execution_count": 152
        }
      ]
    },
    {
      "cell_type": "markdown",
      "metadata": {
        "id": "ZlTzQ3jJGVEs"
      },
      "source": [
        "## 32.\n",
        "`region_1` and `region_2` are pretty uninformative names for locale columns in the dataset. Create a copy of `reviews` with these columns renamed to `region` and `locale`, respectively."
      ]
    },
    {
      "cell_type": "code",
      "metadata": {
        "id": "H6eGuTY-GVEt",
        "colab": {
          "base_uri": "https://localhost:8080/",
          "height": 330
        },
        "outputId": "7b0cc2ed-2f3a-4b39-d7ef-c5ac190902a7"
      },
      "source": [
        "renamed = reviews.rename(columns={'region_1':'region','region_2':'locale'})\n",
        "renamed.head(2)"
      ],
      "execution_count": null,
      "outputs": [
        {
          "output_type": "execute_result",
          "data": {
            "text/plain": [
              "    country                                        description   designation  \\\n",
              "0     Italy  Aromas include tropical fruit, broom, brimston...  Vulkà Bianco   \n",
              "1  Portugal  This is ripe and fruity, a wine that is smooth...      Avidagos   \n",
              "\n",
              "   points  price           province region locale    taster_name  \\\n",
              "0      87    NaN  Sicily & Sardinia   Etna    NaN  Kerin O’Keefe   \n",
              "1      87   15.0              Douro    NaN    NaN     Roger Voss   \n",
              "\n",
              "  taster_twitter_handle                                          title  \\\n",
              "0          @kerinokeefe              Nicosia 2013 Vulkà Bianco  (Etna)   \n",
              "1            @vossroger  Quinta dos Avidagos 2011 Avidagos Red (Douro)   \n",
              "\n",
              "          variety               winery  n  \n",
              "0     White Blend              Nicosia  0  \n",
              "1  Portuguese Red  Quinta dos Avidagos  0  "
            ],
            "text/html": [
              "\n",
              "  <div id=\"df-d3701bbb-0787-4358-b20d-96a47a693ab8\">\n",
              "    <div class=\"colab-df-container\">\n",
              "      <div>\n",
              "<style scoped>\n",
              "    .dataframe tbody tr th:only-of-type {\n",
              "        vertical-align: middle;\n",
              "    }\n",
              "\n",
              "    .dataframe tbody tr th {\n",
              "        vertical-align: top;\n",
              "    }\n",
              "\n",
              "    .dataframe thead th {\n",
              "        text-align: right;\n",
              "    }\n",
              "</style>\n",
              "<table border=\"1\" class=\"dataframe\">\n",
              "  <thead>\n",
              "    <tr style=\"text-align: right;\">\n",
              "      <th></th>\n",
              "      <th>country</th>\n",
              "      <th>description</th>\n",
              "      <th>designation</th>\n",
              "      <th>points</th>\n",
              "      <th>price</th>\n",
              "      <th>province</th>\n",
              "      <th>region</th>\n",
              "      <th>locale</th>\n",
              "      <th>taster_name</th>\n",
              "      <th>taster_twitter_handle</th>\n",
              "      <th>title</th>\n",
              "      <th>variety</th>\n",
              "      <th>winery</th>\n",
              "      <th>n</th>\n",
              "    </tr>\n",
              "  </thead>\n",
              "  <tbody>\n",
              "    <tr>\n",
              "      <th>0</th>\n",
              "      <td>Italy</td>\n",
              "      <td>Aromas include tropical fruit, broom, brimston...</td>\n",
              "      <td>Vulkà Bianco</td>\n",
              "      <td>87</td>\n",
              "      <td>NaN</td>\n",
              "      <td>Sicily &amp; Sardinia</td>\n",
              "      <td>Etna</td>\n",
              "      <td>NaN</td>\n",
              "      <td>Kerin O’Keefe</td>\n",
              "      <td>@kerinokeefe</td>\n",
              "      <td>Nicosia 2013 Vulkà Bianco  (Etna)</td>\n",
              "      <td>White Blend</td>\n",
              "      <td>Nicosia</td>\n",
              "      <td>0</td>\n",
              "    </tr>\n",
              "    <tr>\n",
              "      <th>1</th>\n",
              "      <td>Portugal</td>\n",
              "      <td>This is ripe and fruity, a wine that is smooth...</td>\n",
              "      <td>Avidagos</td>\n",
              "      <td>87</td>\n",
              "      <td>15.0</td>\n",
              "      <td>Douro</td>\n",
              "      <td>NaN</td>\n",
              "      <td>NaN</td>\n",
              "      <td>Roger Voss</td>\n",
              "      <td>@vossroger</td>\n",
              "      <td>Quinta dos Avidagos 2011 Avidagos Red (Douro)</td>\n",
              "      <td>Portuguese Red</td>\n",
              "      <td>Quinta dos Avidagos</td>\n",
              "      <td>0</td>\n",
              "    </tr>\n",
              "  </tbody>\n",
              "</table>\n",
              "</div>\n",
              "      <button class=\"colab-df-convert\" onclick=\"convertToInteractive('df-d3701bbb-0787-4358-b20d-96a47a693ab8')\"\n",
              "              title=\"Convert this dataframe to an interactive table.\"\n",
              "              style=\"display:none;\">\n",
              "        \n",
              "  <svg xmlns=\"http://www.w3.org/2000/svg\" height=\"24px\"viewBox=\"0 0 24 24\"\n",
              "       width=\"24px\">\n",
              "    <path d=\"M0 0h24v24H0V0z\" fill=\"none\"/>\n",
              "    <path d=\"M18.56 5.44l.94 2.06.94-2.06 2.06-.94-2.06-.94-.94-2.06-.94 2.06-2.06.94zm-11 1L8.5 8.5l.94-2.06 2.06-.94-2.06-.94L8.5 2.5l-.94 2.06-2.06.94zm10 10l.94 2.06.94-2.06 2.06-.94-2.06-.94-.94-2.06-.94 2.06-2.06.94z\"/><path d=\"M17.41 7.96l-1.37-1.37c-.4-.4-.92-.59-1.43-.59-.52 0-1.04.2-1.43.59L10.3 9.45l-7.72 7.72c-.78.78-.78 2.05 0 2.83L4 21.41c.39.39.9.59 1.41.59.51 0 1.02-.2 1.41-.59l7.78-7.78 2.81-2.81c.8-.78.8-2.07 0-2.86zM5.41 20L4 18.59l7.72-7.72 1.47 1.35L5.41 20z\"/>\n",
              "  </svg>\n",
              "      </button>\n",
              "      \n",
              "  <style>\n",
              "    .colab-df-container {\n",
              "      display:flex;\n",
              "      flex-wrap:wrap;\n",
              "      gap: 12px;\n",
              "    }\n",
              "\n",
              "    .colab-df-convert {\n",
              "      background-color: #E8F0FE;\n",
              "      border: none;\n",
              "      border-radius: 50%;\n",
              "      cursor: pointer;\n",
              "      display: none;\n",
              "      fill: #1967D2;\n",
              "      height: 32px;\n",
              "      padding: 0 0 0 0;\n",
              "      width: 32px;\n",
              "    }\n",
              "\n",
              "    .colab-df-convert:hover {\n",
              "      background-color: #E2EBFA;\n",
              "      box-shadow: 0px 1px 2px rgba(60, 64, 67, 0.3), 0px 1px 3px 1px rgba(60, 64, 67, 0.15);\n",
              "      fill: #174EA6;\n",
              "    }\n",
              "\n",
              "    [theme=dark] .colab-df-convert {\n",
              "      background-color: #3B4455;\n",
              "      fill: #D2E3FC;\n",
              "    }\n",
              "\n",
              "    [theme=dark] .colab-df-convert:hover {\n",
              "      background-color: #434B5C;\n",
              "      box-shadow: 0px 1px 3px 1px rgba(0, 0, 0, 0.15);\n",
              "      filter: drop-shadow(0px 1px 2px rgba(0, 0, 0, 0.3));\n",
              "      fill: #FFFFFF;\n",
              "    }\n",
              "  </style>\n",
              "\n",
              "      <script>\n",
              "        const buttonEl =\n",
              "          document.querySelector('#df-d3701bbb-0787-4358-b20d-96a47a693ab8 button.colab-df-convert');\n",
              "        buttonEl.style.display =\n",
              "          google.colab.kernel.accessAllowed ? 'block' : 'none';\n",
              "\n",
              "        async function convertToInteractive(key) {\n",
              "          const element = document.querySelector('#df-d3701bbb-0787-4358-b20d-96a47a693ab8');\n",
              "          const dataTable =\n",
              "            await google.colab.kernel.invokeFunction('convertToInteractive',\n",
              "                                                     [key], {});\n",
              "          if (!dataTable) return;\n",
              "\n",
              "          const docLinkHtml = 'Like what you see? Visit the ' +\n",
              "            '<a target=\"_blank\" href=https://colab.research.google.com/notebooks/data_table.ipynb>data table notebook</a>'\n",
              "            + ' to learn more about interactive tables.';\n",
              "          element.innerHTML = '';\n",
              "          dataTable['output_type'] = 'display_data';\n",
              "          await google.colab.output.renderOutput(dataTable, element);\n",
              "          const docLink = document.createElement('div');\n",
              "          docLink.innerHTML = docLinkHtml;\n",
              "          element.appendChild(docLink);\n",
              "        }\n",
              "      </script>\n",
              "    </div>\n",
              "  </div>\n",
              "  "
            ]
          },
          "metadata": {},
          "execution_count": 157
        }
      ]
    },
    {
      "cell_type": "markdown",
      "metadata": {
        "id": "Sjvx5CdzGVEv"
      },
      "source": [
        "## 33.\n",
        "Set the index name in the dataset to `wines`."
      ]
    },
    {
      "cell_type": "code",
      "metadata": {
        "id": "xMJ-agvDGVEw",
        "colab": {
          "base_uri": "https://localhost:8080/",
          "height": 381
        },
        "outputId": "047ba617-75d6-4b00-ce83-784651d27228"
      },
      "source": [
        "reindexed = reviews.rename_axis('wines', axis= 'rows')\n",
        "reindexed.head(2)"
      ],
      "execution_count": null,
      "outputs": [
        {
          "output_type": "execute_result",
          "data": {
            "text/plain": [
              "        country                                        description  \\\n",
              "wines                                                                \n",
              "0         Italy  Aromas include tropical fruit, broom, brimston...   \n",
              "1      Portugal  This is ripe and fruity, a wine that is smooth...   \n",
              "\n",
              "        designation  points  price           province region_1 region_2  \\\n",
              "wines                                                                     \n",
              "0      Vulkà Bianco      87    NaN  Sicily & Sardinia     Etna      NaN   \n",
              "1          Avidagos      87   15.0              Douro      NaN      NaN   \n",
              "\n",
              "         taster_name taster_twitter_handle  \\\n",
              "wines                                        \n",
              "0      Kerin O’Keefe          @kerinokeefe   \n",
              "1         Roger Voss            @vossroger   \n",
              "\n",
              "                                               title         variety  \\\n",
              "wines                                                                  \n",
              "0                  Nicosia 2013 Vulkà Bianco  (Etna)     White Blend   \n",
              "1      Quinta dos Avidagos 2011 Avidagos Red (Douro)  Portuguese Red   \n",
              "\n",
              "                    winery  n  \n",
              "wines                          \n",
              "0                  Nicosia  0  \n",
              "1      Quinta dos Avidagos  0  "
            ],
            "text/html": [
              "\n",
              "  <div id=\"df-2201b9d0-f09a-49b9-886f-a80b60862bbe\">\n",
              "    <div class=\"colab-df-container\">\n",
              "      <div>\n",
              "<style scoped>\n",
              "    .dataframe tbody tr th:only-of-type {\n",
              "        vertical-align: middle;\n",
              "    }\n",
              "\n",
              "    .dataframe tbody tr th {\n",
              "        vertical-align: top;\n",
              "    }\n",
              "\n",
              "    .dataframe thead th {\n",
              "        text-align: right;\n",
              "    }\n",
              "</style>\n",
              "<table border=\"1\" class=\"dataframe\">\n",
              "  <thead>\n",
              "    <tr style=\"text-align: right;\">\n",
              "      <th></th>\n",
              "      <th>country</th>\n",
              "      <th>description</th>\n",
              "      <th>designation</th>\n",
              "      <th>points</th>\n",
              "      <th>price</th>\n",
              "      <th>province</th>\n",
              "      <th>region_1</th>\n",
              "      <th>region_2</th>\n",
              "      <th>taster_name</th>\n",
              "      <th>taster_twitter_handle</th>\n",
              "      <th>title</th>\n",
              "      <th>variety</th>\n",
              "      <th>winery</th>\n",
              "      <th>n</th>\n",
              "    </tr>\n",
              "    <tr>\n",
              "      <th>wines</th>\n",
              "      <th></th>\n",
              "      <th></th>\n",
              "      <th></th>\n",
              "      <th></th>\n",
              "      <th></th>\n",
              "      <th></th>\n",
              "      <th></th>\n",
              "      <th></th>\n",
              "      <th></th>\n",
              "      <th></th>\n",
              "      <th></th>\n",
              "      <th></th>\n",
              "      <th></th>\n",
              "      <th></th>\n",
              "    </tr>\n",
              "  </thead>\n",
              "  <tbody>\n",
              "    <tr>\n",
              "      <th>0</th>\n",
              "      <td>Italy</td>\n",
              "      <td>Aromas include tropical fruit, broom, brimston...</td>\n",
              "      <td>Vulkà Bianco</td>\n",
              "      <td>87</td>\n",
              "      <td>NaN</td>\n",
              "      <td>Sicily &amp; Sardinia</td>\n",
              "      <td>Etna</td>\n",
              "      <td>NaN</td>\n",
              "      <td>Kerin O’Keefe</td>\n",
              "      <td>@kerinokeefe</td>\n",
              "      <td>Nicosia 2013 Vulkà Bianco  (Etna)</td>\n",
              "      <td>White Blend</td>\n",
              "      <td>Nicosia</td>\n",
              "      <td>0</td>\n",
              "    </tr>\n",
              "    <tr>\n",
              "      <th>1</th>\n",
              "      <td>Portugal</td>\n",
              "      <td>This is ripe and fruity, a wine that is smooth...</td>\n",
              "      <td>Avidagos</td>\n",
              "      <td>87</td>\n",
              "      <td>15.0</td>\n",
              "      <td>Douro</td>\n",
              "      <td>NaN</td>\n",
              "      <td>NaN</td>\n",
              "      <td>Roger Voss</td>\n",
              "      <td>@vossroger</td>\n",
              "      <td>Quinta dos Avidagos 2011 Avidagos Red (Douro)</td>\n",
              "      <td>Portuguese Red</td>\n",
              "      <td>Quinta dos Avidagos</td>\n",
              "      <td>0</td>\n",
              "    </tr>\n",
              "  </tbody>\n",
              "</table>\n",
              "</div>\n",
              "      <button class=\"colab-df-convert\" onclick=\"convertToInteractive('df-2201b9d0-f09a-49b9-886f-a80b60862bbe')\"\n",
              "              title=\"Convert this dataframe to an interactive table.\"\n",
              "              style=\"display:none;\">\n",
              "        \n",
              "  <svg xmlns=\"http://www.w3.org/2000/svg\" height=\"24px\"viewBox=\"0 0 24 24\"\n",
              "       width=\"24px\">\n",
              "    <path d=\"M0 0h24v24H0V0z\" fill=\"none\"/>\n",
              "    <path d=\"M18.56 5.44l.94 2.06.94-2.06 2.06-.94-2.06-.94-.94-2.06-.94 2.06-2.06.94zm-11 1L8.5 8.5l.94-2.06 2.06-.94-2.06-.94L8.5 2.5l-.94 2.06-2.06.94zm10 10l.94 2.06.94-2.06 2.06-.94-2.06-.94-.94-2.06-.94 2.06-2.06.94z\"/><path d=\"M17.41 7.96l-1.37-1.37c-.4-.4-.92-.59-1.43-.59-.52 0-1.04.2-1.43.59L10.3 9.45l-7.72 7.72c-.78.78-.78 2.05 0 2.83L4 21.41c.39.39.9.59 1.41.59.51 0 1.02-.2 1.41-.59l7.78-7.78 2.81-2.81c.8-.78.8-2.07 0-2.86zM5.41 20L4 18.59l7.72-7.72 1.47 1.35L5.41 20z\"/>\n",
              "  </svg>\n",
              "      </button>\n",
              "      \n",
              "  <style>\n",
              "    .colab-df-container {\n",
              "      display:flex;\n",
              "      flex-wrap:wrap;\n",
              "      gap: 12px;\n",
              "    }\n",
              "\n",
              "    .colab-df-convert {\n",
              "      background-color: #E8F0FE;\n",
              "      border: none;\n",
              "      border-radius: 50%;\n",
              "      cursor: pointer;\n",
              "      display: none;\n",
              "      fill: #1967D2;\n",
              "      height: 32px;\n",
              "      padding: 0 0 0 0;\n",
              "      width: 32px;\n",
              "    }\n",
              "\n",
              "    .colab-df-convert:hover {\n",
              "      background-color: #E2EBFA;\n",
              "      box-shadow: 0px 1px 2px rgba(60, 64, 67, 0.3), 0px 1px 3px 1px rgba(60, 64, 67, 0.15);\n",
              "      fill: #174EA6;\n",
              "    }\n",
              "\n",
              "    [theme=dark] .colab-df-convert {\n",
              "      background-color: #3B4455;\n",
              "      fill: #D2E3FC;\n",
              "    }\n",
              "\n",
              "    [theme=dark] .colab-df-convert:hover {\n",
              "      background-color: #434B5C;\n",
              "      box-shadow: 0px 1px 3px 1px rgba(0, 0, 0, 0.15);\n",
              "      filter: drop-shadow(0px 1px 2px rgba(0, 0, 0, 0.3));\n",
              "      fill: #FFFFFF;\n",
              "    }\n",
              "  </style>\n",
              "\n",
              "      <script>\n",
              "        const buttonEl =\n",
              "          document.querySelector('#df-2201b9d0-f09a-49b9-886f-a80b60862bbe button.colab-df-convert');\n",
              "        buttonEl.style.display =\n",
              "          google.colab.kernel.accessAllowed ? 'block' : 'none';\n",
              "\n",
              "        async function convertToInteractive(key) {\n",
              "          const element = document.querySelector('#df-2201b9d0-f09a-49b9-886f-a80b60862bbe');\n",
              "          const dataTable =\n",
              "            await google.colab.kernel.invokeFunction('convertToInteractive',\n",
              "                                                     [key], {});\n",
              "          if (!dataTable) return;\n",
              "\n",
              "          const docLinkHtml = 'Like what you see? Visit the ' +\n",
              "            '<a target=\"_blank\" href=https://colab.research.google.com/notebooks/data_table.ipynb>data table notebook</a>'\n",
              "            + ' to learn more about interactive tables.';\n",
              "          element.innerHTML = '';\n",
              "          dataTable['output_type'] = 'display_data';\n",
              "          await google.colab.output.renderOutput(dataTable, element);\n",
              "          const docLink = document.createElement('div');\n",
              "          docLink.innerHTML = docLinkHtml;\n",
              "          element.appendChild(docLink);\n",
              "        }\n",
              "      </script>\n",
              "    </div>\n",
              "  </div>\n",
              "  "
            ]
          },
          "metadata": {},
          "execution_count": 159
        }
      ]
    },
    {
      "cell_type": "markdown",
      "metadata": {
        "id": "6ocmIkIYRF4k"
      },
      "source": [
        "## 34~36\n",
        "\n",
        "You have the following information on customer."
      ]
    },
    {
      "cell_type": "code",
      "metadata": {
        "colab": {
          "base_uri": "https://localhost:8080/",
          "height": 206
        },
        "id": "KdMs2ot6RTLJ",
        "outputId": "a81686eb-4cda-452b-f8e8-b5d30b3ecd8f"
      },
      "source": [
        "import pandas as pd\n",
        "\n",
        "cust = {\"customer_id\":[101,102,103,104,105], \"name\":[\"Kim\", \"Tong\", \"Wang\", \"Oh\", \"Lee\"], \"Gender\":[\"F\", \"F\", \"F\", \"M\", \"M\"]}\n",
        "customer = pd.DataFrame(cust)\n",
        "customer"
      ],
      "execution_count": null,
      "outputs": [
        {
          "output_type": "execute_result",
          "data": {
            "text/plain": [
              "   customer_id  name Gender\n",
              "0          101   Kim      F\n",
              "1          102  Tong      F\n",
              "2          103  Wang      F\n",
              "3          104    Oh      M\n",
              "4          105   Lee      M"
            ],
            "text/html": [
              "\n",
              "  <div id=\"df-69e2877f-97cc-4fe3-a688-a4fa050dcd05\">\n",
              "    <div class=\"colab-df-container\">\n",
              "      <div>\n",
              "<style scoped>\n",
              "    .dataframe tbody tr th:only-of-type {\n",
              "        vertical-align: middle;\n",
              "    }\n",
              "\n",
              "    .dataframe tbody tr th {\n",
              "        vertical-align: top;\n",
              "    }\n",
              "\n",
              "    .dataframe thead th {\n",
              "        text-align: right;\n",
              "    }\n",
              "</style>\n",
              "<table border=\"1\" class=\"dataframe\">\n",
              "  <thead>\n",
              "    <tr style=\"text-align: right;\">\n",
              "      <th></th>\n",
              "      <th>customer_id</th>\n",
              "      <th>name</th>\n",
              "      <th>Gender</th>\n",
              "    </tr>\n",
              "  </thead>\n",
              "  <tbody>\n",
              "    <tr>\n",
              "      <th>0</th>\n",
              "      <td>101</td>\n",
              "      <td>Kim</td>\n",
              "      <td>F</td>\n",
              "    </tr>\n",
              "    <tr>\n",
              "      <th>1</th>\n",
              "      <td>102</td>\n",
              "      <td>Tong</td>\n",
              "      <td>F</td>\n",
              "    </tr>\n",
              "    <tr>\n",
              "      <th>2</th>\n",
              "      <td>103</td>\n",
              "      <td>Wang</td>\n",
              "      <td>F</td>\n",
              "    </tr>\n",
              "    <tr>\n",
              "      <th>3</th>\n",
              "      <td>104</td>\n",
              "      <td>Oh</td>\n",
              "      <td>M</td>\n",
              "    </tr>\n",
              "    <tr>\n",
              "      <th>4</th>\n",
              "      <td>105</td>\n",
              "      <td>Lee</td>\n",
              "      <td>M</td>\n",
              "    </tr>\n",
              "  </tbody>\n",
              "</table>\n",
              "</div>\n",
              "      <button class=\"colab-df-convert\" onclick=\"convertToInteractive('df-69e2877f-97cc-4fe3-a688-a4fa050dcd05')\"\n",
              "              title=\"Convert this dataframe to an interactive table.\"\n",
              "              style=\"display:none;\">\n",
              "        \n",
              "  <svg xmlns=\"http://www.w3.org/2000/svg\" height=\"24px\"viewBox=\"0 0 24 24\"\n",
              "       width=\"24px\">\n",
              "    <path d=\"M0 0h24v24H0V0z\" fill=\"none\"/>\n",
              "    <path d=\"M18.56 5.44l.94 2.06.94-2.06 2.06-.94-2.06-.94-.94-2.06-.94 2.06-2.06.94zm-11 1L8.5 8.5l.94-2.06 2.06-.94-2.06-.94L8.5 2.5l-.94 2.06-2.06.94zm10 10l.94 2.06.94-2.06 2.06-.94-2.06-.94-.94-2.06-.94 2.06-2.06.94z\"/><path d=\"M17.41 7.96l-1.37-1.37c-.4-.4-.92-.59-1.43-.59-.52 0-1.04.2-1.43.59L10.3 9.45l-7.72 7.72c-.78.78-.78 2.05 0 2.83L4 21.41c.39.39.9.59 1.41.59.51 0 1.02-.2 1.41-.59l7.78-7.78 2.81-2.81c.8-.78.8-2.07 0-2.86zM5.41 20L4 18.59l7.72-7.72 1.47 1.35L5.41 20z\"/>\n",
              "  </svg>\n",
              "      </button>\n",
              "      \n",
              "  <style>\n",
              "    .colab-df-container {\n",
              "      display:flex;\n",
              "      flex-wrap:wrap;\n",
              "      gap: 12px;\n",
              "    }\n",
              "\n",
              "    .colab-df-convert {\n",
              "      background-color: #E8F0FE;\n",
              "      border: none;\n",
              "      border-radius: 50%;\n",
              "      cursor: pointer;\n",
              "      display: none;\n",
              "      fill: #1967D2;\n",
              "      height: 32px;\n",
              "      padding: 0 0 0 0;\n",
              "      width: 32px;\n",
              "    }\n",
              "\n",
              "    .colab-df-convert:hover {\n",
              "      background-color: #E2EBFA;\n",
              "      box-shadow: 0px 1px 2px rgba(60, 64, 67, 0.3), 0px 1px 3px 1px rgba(60, 64, 67, 0.15);\n",
              "      fill: #174EA6;\n",
              "    }\n",
              "\n",
              "    [theme=dark] .colab-df-convert {\n",
              "      background-color: #3B4455;\n",
              "      fill: #D2E3FC;\n",
              "    }\n",
              "\n",
              "    [theme=dark] .colab-df-convert:hover {\n",
              "      background-color: #434B5C;\n",
              "      box-shadow: 0px 1px 3px 1px rgba(0, 0, 0, 0.15);\n",
              "      filter: drop-shadow(0px 1px 2px rgba(0, 0, 0, 0.3));\n",
              "      fill: #FFFFFF;\n",
              "    }\n",
              "  </style>\n",
              "\n",
              "      <script>\n",
              "        const buttonEl =\n",
              "          document.querySelector('#df-69e2877f-97cc-4fe3-a688-a4fa050dcd05 button.colab-df-convert');\n",
              "        buttonEl.style.display =\n",
              "          google.colab.kernel.accessAllowed ? 'block' : 'none';\n",
              "\n",
              "        async function convertToInteractive(key) {\n",
              "          const element = document.querySelector('#df-69e2877f-97cc-4fe3-a688-a4fa050dcd05');\n",
              "          const dataTable =\n",
              "            await google.colab.kernel.invokeFunction('convertToInteractive',\n",
              "                                                     [key], {});\n",
              "          if (!dataTable) return;\n",
              "\n",
              "          const docLinkHtml = 'Like what you see? Visit the ' +\n",
              "            '<a target=\"_blank\" href=https://colab.research.google.com/notebooks/data_table.ipynb>data table notebook</a>'\n",
              "            + ' to learn more about interactive tables.';\n",
              "          element.innerHTML = '';\n",
              "          dataTable['output_type'] = 'display_data';\n",
              "          await google.colab.output.renderOutput(dataTable, element);\n",
              "          const docLink = document.createElement('div');\n",
              "          docLink.innerHTML = docLinkHtml;\n",
              "          element.appendChild(docLink);\n",
              "        }\n",
              "      </script>\n",
              "    </div>\n",
              "  </div>\n",
              "  "
            ]
          },
          "metadata": {},
          "execution_count": 160
        }
      ]
    },
    {
      "cell_type": "markdown",
      "metadata": {
        "id": "iasu_URXSJEb"
      },
      "source": [
        "You also have the following information on the accident:"
      ]
    },
    {
      "cell_type": "code",
      "metadata": {
        "colab": {
          "base_uri": "https://localhost:8080/",
          "height": 363
        },
        "id": "NxivMLCFSENi",
        "outputId": "e93b238a-f083-47b9-aacf-be1118891566"
      },
      "source": [
        "acci = {\"accident_id\":[1,2,3,4,5,6,7,8,9,10], \"loss_amount\":[345, 210, 230, 102, 441, 981, 104, 85, 102, 76], \"year\":[2015, 2016, 2017, 2018, 2019, 2020, 2019, 2018, 2017, 2016], \"customer_id\":[101, 103, 104, 102, 105, 107, 108, 101, 103, 110]}\n",
        "accident = pd.DataFrame(acci)\n",
        "accident"
      ],
      "execution_count": null,
      "outputs": [
        {
          "output_type": "execute_result",
          "data": {
            "text/plain": [
              "   accident_id  loss_amount  year  customer_id\n",
              "0            1          345  2015          101\n",
              "1            2          210  2016          103\n",
              "2            3          230  2017          104\n",
              "3            4          102  2018          102\n",
              "4            5          441  2019          105\n",
              "5            6          981  2020          107\n",
              "6            7          104  2019          108\n",
              "7            8           85  2018          101\n",
              "8            9          102  2017          103\n",
              "9           10           76  2016          110"
            ],
            "text/html": [
              "\n",
              "  <div id=\"df-8a8ebca8-f624-4c89-abb5-62c5c582a7b5\">\n",
              "    <div class=\"colab-df-container\">\n",
              "      <div>\n",
              "<style scoped>\n",
              "    .dataframe tbody tr th:only-of-type {\n",
              "        vertical-align: middle;\n",
              "    }\n",
              "\n",
              "    .dataframe tbody tr th {\n",
              "        vertical-align: top;\n",
              "    }\n",
              "\n",
              "    .dataframe thead th {\n",
              "        text-align: right;\n",
              "    }\n",
              "</style>\n",
              "<table border=\"1\" class=\"dataframe\">\n",
              "  <thead>\n",
              "    <tr style=\"text-align: right;\">\n",
              "      <th></th>\n",
              "      <th>accident_id</th>\n",
              "      <th>loss_amount</th>\n",
              "      <th>year</th>\n",
              "      <th>customer_id</th>\n",
              "    </tr>\n",
              "  </thead>\n",
              "  <tbody>\n",
              "    <tr>\n",
              "      <th>0</th>\n",
              "      <td>1</td>\n",
              "      <td>345</td>\n",
              "      <td>2015</td>\n",
              "      <td>101</td>\n",
              "    </tr>\n",
              "    <tr>\n",
              "      <th>1</th>\n",
              "      <td>2</td>\n",
              "      <td>210</td>\n",
              "      <td>2016</td>\n",
              "      <td>103</td>\n",
              "    </tr>\n",
              "    <tr>\n",
              "      <th>2</th>\n",
              "      <td>3</td>\n",
              "      <td>230</td>\n",
              "      <td>2017</td>\n",
              "      <td>104</td>\n",
              "    </tr>\n",
              "    <tr>\n",
              "      <th>3</th>\n",
              "      <td>4</td>\n",
              "      <td>102</td>\n",
              "      <td>2018</td>\n",
              "      <td>102</td>\n",
              "    </tr>\n",
              "    <tr>\n",
              "      <th>4</th>\n",
              "      <td>5</td>\n",
              "      <td>441</td>\n",
              "      <td>2019</td>\n",
              "      <td>105</td>\n",
              "    </tr>\n",
              "    <tr>\n",
              "      <th>5</th>\n",
              "      <td>6</td>\n",
              "      <td>981</td>\n",
              "      <td>2020</td>\n",
              "      <td>107</td>\n",
              "    </tr>\n",
              "    <tr>\n",
              "      <th>6</th>\n",
              "      <td>7</td>\n",
              "      <td>104</td>\n",
              "      <td>2019</td>\n",
              "      <td>108</td>\n",
              "    </tr>\n",
              "    <tr>\n",
              "      <th>7</th>\n",
              "      <td>8</td>\n",
              "      <td>85</td>\n",
              "      <td>2018</td>\n",
              "      <td>101</td>\n",
              "    </tr>\n",
              "    <tr>\n",
              "      <th>8</th>\n",
              "      <td>9</td>\n",
              "      <td>102</td>\n",
              "      <td>2017</td>\n",
              "      <td>103</td>\n",
              "    </tr>\n",
              "    <tr>\n",
              "      <th>9</th>\n",
              "      <td>10</td>\n",
              "      <td>76</td>\n",
              "      <td>2016</td>\n",
              "      <td>110</td>\n",
              "    </tr>\n",
              "  </tbody>\n",
              "</table>\n",
              "</div>\n",
              "      <button class=\"colab-df-convert\" onclick=\"convertToInteractive('df-8a8ebca8-f624-4c89-abb5-62c5c582a7b5')\"\n",
              "              title=\"Convert this dataframe to an interactive table.\"\n",
              "              style=\"display:none;\">\n",
              "        \n",
              "  <svg xmlns=\"http://www.w3.org/2000/svg\" height=\"24px\"viewBox=\"0 0 24 24\"\n",
              "       width=\"24px\">\n",
              "    <path d=\"M0 0h24v24H0V0z\" fill=\"none\"/>\n",
              "    <path d=\"M18.56 5.44l.94 2.06.94-2.06 2.06-.94-2.06-.94-.94-2.06-.94 2.06-2.06.94zm-11 1L8.5 8.5l.94-2.06 2.06-.94-2.06-.94L8.5 2.5l-.94 2.06-2.06.94zm10 10l.94 2.06.94-2.06 2.06-.94-2.06-.94-.94-2.06-.94 2.06-2.06.94z\"/><path d=\"M17.41 7.96l-1.37-1.37c-.4-.4-.92-.59-1.43-.59-.52 0-1.04.2-1.43.59L10.3 9.45l-7.72 7.72c-.78.78-.78 2.05 0 2.83L4 21.41c.39.39.9.59 1.41.59.51 0 1.02-.2 1.41-.59l7.78-7.78 2.81-2.81c.8-.78.8-2.07 0-2.86zM5.41 20L4 18.59l7.72-7.72 1.47 1.35L5.41 20z\"/>\n",
              "  </svg>\n",
              "      </button>\n",
              "      \n",
              "  <style>\n",
              "    .colab-df-container {\n",
              "      display:flex;\n",
              "      flex-wrap:wrap;\n",
              "      gap: 12px;\n",
              "    }\n",
              "\n",
              "    .colab-df-convert {\n",
              "      background-color: #E8F0FE;\n",
              "      border: none;\n",
              "      border-radius: 50%;\n",
              "      cursor: pointer;\n",
              "      display: none;\n",
              "      fill: #1967D2;\n",
              "      height: 32px;\n",
              "      padding: 0 0 0 0;\n",
              "      width: 32px;\n",
              "    }\n",
              "\n",
              "    .colab-df-convert:hover {\n",
              "      background-color: #E2EBFA;\n",
              "      box-shadow: 0px 1px 2px rgba(60, 64, 67, 0.3), 0px 1px 3px 1px rgba(60, 64, 67, 0.15);\n",
              "      fill: #174EA6;\n",
              "    }\n",
              "\n",
              "    [theme=dark] .colab-df-convert {\n",
              "      background-color: #3B4455;\n",
              "      fill: #D2E3FC;\n",
              "    }\n",
              "\n",
              "    [theme=dark] .colab-df-convert:hover {\n",
              "      background-color: #434B5C;\n",
              "      box-shadow: 0px 1px 3px 1px rgba(0, 0, 0, 0.15);\n",
              "      filter: drop-shadow(0px 1px 2px rgba(0, 0, 0, 0.3));\n",
              "      fill: #FFFFFF;\n",
              "    }\n",
              "  </style>\n",
              "\n",
              "      <script>\n",
              "        const buttonEl =\n",
              "          document.querySelector('#df-8a8ebca8-f624-4c89-abb5-62c5c582a7b5 button.colab-df-convert');\n",
              "        buttonEl.style.display =\n",
              "          google.colab.kernel.accessAllowed ? 'block' : 'none';\n",
              "\n",
              "        async function convertToInteractive(key) {\n",
              "          const element = document.querySelector('#df-8a8ebca8-f624-4c89-abb5-62c5c582a7b5');\n",
              "          const dataTable =\n",
              "            await google.colab.kernel.invokeFunction('convertToInteractive',\n",
              "                                                     [key], {});\n",
              "          if (!dataTable) return;\n",
              "\n",
              "          const docLinkHtml = 'Like what you see? Visit the ' +\n",
              "            '<a target=\"_blank\" href=https://colab.research.google.com/notebooks/data_table.ipynb>data table notebook</a>'\n",
              "            + ' to learn more about interactive tables.';\n",
              "          element.innerHTML = '';\n",
              "          dataTable['output_type'] = 'display_data';\n",
              "          await google.colab.output.renderOutput(dataTable, element);\n",
              "          const docLink = document.createElement('div');\n",
              "          docLink.innerHTML = docLinkHtml;\n",
              "          element.appendChild(docLink);\n",
              "        }\n",
              "      </script>\n",
              "    </div>\n",
              "  </div>\n",
              "  "
            ]
          },
          "metadata": {},
          "execution_count": 161
        }
      ]
    },
    {
      "cell_type": "markdown",
      "metadata": {
        "id": "3vrPEfCjS_gc"
      },
      "source": [
        "Answer the following questions.\n",
        "\n",
        "## 34. Make a pandas table which include all the information on customer (101~105) and corresponding accidents."
      ]
    },
    {
      "cell_type": "code",
      "metadata": {
        "id": "-Q1MxY8nS0e6",
        "colab": {
          "base_uri": "https://localhost:8080/",
          "height": 363
        },
        "outputId": "ba491316-f953-4e80-e5dd-0ad9d18637b7"
      },
      "source": [
        "df = pd.merge(customer, accident, on=\"customer_id\", how=\"outer\")\n",
        "df"
      ],
      "execution_count": null,
      "outputs": [
        {
          "output_type": "execute_result",
          "data": {
            "text/plain": [
              "   customer_id  name Gender  accident_id  loss_amount  year\n",
              "0          101   Kim      F            1          345  2015\n",
              "1          101   Kim      F            8           85  2018\n",
              "2          102  Tong      F            4          102  2018\n",
              "3          103  Wang      F            2          210  2016\n",
              "4          103  Wang      F            9          102  2017\n",
              "5          104    Oh      M            3          230  2017\n",
              "6          105   Lee      M            5          441  2019\n",
              "7          107   NaN    NaN            6          981  2020\n",
              "8          108   NaN    NaN            7          104  2019\n",
              "9          110   NaN    NaN           10           76  2016"
            ],
            "text/html": [
              "\n",
              "  <div id=\"df-889a8bc8-6874-45a1-87e2-b48503023c1c\">\n",
              "    <div class=\"colab-df-container\">\n",
              "      <div>\n",
              "<style scoped>\n",
              "    .dataframe tbody tr th:only-of-type {\n",
              "        vertical-align: middle;\n",
              "    }\n",
              "\n",
              "    .dataframe tbody tr th {\n",
              "        vertical-align: top;\n",
              "    }\n",
              "\n",
              "    .dataframe thead th {\n",
              "        text-align: right;\n",
              "    }\n",
              "</style>\n",
              "<table border=\"1\" class=\"dataframe\">\n",
              "  <thead>\n",
              "    <tr style=\"text-align: right;\">\n",
              "      <th></th>\n",
              "      <th>customer_id</th>\n",
              "      <th>name</th>\n",
              "      <th>Gender</th>\n",
              "      <th>accident_id</th>\n",
              "      <th>loss_amount</th>\n",
              "      <th>year</th>\n",
              "    </tr>\n",
              "  </thead>\n",
              "  <tbody>\n",
              "    <tr>\n",
              "      <th>0</th>\n",
              "      <td>101</td>\n",
              "      <td>Kim</td>\n",
              "      <td>F</td>\n",
              "      <td>1</td>\n",
              "      <td>345</td>\n",
              "      <td>2015</td>\n",
              "    </tr>\n",
              "    <tr>\n",
              "      <th>1</th>\n",
              "      <td>101</td>\n",
              "      <td>Kim</td>\n",
              "      <td>F</td>\n",
              "      <td>8</td>\n",
              "      <td>85</td>\n",
              "      <td>2018</td>\n",
              "    </tr>\n",
              "    <tr>\n",
              "      <th>2</th>\n",
              "      <td>102</td>\n",
              "      <td>Tong</td>\n",
              "      <td>F</td>\n",
              "      <td>4</td>\n",
              "      <td>102</td>\n",
              "      <td>2018</td>\n",
              "    </tr>\n",
              "    <tr>\n",
              "      <th>3</th>\n",
              "      <td>103</td>\n",
              "      <td>Wang</td>\n",
              "      <td>F</td>\n",
              "      <td>2</td>\n",
              "      <td>210</td>\n",
              "      <td>2016</td>\n",
              "    </tr>\n",
              "    <tr>\n",
              "      <th>4</th>\n",
              "      <td>103</td>\n",
              "      <td>Wang</td>\n",
              "      <td>F</td>\n",
              "      <td>9</td>\n",
              "      <td>102</td>\n",
              "      <td>2017</td>\n",
              "    </tr>\n",
              "    <tr>\n",
              "      <th>5</th>\n",
              "      <td>104</td>\n",
              "      <td>Oh</td>\n",
              "      <td>M</td>\n",
              "      <td>3</td>\n",
              "      <td>230</td>\n",
              "      <td>2017</td>\n",
              "    </tr>\n",
              "    <tr>\n",
              "      <th>6</th>\n",
              "      <td>105</td>\n",
              "      <td>Lee</td>\n",
              "      <td>M</td>\n",
              "      <td>5</td>\n",
              "      <td>441</td>\n",
              "      <td>2019</td>\n",
              "    </tr>\n",
              "    <tr>\n",
              "      <th>7</th>\n",
              "      <td>107</td>\n",
              "      <td>NaN</td>\n",
              "      <td>NaN</td>\n",
              "      <td>6</td>\n",
              "      <td>981</td>\n",
              "      <td>2020</td>\n",
              "    </tr>\n",
              "    <tr>\n",
              "      <th>8</th>\n",
              "      <td>108</td>\n",
              "      <td>NaN</td>\n",
              "      <td>NaN</td>\n",
              "      <td>7</td>\n",
              "      <td>104</td>\n",
              "      <td>2019</td>\n",
              "    </tr>\n",
              "    <tr>\n",
              "      <th>9</th>\n",
              "      <td>110</td>\n",
              "      <td>NaN</td>\n",
              "      <td>NaN</td>\n",
              "      <td>10</td>\n",
              "      <td>76</td>\n",
              "      <td>2016</td>\n",
              "    </tr>\n",
              "  </tbody>\n",
              "</table>\n",
              "</div>\n",
              "      <button class=\"colab-df-convert\" onclick=\"convertToInteractive('df-889a8bc8-6874-45a1-87e2-b48503023c1c')\"\n",
              "              title=\"Convert this dataframe to an interactive table.\"\n",
              "              style=\"display:none;\">\n",
              "        \n",
              "  <svg xmlns=\"http://www.w3.org/2000/svg\" height=\"24px\"viewBox=\"0 0 24 24\"\n",
              "       width=\"24px\">\n",
              "    <path d=\"M0 0h24v24H0V0z\" fill=\"none\"/>\n",
              "    <path d=\"M18.56 5.44l.94 2.06.94-2.06 2.06-.94-2.06-.94-.94-2.06-.94 2.06-2.06.94zm-11 1L8.5 8.5l.94-2.06 2.06-.94-2.06-.94L8.5 2.5l-.94 2.06-2.06.94zm10 10l.94 2.06.94-2.06 2.06-.94-2.06-.94-.94-2.06-.94 2.06-2.06.94z\"/><path d=\"M17.41 7.96l-1.37-1.37c-.4-.4-.92-.59-1.43-.59-.52 0-1.04.2-1.43.59L10.3 9.45l-7.72 7.72c-.78.78-.78 2.05 0 2.83L4 21.41c.39.39.9.59 1.41.59.51 0 1.02-.2 1.41-.59l7.78-7.78 2.81-2.81c.8-.78.8-2.07 0-2.86zM5.41 20L4 18.59l7.72-7.72 1.47 1.35L5.41 20z\"/>\n",
              "  </svg>\n",
              "      </button>\n",
              "      \n",
              "  <style>\n",
              "    .colab-df-container {\n",
              "      display:flex;\n",
              "      flex-wrap:wrap;\n",
              "      gap: 12px;\n",
              "    }\n",
              "\n",
              "    .colab-df-convert {\n",
              "      background-color: #E8F0FE;\n",
              "      border: none;\n",
              "      border-radius: 50%;\n",
              "      cursor: pointer;\n",
              "      display: none;\n",
              "      fill: #1967D2;\n",
              "      height: 32px;\n",
              "      padding: 0 0 0 0;\n",
              "      width: 32px;\n",
              "    }\n",
              "\n",
              "    .colab-df-convert:hover {\n",
              "      background-color: #E2EBFA;\n",
              "      box-shadow: 0px 1px 2px rgba(60, 64, 67, 0.3), 0px 1px 3px 1px rgba(60, 64, 67, 0.15);\n",
              "      fill: #174EA6;\n",
              "    }\n",
              "\n",
              "    [theme=dark] .colab-df-convert {\n",
              "      background-color: #3B4455;\n",
              "      fill: #D2E3FC;\n",
              "    }\n",
              "\n",
              "    [theme=dark] .colab-df-convert:hover {\n",
              "      background-color: #434B5C;\n",
              "      box-shadow: 0px 1px 3px 1px rgba(0, 0, 0, 0.15);\n",
              "      filter: drop-shadow(0px 1px 2px rgba(0, 0, 0, 0.3));\n",
              "      fill: #FFFFFF;\n",
              "    }\n",
              "  </style>\n",
              "\n",
              "      <script>\n",
              "        const buttonEl =\n",
              "          document.querySelector('#df-889a8bc8-6874-45a1-87e2-b48503023c1c button.colab-df-convert');\n",
              "        buttonEl.style.display =\n",
              "          google.colab.kernel.accessAllowed ? 'block' : 'none';\n",
              "\n",
              "        async function convertToInteractive(key) {\n",
              "          const element = document.querySelector('#df-889a8bc8-6874-45a1-87e2-b48503023c1c');\n",
              "          const dataTable =\n",
              "            await google.colab.kernel.invokeFunction('convertToInteractive',\n",
              "                                                     [key], {});\n",
              "          if (!dataTable) return;\n",
              "\n",
              "          const docLinkHtml = 'Like what you see? Visit the ' +\n",
              "            '<a target=\"_blank\" href=https://colab.research.google.com/notebooks/data_table.ipynb>data table notebook</a>'\n",
              "            + ' to learn more about interactive tables.';\n",
              "          element.innerHTML = '';\n",
              "          dataTable['output_type'] = 'display_data';\n",
              "          await google.colab.output.renderOutput(dataTable, element);\n",
              "          const docLink = document.createElement('div');\n",
              "          docLink.innerHTML = docLinkHtml;\n",
              "          element.appendChild(docLink);\n",
              "        }\n",
              "      </script>\n",
              "    </div>\n",
              "  </div>\n",
              "  "
            ]
          },
          "metadata": {},
          "execution_count": 164
        }
      ]
    },
    {
      "cell_type": "markdown",
      "metadata": {
        "id": "IniQpQr8TOmq"
      },
      "source": [
        "## 35. Calculate the total loss for each customer (101~105)."
      ]
    },
    {
      "cell_type": "code",
      "metadata": {
        "id": "g3gncj0QTkg7",
        "colab": {
          "base_uri": "https://localhost:8080/"
        },
        "outputId": "7b163e65-c7a2-434f-a470-9f644e18fff1"
      },
      "source": [
        "df.groupby(\"customer_id\").loss_amount.sum()"
      ],
      "execution_count": null,
      "outputs": [
        {
          "output_type": "execute_result",
          "data": {
            "text/plain": [
              "customer_id\n",
              "101    430\n",
              "102    102\n",
              "103    312\n",
              "104    230\n",
              "105    441\n",
              "107    981\n",
              "108    104\n",
              "110     76\n",
              "Name: loss_amount, dtype: int64"
            ]
          },
          "metadata": {},
          "execution_count": 165
        }
      ]
    },
    {
      "cell_type": "markdown",
      "metadata": {
        "id": "7FF71N36TnVf"
      },
      "source": [
        "## 36. Calculate the total loss for Female (Gender=\"F\") and Male (Gender=\"M\"), respectively."
      ]
    },
    {
      "cell_type": "code",
      "metadata": {
        "id": "wpSQZBPfUSW7",
        "colab": {
          "base_uri": "https://localhost:8080/"
        },
        "outputId": "b5e80578-0f48-4f57-e130-77850e3a4022"
      },
      "source": [
        "df.groupby(\"Gender\").loss_amount.sum()"
      ],
      "execution_count": null,
      "outputs": [
        {
          "output_type": "execute_result",
          "data": {
            "text/plain": [
              "Gender\n",
              "F    844\n",
              "M    671\n",
              "Name: loss_amount, dtype: int64"
            ]
          },
          "metadata": {},
          "execution_count": 166
        }
      ]
    }
  ]
}