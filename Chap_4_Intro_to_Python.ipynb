{
  "nbformat": 4,
  "nbformat_minor": 0,
  "metadata": {
    "kernelspec": {
      "display_name": "Python 3",
      "language": "python",
      "name": "python3"
    },
    "language_info": {
      "codemirror_mode": {
        "name": "ipython",
        "version": 3
      },
      "file_extension": ".py",
      "mimetype": "text/x-python",
      "name": "python",
      "nbconvert_exporter": "python",
      "pygments_lexer": "ipython3",
      "version": "3.6.8"
    },
    "colab": {
      "provenance": [],
      "collapsed_sections": [],
      "include_colab_link": true
    }
  },
  "cells": [
    {
      "cell_type": "markdown",
      "metadata": {
        "id": "view-in-github",
        "colab_type": "text"
      },
      "source": [
        "<a href=\"https://colab.research.google.com/github/youngseo21/stat_programming/blob/main/Chap_4_Intro_to_Python.ipynb\" target=\"_parent\"><img src=\"https://colab.research.google.com/assets/colab-badge.svg\" alt=\"Open In Colab\"/></a>"
      ]
    },
    {
      "cell_type": "code",
      "metadata": {
        "scrolled": true,
        "id": "OBfodR4NRVWX",
        "colab": {
          "base_uri": "https://localhost:8080/"
        },
        "outputId": "ef9528ad-bc5c-4c5b-c773-875b0f6095e0"
      },
      "source": [
        "# # is used in comment\n",
        "print(\"Hello world\")\n"
      ],
      "execution_count": 1,
      "outputs": [
        {
          "output_type": "stream",
          "name": "stdout",
          "text": [
            "Hello world\n"
          ]
        }
      ]
    },
    {
      "cell_type": "code",
      "metadata": {
        "id": "eW4FaScgRVWc",
        "colab": {
          "base_uri": "https://localhost:8080/"
        },
        "outputId": "b2e5f06e-1dd8-4a23-eeb8-f4b4bc7fb4b0"
      },
      "source": [
        "# 3 + 5\n",
        "print(3 + 5)\n",
        "\n",
        "# 3 - 5\n",
        "print(3 - 5)\n",
        "\n",
        "# 3 × 5\n",
        "print(3 * 5)\n",
        "\n",
        "# 3 ÷ 5\n",
        "print(3 / 5)\n",
        "\n",
        "print(103 % 5) # 나머지\n",
        "\n",
        "print(3 ** 4)  # 3의 4제곱\n"
      ],
      "execution_count": null,
      "outputs": [
        {
          "output_type": "stream",
          "text": [
            "8\n",
            "-2\n",
            "15\n",
            "0.6\n",
            "3\n",
            "81\n"
          ],
          "name": "stdout"
        }
      ]
    },
    {
      "cell_type": "code",
      "source": [],
      "metadata": {
        "id": "JwalxH4mt91y"
      },
      "execution_count": null,
      "outputs": []
    },
    {
      "cell_type": "code",
      "metadata": {
        "id": "JtRWYahJRVWc",
        "colab": {
          "base_uri": "https://localhost:8080/"
        },
        "outputId": "6f81df5d-eda8-4dd2-dfde-c161f1312d99"
      },
      "source": [
        "n = \"dog\"\n",
        "print(n)\n",
        "\n",
        "n = 14\n",
        "n *= 5 # n = n*5\n",
        "n\n"
      ],
      "execution_count": 2,
      "outputs": [
        {
          "output_type": "stream",
          "name": "stdout",
          "text": [
            "dog\n"
          ]
        },
        {
          "output_type": "execute_result",
          "data": {
            "text/plain": [
              "70"
            ]
          },
          "metadata": {},
          "execution_count": 2
        }
      ]
    },
    {
      "cell_type": "code",
      "metadata": {
        "id": "BWOYd43YRVWd"
      },
      "source": [
        "# cannot use function name as variable name\n",
        "#print = \"Hello\"\n",
        "#print(print) # TypeError: 'str' object is not callable"
      ],
      "execution_count": null,
      "outputs": []
    },
    {
      "cell_type": "code",
      "metadata": {
        "id": "9_MQeKWFRVWe",
        "colab": {
          "base_uri": "https://localhost:8080/"
        },
        "outputId": "5d108483-6d9d-4229-db4e-751d04c22d09"
      },
      "source": [
        "x = 1\n",
        "print(x)\n",
        "x = x + 1\n",
        "print(x)\n"
      ],
      "execution_count": null,
      "outputs": [
        {
          "output_type": "stream",
          "text": [
            "1\n",
            "2\n"
          ],
          "name": "stdout"
        }
      ]
    },
    {
      "cell_type": "code",
      "metadata": {
        "id": "8t_GSvHWRVWe",
        "colab": {
          "base_uri": "https://localhost:8080/"
        },
        "outputId": "eb74a72e-2169-4fc1-e28c-5da45628b1fc"
      },
      "source": [
        "m = \"cat\"\n",
        "print(m)\n",
        "\n",
        "m = \"dog\"\n",
        "print(m)\n",
        "\n",
        "n = 14\n",
        "n *= 5\n",
        "print(n)\n"
      ],
      "execution_count": null,
      "outputs": [
        {
          "output_type": "stream",
          "text": [
            "cat\n",
            "dog\n",
            "70\n"
          ],
          "name": "stdout"
        }
      ]
    },
    {
      "cell_type": "code",
      "metadata": {
        "id": "DvnIXAgPRVWe",
        "colab": {
          "base_uri": "https://localhost:8080/",
          "height": 75
        },
        "outputId": "44da7ad9-d39c-4eff-8786-f38642934767"
      },
      "source": [
        "m = \"Ahn\"\n",
        "print(\"my name \"+ m + \"cool\")\n",
        "\n",
        "\"Ahn\" + \"Jaeyoun\"\n",
        "\"Ahn\" + \" Jaeyoun\"\n"
      ],
      "execution_count": 4,
      "outputs": [
        {
          "output_type": "stream",
          "name": "stdout",
          "text": [
            "my name Ahncool\n"
          ]
        },
        {
          "output_type": "execute_result",
          "data": {
            "text/plain": [
              "'Ahn Jaeyoun'"
            ],
            "application/vnd.google.colaboratory.intrinsic+json": {
              "type": "string"
            }
          },
          "metadata": {},
          "execution_count": 4
        }
      ]
    },
    {
      "cell_type": "code",
      "metadata": {
        "scrolled": true,
        "colab": {
          "base_uri": "https://localhost:8080/",
          "height": 190
        },
        "id": "s-TQHusPRVWf",
        "outputId": "9e18f7c8-2bbb-4f53-9dc6-29ca659653d6"
      },
      "source": [
        "height = 177\n",
        "print(\"my height is\"+ height + \"in cm.\") # \"TypeError: must be str, not int\" \n"
      ],
      "execution_count": null,
      "outputs": [
        {
          "output_type": "error",
          "ename": "TypeError",
          "evalue": "ignored",
          "traceback": [
            "\u001b[0;31m---------------------------------------------------------------------------\u001b[0m",
            "\u001b[0;31mTypeError\u001b[0m                                 Traceback (most recent call last)",
            "\u001b[0;32m<ipython-input-9-3baec249645d>\u001b[0m in \u001b[0;36m<module>\u001b[0;34m()\u001b[0m\n\u001b[1;32m      1\u001b[0m \u001b[0mheight\u001b[0m \u001b[0;34m=\u001b[0m \u001b[0;36m177\u001b[0m\u001b[0;34m\u001b[0m\u001b[0;34m\u001b[0m\u001b[0m\n\u001b[0;32m----> 2\u001b[0;31m \u001b[0mprint\u001b[0m\u001b[0;34m(\u001b[0m\u001b[0;34m\"my height is\"\u001b[0m\u001b[0;34m+\u001b[0m \u001b[0mheight\u001b[0m \u001b[0;34m+\u001b[0m \u001b[0;34m\"in cm.\"\u001b[0m\u001b[0;34m)\u001b[0m \u001b[0;31m# \"TypeError: must be str, not int\"\u001b[0m\u001b[0;34m\u001b[0m\u001b[0;34m\u001b[0m\u001b[0m\n\u001b[0m",
            "\u001b[0;31mTypeError\u001b[0m: can only concatenate str (not \"int\") to str"
          ]
        }
      ]
    },
    {
      "cell_type": "code",
      "source": [
        "height = 177\n",
        "print(\"my height is\"+ \" 177 \" + \"in cm.\") # \"TypeError: must be str, not int\" \n"
      ],
      "metadata": {
        "colab": {
          "base_uri": "https://localhost:8080/"
        },
        "id": "VWmgHJRdvU14",
        "outputId": "57429b49-17f8-4219-fbb4-41beea7c7cfa"
      },
      "execution_count": 7,
      "outputs": [
        {
          "output_type": "stream",
          "name": "stdout",
          "text": [
            "my height is 177 in cm.\n"
          ]
        }
      ]
    },
    {
      "cell_type": "code",
      "metadata": {
        "id": "_mtIykMJRVWf",
        "colab": {
          "base_uri": "https://localhost:8080/"
        },
        "outputId": "181843fd-1367-4698-a405-0009c21470c0"
      },
      "source": [
        "height = 177\n",
        "print(type(height) )\n",
        "\n",
        "height2 =177.0\n",
        "print(type(height2) )"
      ],
      "execution_count": null,
      "outputs": [
        {
          "output_type": "stream",
          "text": [
            "<class 'int'>\n",
            "<class 'float'>\n"
          ],
          "name": "stdout"
        }
      ]
    },
    {
      "cell_type": "code",
      "source": [
        "177 == 177.0"
      ],
      "metadata": {
        "colab": {
          "base_uri": "https://localhost:8080/"
        },
        "id": "uyxuI-mfvoXi",
        "outputId": "94b1b237-1d1a-44c5-cecd-1324414b8ec9"
      },
      "execution_count": 9,
      "outputs": [
        {
          "output_type": "execute_result",
          "data": {
            "text/plain": [
              "True"
            ]
          },
          "metadata": {},
          "execution_count": 9
        }
      ]
    },
    {
      "cell_type": "code",
      "metadata": {
        "scrolled": true,
        "id": "N2_2KRVmRVWg",
        "colab": {
          "base_uri": "https://localhost:8080/"
        },
        "outputId": "1544556c-ff65-4ebd-c810-7e57ab637684"
      },
      "source": [
        "h = 177\n",
        "print(\"height is\" + str(h) + \"in cm.\")\n",
        "\n",
        "str(h)\n",
        "int(str(h))\n"
      ],
      "execution_count": 10,
      "outputs": [
        {
          "output_type": "stream",
          "name": "stdout",
          "text": [
            "height is177in cm.\n"
          ]
        },
        {
          "output_type": "execute_result",
          "data": {
            "text/plain": [
              "177"
            ]
          },
          "metadata": {},
          "execution_count": 10
        }
      ]
    },
    {
      "cell_type": "code",
      "metadata": {
        "id": "CPU3XQEmRVWh",
        "colab": {
          "base_uri": "https://localhost:8080/",
          "height": 75
        },
        "outputId": "29ba2c89-30a9-4348-97c3-d2b2c9920740"
      },
      "source": [
        "greeting = \"yo!\"\n",
        "print(greeting * 2)\n",
        "\n",
        "greeting * 10\n"
      ],
      "execution_count": 11,
      "outputs": [
        {
          "output_type": "stream",
          "name": "stdout",
          "text": [
            "yo!yo!\n"
          ]
        },
        {
          "output_type": "execute_result",
          "data": {
            "text/plain": [
              "'yo!yo!yo!yo!yo!yo!yo!yo!yo!yo!'"
            ],
            "application/vnd.google.colaboratory.intrinsic+json": {
              "type": "string"
            }
          },
          "metadata": {},
          "execution_count": 11
        }
      ]
    },
    {
      "cell_type": "code",
      "metadata": {
        "id": "86cKB1LVRVWh",
        "colab": {
          "base_uri": "https://localhost:8080/"
        },
        "outputId": "21f0f55a-14c9-4773-d4d0-0a638ba7fff4"
      },
      "source": [
        "n = \"10\"\n",
        "print(n * 3)\n"
      ],
      "execution_count": 14,
      "outputs": [
        {
          "output_type": "stream",
          "name": "stdout",
          "text": [
            "101010\n"
          ]
        }
      ]
    },
    {
      "cell_type": "code",
      "metadata": {
        "id": "aU9v4ALRRVWh",
        "colab": {
          "base_uri": "https://localhost:8080/"
        },
        "outputId": "a13e28ba-27ea-4fbf-f7c5-6ef2cb3d759a"
      },
      "source": [
        "print(1 + 1 == 3)"
      ],
      "execution_count": 12,
      "outputs": [
        {
          "output_type": "stream",
          "name": "stdout",
          "text": [
            "False\n"
          ]
        }
      ]
    },
    {
      "cell_type": "code",
      "metadata": {
        "id": "GHiJPzSQRVWh",
        "colab": {
          "base_uri": "https://localhost:8080/"
        },
        "outputId": "6c991533-42b8-465d-e484-431992d9d16c"
      },
      "source": [
        "# \"!=\": not equal\n",
        "print(4 + 6 != -10)\n"
      ],
      "execution_count": 13,
      "outputs": [
        {
          "output_type": "stream",
          "name": "stdout",
          "text": [
            "True\n"
          ]
        }
      ]
    },
    {
      "cell_type": "code",
      "metadata": {
        "id": "If7h5c7uRVWi",
        "colab": {
          "base_uri": "https://localhost:8080/"
        },
        "outputId": "f5bf1390-e5c9-4da0-fc67-d5b204b242b7"
      },
      "source": [
        "n = 2\n",
        "if n == 2: # 땡땡 중요\n",
        "        print(\"your rank is\", n) # n이 2일 때만 표시됩니다\n",
        "        print(\"Hi\"). # 줄이 맞아야 한다\n",
        "print(\"Hello\")\n"
      ],
      "execution_count": 18,
      "outputs": [
        {
          "output_type": "stream",
          "name": "stdout",
          "text": [
            "your rank is 2\n",
            "Hi\n",
            "Hello\n"
          ]
        }
      ]
    },
    {
      "cell_type": "code",
      "source": [
        "n = 3\n",
        "if n == 2: # 땡땡 중요\n",
        "    print(\"your rank is\", n) # n이 2일 때만 표시됩니다\n",
        "    print(\"Hi\")\n",
        "print(\"Hello\")"
      ],
      "metadata": {
        "colab": {
          "base_uri": "https://localhost:8080/"
        },
        "id": "UQhzB-HPwIoU",
        "outputId": "3ea71666-229a-466c-e1f5-e71a16ae4a0b"
      },
      "execution_count": 17,
      "outputs": [
        {
          "output_type": "stream",
          "name": "stdout",
          "text": [
            "Hello\n"
          ]
        }
      ]
    },
    {
      "cell_type": "code",
      "metadata": {
        "id": "sNr9BcpdRVWi",
        "outputId": "f48bacd8-141a-44e6-97dc-8cd391f77bdb",
        "colab": {
          "base_uri": "https://localhost:8080/"
        }
      },
      "source": [
        "n = 5\n",
        "\n",
        "if n > 15 :\n",
        "    print(\"large number\")\n",
        "else:\n",
        "    print(\"small number\")\n",
        "\n",
        "print(\"Hi!\")"
      ],
      "execution_count": 21,
      "outputs": [
        {
          "output_type": "stream",
          "name": "stdout",
          "text": [
            "small number\n",
            "Hi!\n"
          ]
        }
      ]
    },
    {
      "cell_type": "code",
      "metadata": {
        "colab": {
          "base_uri": "https://localhost:8080/"
        },
        "id": "1JTQgv5TRVWj",
        "outputId": "c03d236a-f718-43f9-d980-78b88fba1ce3"
      },
      "source": [
        "number = 5 # 등수\n",
        "\n",
        "if number == 1:\n",
        "    print(\"Gold medal!\")\n",
        "elif number == 2:  # else if = elif\n",
        "    print(\"Silver!\")\n",
        "elif number == 3:\n",
        "    print(\"Bronze!\")\n",
        "else:\n",
        "    print(\"No medal!\")\n",
        "\n",
        "print(\"The end!\")"
      ],
      "execution_count": 23,
      "outputs": [
        {
          "output_type": "stream",
          "name": "stdout",
          "text": [
            "No medal!\n",
            "The end!\n"
          ]
        }
      ]
    },
    {
      "cell_type": "code",
      "metadata": {
        "id": "DDd692gcRVWk",
        "outputId": "09258929-5966-485c-e250-9f624eaddeaa",
        "colab": {
          "base_uri": "https://localhost:8080/"
        }
      },
      "source": [
        "n = 14\n",
        "\n",
        "if n > 15: \n",
        "    print(\"큰 숫자\")\n",
        "elif n >= 11 and n <= 15:\n",
        "    print(\"중간 숫자\")\n",
        "\n",
        "# Example: elif를 사용하여 n이 11 이상 15 이하일 때 \"중간 숫자\"라고 출력하세요\n",
        "\n"
      ],
      "execution_count": 27,
      "outputs": [
        {
          "output_type": "stream",
          "name": "stdout",
          "text": [
            "중간 숫자\n"
          ]
        }
      ]
    },
    {
      "cell_type": "markdown",
      "metadata": {
        "id": "S__vv-fAPQVd"
      },
      "source": [
        "Example 1> Checks if the number is positive (>=), zero or negative (<) and displays an appropriate message using \n",
        "* if and elif.\n",
        "* if and else."
      ]
    },
    {
      "cell_type": "code",
      "metadata": {
        "id": "vQbNC4TYRbpo",
        "colab": {
          "base_uri": "https://localhost:8080/"
        },
        "outputId": "51c00070-d6dd-48a9-edb2-17b5613b844a"
      },
      "source": [
        "n = 50.0\n",
        "if n > 0 :\n",
        "  print(\"positive\")\n",
        "elif n == 0 :  # not n = 0\n",
        "  print(\"zero\")\n",
        "else :  \n",
        "  print(\"negative\")"
      ],
      "execution_count": 26,
      "outputs": [
        {
          "output_type": "stream",
          "name": "stdout",
          "text": [
            "positive\n"
          ]
        }
      ]
    },
    {
      "cell_type": "code",
      "source": [
        "n = -50.0\n",
        "if n > 0:\n",
        "  print(\"positive\")\n",
        "else:\n",
        "  if n == 0:\n",
        "    print(\"zero\")\n",
        "  else:\n",
        "    print(\"negative\")"
      ],
      "metadata": {
        "colab": {
          "base_uri": "https://localhost:8080/"
        },
        "id": "-x24sHSsym_V",
        "outputId": "49fd2a18-a999-4d72-c811-30d9d0c36821"
      },
      "execution_count": 29,
      "outputs": [
        {
          "output_type": "stream",
          "name": "stdout",
          "text": [
            "negative\n"
          ]
        }
      ]
    },
    {
      "cell_type": "code",
      "metadata": {
        "id": "gssi0qGeRVWk",
        "colab": {
          "base_uri": "https://localhost:8080/"
        },
        "outputId": "03f9644b-02e3-4d88-c5e2-ca90595d27a9"
      },
      "source": [
        "# Multiple condition: use \"and\"\n",
        "print((15 > 8) & (16 < 14))  # True and False --> False\n",
        "print((15 > 8) and (16 < 14))  # True and False --> False\n",
        "print(not 14 < 15) # not True --> False\n"
      ],
      "execution_count": 30,
      "outputs": [
        {
          "output_type": "stream",
          "name": "stdout",
          "text": [
            "False\n",
            "False\n",
            "False\n"
          ]
        }
      ]
    },
    {
      "cell_type": "markdown",
      "metadata": {
        "id": "bI_AbgAkPvwh"
      },
      "source": [
        "Example 2: program that grants access only to kids aged between 8-12 using if and else."
      ]
    },
    {
      "cell_type": "code",
      "metadata": {
        "id": "fDjSsNXHUBMA",
        "colab": {
          "base_uri": "https://localhost:8080/"
        },
        "outputId": "c08cbdd8-7514-4265-bbdc-e946f4682571"
      },
      "source": [
        "age = 8\n",
        "if age >= 8 and age <=12:\n",
        "  print(\"access granted\")\n",
        "else: \n",
        "  print(\"access not granted\")"
      ],
      "execution_count": 31,
      "outputs": [
        {
          "output_type": "stream",
          "name": "stdout",
          "text": [
            "access granted\n"
          ]
        }
      ]
    },
    {
      "cell_type": "code",
      "source": [
        "age = 11\n",
        "if age <=12 & age >= 8:\n",
        "  print(\"access granted\")\n",
        "else: \n",
        "  print(\"access not granted\")"
      ],
      "metadata": {
        "colab": {
          "base_uri": "https://localhost:8080/"
        },
        "id": "nrxEAXpFz3zG",
        "outputId": "2fe696d9-37b3-40ca-afbf-d308ca19e114"
      },
      "execution_count": 34,
      "outputs": [
        {
          "output_type": "stream",
          "name": "stdout",
          "text": [
            "access not granted\n"
          ]
        }
      ]
    },
    {
      "cell_type": "code",
      "source": [
        "age = 11\n",
        "if (age <=12) & (age >= 8):\n",
        "  print(\"access granted\")\n",
        "else: \n",
        "  print(\"access not granted\")"
      ],
      "metadata": {
        "colab": {
          "base_uri": "https://localhost:8080/"
        },
        "id": "AlAuN3hi0FyM",
        "outputId": "9f0bc2f1-d9c3-4acc-97f7-46817ed3254e"
      },
      "execution_count": 35,
      "outputs": [
        {
          "output_type": "stream",
          "name": "stdout",
          "text": [
            "access granted\n"
          ]
        }
      ]
    },
    {
      "cell_type": "markdown",
      "metadata": {
        "id": "dKTGm79QUDpo"
      },
      "source": [
        "* Difference between \"&\" and \"and\""
      ]
    },
    {
      "cell_type": "code",
      "metadata": {
        "id": "8p6rguXxRQLE"
      },
      "source": [
        "import numpy as np"
      ],
      "execution_count": null,
      "outputs": []
    },
    {
      "cell_type": "code",
      "metadata": {
        "colab": {
          "base_uri": "https://localhost:8080/"
        },
        "id": "_MmplcQxQXC5",
        "outputId": "447cea76-efb6-4d6a-b0cc-f19c380757a0"
      },
      "source": [
        "a = np.array([True, True])\n",
        "b = np.array([True, False])\n",
        "  \n",
        "#print(b and a) # print_stat1\n",
        "print(b & a) # print_stat2"
      ],
      "execution_count": null,
      "outputs": [
        {
          "output_type": "stream",
          "text": [
            "[ True False]\n"
          ],
          "name": "stdout"
        }
      ]
    },
    {
      "cell_type": "markdown",
      "metadata": {
        "id": "rZR4xoQtYwTe"
      },
      "source": [
        "# Function\n",
        "\n",
        "* A function is a block of code which only runs when it is called.\n",
        "\n",
        "* You can pass data, known as parameters, into a function.\n",
        "\n",
        "* A function can return data as a result."
      ]
    },
    {
      "cell_type": "code",
      "metadata": {
        "id": "NrH2cDObRVWl"
      },
      "source": [
        "# Creating function\n",
        "\n",
        "def my_function():\n",
        "  print(\"Hello from a function\")"
      ],
      "execution_count": null,
      "outputs": []
    },
    {
      "cell_type": "code",
      "metadata": {
        "colab": {
          "base_uri": "https://localhost:8080/"
        },
        "id": "KlqJQUxUZH-l",
        "outputId": "f3e47a17-29cb-4241-c63e-888c06508f32"
      },
      "source": [
        "my_function()"
      ],
      "execution_count": null,
      "outputs": [
        {
          "output_type": "stream",
          "text": [
            "Hello from a function\n"
          ],
          "name": "stdout"
        }
      ]
    },
    {
      "cell_type": "code",
      "metadata": {
        "id": "j4orQglFZJdR"
      },
      "source": [
        "# argument and return in function\n",
        "def my_function2( my_num):\n",
        "  temp = my_num*10+5\n",
        "  return temp"
      ],
      "execution_count": null,
      "outputs": []
    },
    {
      "cell_type": "code",
      "metadata": {
        "colab": {
          "base_uri": "https://localhost:8080/"
        },
        "id": "hK1PF5HMZMjN",
        "outputId": "5c521750-1343-43a8-c0fe-756e3f68e883"
      },
      "source": [
        "my_function2(10)"
      ],
      "execution_count": null,
      "outputs": [
        {
          "output_type": "execute_result",
          "data": {
            "text/plain": [
              "105"
            ]
          },
          "metadata": {
            "tags": []
          },
          "execution_count": 46
        }
      ]
    },
    {
      "cell_type": "code",
      "metadata": {
        "id": "FdSGpnUNZguR"
      },
      "source": [
        "# Default parameter and multiple parameters\n",
        "def my_function3(first=10, second=2):\n",
        "  two_mul = first*second\n",
        "  return two_mul"
      ],
      "execution_count": null,
      "outputs": []
    },
    {
      "cell_type": "code",
      "metadata": {
        "colab": {
          "base_uri": "https://localhost:8080/"
        },
        "id": "XhG4n-FqaEAd",
        "outputId": "6ffaef0d-0a58-42e8-fc33-01a75e96aa22"
      },
      "source": [
        "my_function3(2,5)"
      ],
      "execution_count": null,
      "outputs": [
        {
          "output_type": "execute_result",
          "data": {
            "text/plain": [
              "10"
            ]
          },
          "metadata": {
            "tags": []
          },
          "execution_count": 51
        }
      ]
    },
    {
      "cell_type": "code",
      "metadata": {
        "colab": {
          "base_uri": "https://localhost:8080/"
        },
        "id": "tl9I34i0aFv0",
        "outputId": "734bfeb5-3392-46f4-8c60-88336d3daefc"
      },
      "source": [
        "my_function3(second=10)"
      ],
      "execution_count": null,
      "outputs": [
        {
          "output_type": "execute_result",
          "data": {
            "text/plain": [
              "100"
            ]
          },
          "metadata": {
            "tags": []
          },
          "execution_count": 53
        }
      ]
    },
    {
      "cell_type": "markdown",
      "metadata": {
        "id": "COMmLzDXdMvT"
      },
      "source": [
        "# Class"
      ]
    },
    {
      "cell_type": "code",
      "metadata": {
        "id": "tVLZ1RZ4cb_m"
      },
      "source": [
        "class Dog:\n",
        "     \n",
        "    # A simple class\n",
        "    # attribute\n",
        "    height = 3\n",
        "    weight = 5\n",
        " \n",
        "    # A sample method \n",
        "    def bark(self):\n",
        "        print(\"My height is\", self.height)\n",
        "        print(\"My weight is\", self.weight)\n",
        "    def eat(self):\n",
        "        self.height = self.height+1\n",
        "        self.weight = self.weight+1\n",
        " \n"
      ],
      "execution_count": null,
      "outputs": []
    },
    {
      "cell_type": "code",
      "metadata": {
        "id": "zmHo1l7fd1Mn"
      },
      "source": [
        "# Object instantiation\n",
        "Poppy = Dog()\n",
        " \n"
      ],
      "execution_count": null,
      "outputs": []
    },
    {
      "cell_type": "code",
      "metadata": {
        "colab": {
          "base_uri": "https://localhost:8080/"
        },
        "id": "4v8sRjEud1qi",
        "outputId": "9860899b-880a-4c17-b86b-46b6e29475d5"
      },
      "source": [
        "# Accessing class attributes\n",
        "print(Poppy.height, Poppy.weight)\n",
        "Poppy"
      ],
      "execution_count": null,
      "outputs": [
        {
          "output_type": "stream",
          "text": [
            "3 5\n"
          ],
          "name": "stdout"
        },
        {
          "output_type": "execute_result",
          "data": {
            "text/plain": [
              "<__main__.Dog at 0x7fed5bf3e650>"
            ]
          },
          "metadata": {
            "tags": []
          },
          "execution_count": 90
        }
      ]
    },
    {
      "cell_type": "code",
      "metadata": {
        "colab": {
          "base_uri": "https://localhost:8080/"
        },
        "id": "QjWKkgXzf00u",
        "outputId": "90d6aff0-5e01-435d-d15d-ddded1871c43"
      },
      "source": [
        "Poppy.bark()"
      ],
      "execution_count": null,
      "outputs": [
        {
          "output_type": "stream",
          "text": [
            "My height is 3\n",
            "My weight is 5\n"
          ],
          "name": "stdout"
        }
      ]
    },
    {
      "cell_type": "code",
      "metadata": {
        "id": "aqIShTjofnOi"
      },
      "source": [
        "Poppy.eat()"
      ],
      "execution_count": null,
      "outputs": []
    },
    {
      "cell_type": "code",
      "metadata": {
        "colab": {
          "base_uri": "https://localhost:8080/"
        },
        "id": "DoiWPWQSf3l8",
        "outputId": "81b6e01e-a218-4683-e923-70c30ed399d1"
      },
      "source": [
        "Poppy.bark()"
      ],
      "execution_count": null,
      "outputs": [
        {
          "output_type": "stream",
          "text": [
            "My height is 4\n",
            "My weight is 6\n"
          ],
          "name": "stdout"
        }
      ]
    },
    {
      "cell_type": "markdown",
      "metadata": {
        "id": "k04BLlUkggAM"
      },
      "source": [
        "## The self\n",
        "Class methods must have an extra first parameter in the method definition. We do not give a value for this parameter when we call the method, Python provides it.\n",
        "\n",
        "If we have a method that takes no arguments, then we still have to have one argument."
      ]
    },
    {
      "cell_type": "code",
      "metadata": {
        "id": "AuCdoH7afe83"
      },
      "source": [
        "class Dog:\n",
        "     \n",
        "    # A sample method \n",
        "    def create(self, inp_height, inp_weight):\n",
        "        self.height=inp_height\n",
        "        self.weight=inp_weight\n",
        "    def bark(self):\n",
        "        print(\"My height is\", self.height)\n",
        "        print(\"My weight is\", self.weight)\n",
        "    def eat(self):\n",
        "        self.height = self.height+1\n",
        "        self.weight = self.weight+1\n",
        " \n"
      ],
      "execution_count": null,
      "outputs": []
    },
    {
      "cell_type": "code",
      "metadata": {
        "colab": {
          "base_uri": "https://localhost:8080/"
        },
        "id": "m15k4qnsd_E-",
        "outputId": "51a9e62c-6bd5-4ab3-b5b3-3da20302b5ae"
      },
      "source": [
        "# and method through objects\n",
        "Poppy = Dog()\n",
        "Poppy.create(10,20)\n",
        "Poppy.bark()"
      ],
      "execution_count": null,
      "outputs": [
        {
          "output_type": "stream",
          "text": [
            "My height is 10\n",
            "My weight is 20\n"
          ],
          "name": "stdout"
        }
      ]
    },
    {
      "cell_type": "markdown",
      "metadata": {
        "id": "pw3jozO-ejbZ"
      },
      "source": []
    },
    {
      "cell_type": "markdown",
      "metadata": {
        "id": "tljBsBmhexAG"
      },
      "source": [
        "## __init__ method\n",
        "The __init__ method is a constructor. Constructors are used to initializing the object’s state. Like methods, a constructor also contains a collection of statements(i.e. instructions) that are executed at the time of Object creation. It runs as soon as an object of a class is instantiated. The method is useful to do any initialization you want to do with your object.\n",
        "\n"
      ]
    },
    {
      "cell_type": "code",
      "metadata": {
        "id": "NQnrqdPjgjgw"
      },
      "source": [
        "class Dog:\n",
        "     \n",
        "    # A sample method \n",
        "    def __init__(self, inp_height, inp_weight):\n",
        "        self.height=inp_height\n",
        "        self.weight=inp_weight\n",
        "    def bark(self):\n",
        "        print(\"My height is\", self.height)\n",
        "        print(\"My weight is\", self.weight)\n",
        "    def eat(self):\n",
        "        self.height = self.height+1\n",
        "        self.weight = self.weight+1\n",
        " \n"
      ],
      "execution_count": null,
      "outputs": []
    },
    {
      "cell_type": "code",
      "metadata": {
        "colab": {
          "base_uri": "https://localhost:8080/"
        },
        "id": "1xpn5BKVgqXS",
        "outputId": "f87ce8ff-d294-435d-fcb7-4c47b17a86e8"
      },
      "source": [
        "Poppy = Dog(10,10)\n",
        "Poppy.bark()"
      ],
      "execution_count": null,
      "outputs": [
        {
          "output_type": "stream",
          "text": [
            "My height is 10\n",
            "My weight is 10\n"
          ],
          "name": "stdout"
        }
      ]
    },
    {
      "cell_type": "markdown",
      "metadata": {
        "id": "CVqnMuN8il1X"
      },
      "source": [
        "# Python Iterators\n",
        "* An iterator is an object that contains a countable number of values.\n",
        "*Lists, tuples, dictionaries, and sets are all iterable objects. They are iterable containers which you can get an iterator from.\n",
        "\n",
        "* All these objects have a iter() method which is used to get an iterator:"
      ]
    },
    {
      "cell_type": "code",
      "metadata": {
        "id": "cx0NaHkvgtfO"
      },
      "source": [
        "mytuple = (\"apple\", \"banana\", \"cherry\")\n",
        "myit = iter(mytuple)\n",
        "\n",
        "# print(next(myit))\n",
        "# print(next(myit))\n",
        "# print(next(myit))"
      ],
      "execution_count": null,
      "outputs": []
    },
    {
      "cell_type": "code",
      "metadata": {
        "id": "xO-g49aAjIiS",
        "colab": {
          "base_uri": "https://localhost:8080/"
        },
        "outputId": "05adf5a5-1e0e-4e20-ee0c-57aeb72466e7"
      },
      "source": [
        "for x in myit:\n",
        "  print(x)"
      ],
      "execution_count": null,
      "outputs": [
        {
          "output_type": "stream",
          "name": "stdout",
          "text": [
            "apple\n",
            "banana\n",
            "cherry\n"
          ]
        }
      ]
    },
    {
      "cell_type": "code",
      "metadata": {
        "id": "tiCvAuui-S2Z"
      },
      "source": [
        "for x in myit:\n",
        "  print(x)"
      ],
      "execution_count": null,
      "outputs": []
    },
    {
      "cell_type": "code",
      "metadata": {
        "id": "ILI0tsFW-ZU5"
      },
      "source": [],
      "execution_count": null,
      "outputs": []
    }
  ]
}